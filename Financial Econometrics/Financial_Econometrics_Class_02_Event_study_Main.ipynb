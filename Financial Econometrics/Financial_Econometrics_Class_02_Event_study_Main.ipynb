{
 "cells": [
  {
   "cell_type": "markdown",
   "metadata": {},
   "source": [
    "# International College of Economics and Finance "
   ]
  },
  {
   "cell_type": "markdown",
   "metadata": {},
   "source": [
    "# Financial Econometrics. Class 02"
   ]
  },
  {
   "cell_type": "markdown",
   "metadata": {},
   "source": [
    "## Event-studies"
   ]
  },
  {
   "cell_type": "markdown",
   "metadata": {},
   "source": [
    "- Howto: An Example with Data Preparation\n",
    "- Dr. Simon Müller\n",
    "- [source](https://cran.r-project.org/web/packages/EventStudy/vignettes/howto_eventstudy.html)"
   ]
  },
  {
   "cell_type": "markdown",
   "metadata": {},
   "source": [
    "### Overview"
   ]
  },
  {
   "cell_type": "markdown",
   "metadata": {},
   "source": [
    "Today we are will see how to do an event study in R based on the Dieselgate scandal. The Volkswagen emissions scandal (also called “emissionsgate” or “dieselgate”) began in September 2015, when the United States Environmental Protection Agency (EP A) issued a notice of violation of the Clean Air Act to German automaker Volkswagen Group"
   ]
  },
  {
   "cell_type": "code",
   "execution_count": 1,
   "metadata": {
    "ExecuteTime": {
     "end_time": "2020-09-26T14:32:20.451886Z",
     "start_time": "2020-09-26T14:32:19.707Z"
    },
    "scrolled": true
   },
   "outputs": [
    {
     "name": "stderr",
     "output_type": "stream",
     "text": [
      "Loading required package: zoo\n",
      "\n",
      "Attaching package: 'zoo'\n",
      "\n",
      "The following objects are masked from 'package:base':\n",
      "\n",
      "    as.Date, as.Date.numeric\n",
      "\n",
      "Loading required package: lubridate\n",
      "\n",
      "Attaching package: 'lubridate'\n",
      "\n",
      "The following object is masked from 'package:base':\n",
      "\n",
      "    date\n",
      "\n",
      "Loading required package: PerformanceAnalytics\n",
      "\n",
      "Attaching package: 'PerformanceAnalytics'\n",
      "\n",
      "The following object is masked from 'package:graphics':\n",
      "\n",
      "    legend\n",
      "\n",
      "Loading required package: quantmod\n",
      "Loading required package: TTR\n",
      "Registered S3 method overwritten by 'quantmod':\n",
      "  method            from\n",
      "  as.zoo.data.frame zoo \n",
      "Version 0.4-0 included new data defaults. See ?getSymbols.\n",
      "== Need to Learn tidyquant? ====================================================\n",
      "Business Science offers a 1-hour course - Learning Lab #9: Performance Analysis & Portfolio Optimization with tidyquant!\n",
      "</> Learn more at: https://university.business-science.io/p/learning-labs-pro </>\n",
      "\n",
      "Attaching package: 'dplyr'\n",
      "\n",
      "The following objects are masked from 'package:lubridate':\n",
      "\n",
      "    intersect, setdiff, union\n",
      "\n",
      "The following objects are masked from 'package:xts':\n",
      "\n",
      "    first, last\n",
      "\n",
      "The following objects are masked from 'package:stats':\n",
      "\n",
      "    filter, lag\n",
      "\n",
      "The following objects are masked from 'package:base':\n",
      "\n",
      "    intersect, setdiff, setequal, union\n",
      "\n"
     ]
    },
    {
     "data": {
      "text/html": [
       "'C'"
      ],
      "text/latex": [
       "'C'"
      ],
      "text/markdown": [
       "'C'"
      ],
      "text/plain": [
       "[1] \"C\""
      ]
     },
     "metadata": {},
     "output_type": "display_data"
    }
   ],
   "source": [
    "options(warn = -1)\n",
    "library(xts)\n",
    "library(tidyquant)\n",
    "library(dplyr)\n",
    "library(readr)\n",
    "Sys.setlocale(\"LC_TIME\", \"C\")"
   ]
  },
  {
   "cell_type": "markdown",
   "metadata": {},
   "source": [
    "### Some descriptive statistics example"
   ]
  },
  {
   "cell_type": "code",
   "execution_count": 2,
   "metadata": {
    "ExecuteTime": {
     "end_time": "2020-09-26T14:32:20.635891Z",
     "start_time": "2020-09-26T14:32:19.874Z"
    }
   },
   "outputs": [],
   "source": [
    "# some example dataframe\n",
    "?mtcars"
   ]
  },
  {
   "cell_type": "code",
   "execution_count": 3,
   "metadata": {
    "ExecuteTime": {
     "end_time": "2020-09-26T14:32:20.659886Z",
     "start_time": "2020-09-26T14:32:19.877Z"
    }
   },
   "outputs": [],
   "source": [
    "# let's save our data to a new variable\n",
    "df <- mtcars"
   ]
  },
  {
   "cell_type": "code",
   "execution_count": 4,
   "metadata": {
    "ExecuteTime": {
     "end_time": "2020-09-26T14:32:20.696885Z",
     "start_time": "2020-09-26T14:32:19.881Z"
    }
   },
   "outputs": [
    {
     "data": {
      "text/html": [
       "<table>\n",
       "<caption>A data.frame: 6 × 11</caption>\n",
       "<thead>\n",
       "\t<tr><th></th><th scope=col>mpg</th><th scope=col>cyl</th><th scope=col>disp</th><th scope=col>hp</th><th scope=col>drat</th><th scope=col>wt</th><th scope=col>qsec</th><th scope=col>vs</th><th scope=col>am</th><th scope=col>gear</th><th scope=col>carb</th></tr>\n",
       "\t<tr><th></th><th scope=col>&lt;dbl&gt;</th><th scope=col>&lt;dbl&gt;</th><th scope=col>&lt;dbl&gt;</th><th scope=col>&lt;dbl&gt;</th><th scope=col>&lt;dbl&gt;</th><th scope=col>&lt;dbl&gt;</th><th scope=col>&lt;dbl&gt;</th><th scope=col>&lt;dbl&gt;</th><th scope=col>&lt;dbl&gt;</th><th scope=col>&lt;dbl&gt;</th><th scope=col>&lt;dbl&gt;</th></tr>\n",
       "</thead>\n",
       "<tbody>\n",
       "\t<tr><th scope=row>Mazda RX4</th><td>21.0</td><td>6</td><td>160</td><td>110</td><td>3.90</td><td>2.620</td><td>16.46</td><td>0</td><td>1</td><td>4</td><td>4</td></tr>\n",
       "\t<tr><th scope=row>Mazda RX4 Wag</th><td>21.0</td><td>6</td><td>160</td><td>110</td><td>3.90</td><td>2.875</td><td>17.02</td><td>0</td><td>1</td><td>4</td><td>4</td></tr>\n",
       "\t<tr><th scope=row>Datsun 710</th><td>22.8</td><td>4</td><td>108</td><td> 93</td><td>3.85</td><td>2.320</td><td>18.61</td><td>1</td><td>1</td><td>4</td><td>1</td></tr>\n",
       "\t<tr><th scope=row>Hornet 4 Drive</th><td>21.4</td><td>6</td><td>258</td><td>110</td><td>3.08</td><td>3.215</td><td>19.44</td><td>1</td><td>0</td><td>3</td><td>1</td></tr>\n",
       "\t<tr><th scope=row>Hornet Sportabout</th><td>18.7</td><td>8</td><td>360</td><td>175</td><td>3.15</td><td>3.440</td><td>17.02</td><td>0</td><td>0</td><td>3</td><td>2</td></tr>\n",
       "\t<tr><th scope=row>Valiant</th><td>18.1</td><td>6</td><td>225</td><td>105</td><td>2.76</td><td>3.460</td><td>20.22</td><td>1</td><td>0</td><td>3</td><td>1</td></tr>\n",
       "</tbody>\n",
       "</table>\n"
      ],
      "text/latex": [
       "A data.frame: 6 × 11\n",
       "\\begin{tabular}{r|lllllllllll}\n",
       "  & mpg & cyl & disp & hp & drat & wt & qsec & vs & am & gear & carb\\\\\n",
       "  & <dbl> & <dbl> & <dbl> & <dbl> & <dbl> & <dbl> & <dbl> & <dbl> & <dbl> & <dbl> & <dbl>\\\\\n",
       "\\hline\n",
       "\tMazda RX4 & 21.0 & 6 & 160 & 110 & 3.90 & 2.620 & 16.46 & 0 & 1 & 4 & 4\\\\\n",
       "\tMazda RX4 Wag & 21.0 & 6 & 160 & 110 & 3.90 & 2.875 & 17.02 & 0 & 1 & 4 & 4\\\\\n",
       "\tDatsun 710 & 22.8 & 4 & 108 &  93 & 3.85 & 2.320 & 18.61 & 1 & 1 & 4 & 1\\\\\n",
       "\tHornet 4 Drive & 21.4 & 6 & 258 & 110 & 3.08 & 3.215 & 19.44 & 1 & 0 & 3 & 1\\\\\n",
       "\tHornet Sportabout & 18.7 & 8 & 360 & 175 & 3.15 & 3.440 & 17.02 & 0 & 0 & 3 & 2\\\\\n",
       "\tValiant & 18.1 & 6 & 225 & 105 & 2.76 & 3.460 & 20.22 & 1 & 0 & 3 & 1\\\\\n",
       "\\end{tabular}\n"
      ],
      "text/markdown": [
       "\n",
       "A data.frame: 6 × 11\n",
       "\n",
       "| <!--/--> | mpg &lt;dbl&gt; | cyl &lt;dbl&gt; | disp &lt;dbl&gt; | hp &lt;dbl&gt; | drat &lt;dbl&gt; | wt &lt;dbl&gt; | qsec &lt;dbl&gt; | vs &lt;dbl&gt; | am &lt;dbl&gt; | gear &lt;dbl&gt; | carb &lt;dbl&gt; |\n",
       "|---|---|---|---|---|---|---|---|---|---|---|---|\n",
       "| Mazda RX4 | 21.0 | 6 | 160 | 110 | 3.90 | 2.620 | 16.46 | 0 | 1 | 4 | 4 |\n",
       "| Mazda RX4 Wag | 21.0 | 6 | 160 | 110 | 3.90 | 2.875 | 17.02 | 0 | 1 | 4 | 4 |\n",
       "| Datsun 710 | 22.8 | 4 | 108 |  93 | 3.85 | 2.320 | 18.61 | 1 | 1 | 4 | 1 |\n",
       "| Hornet 4 Drive | 21.4 | 6 | 258 | 110 | 3.08 | 3.215 | 19.44 | 1 | 0 | 3 | 1 |\n",
       "| Hornet Sportabout | 18.7 | 8 | 360 | 175 | 3.15 | 3.440 | 17.02 | 0 | 0 | 3 | 2 |\n",
       "| Valiant | 18.1 | 6 | 225 | 105 | 2.76 | 3.460 | 20.22 | 1 | 0 | 3 | 1 |\n",
       "\n"
      ],
      "text/plain": [
       "                  mpg  cyl disp hp  drat wt    qsec  vs am gear carb\n",
       "Mazda RX4         21.0 6   160  110 3.90 2.620 16.46 0  1  4    4   \n",
       "Mazda RX4 Wag     21.0 6   160  110 3.90 2.875 17.02 0  1  4    4   \n",
       "Datsun 710        22.8 4   108   93 3.85 2.320 18.61 1  1  4    1   \n",
       "Hornet 4 Drive    21.4 6   258  110 3.08 3.215 19.44 1  0  3    1   \n",
       "Hornet Sportabout 18.7 8   360  175 3.15 3.440 17.02 0  0  3    2   \n",
       "Valiant           18.1 6   225  105 2.76 3.460 20.22 1  0  3    1   "
      ]
     },
     "metadata": {},
     "output_type": "display_data"
    }
   ],
   "source": [
    "head(df)"
   ]
  },
  {
   "cell_type": "code",
   "execution_count": 5,
   "metadata": {
    "ExecuteTime": {
     "end_time": "2020-09-26T14:32:20.732885Z",
     "start_time": "2020-09-26T14:32:19.884Z"
    }
   },
   "outputs": [
    {
     "name": "stdout",
     "output_type": "stream",
     "text": [
      "'data.frame':\t32 obs. of  11 variables:\n",
      " $ mpg : num  21 21 22.8 21.4 18.7 18.1 14.3 24.4 22.8 19.2 ...\n",
      " $ cyl : num  6 6 4 6 8 6 8 4 4 6 ...\n",
      " $ disp: num  160 160 108 258 360 ...\n",
      " $ hp  : num  110 110 93 110 175 105 245 62 95 123 ...\n",
      " $ drat: num  3.9 3.9 3.85 3.08 3.15 2.76 3.21 3.69 3.92 3.92 ...\n",
      " $ wt  : num  2.62 2.88 2.32 3.21 3.44 ...\n",
      " $ qsec: num  16.5 17 18.6 19.4 17 ...\n",
      " $ vs  : num  0 0 1 1 0 1 0 1 1 1 ...\n",
      " $ am  : num  1 1 1 0 0 0 0 0 0 0 ...\n",
      " $ gear: num  4 4 4 3 3 3 3 4 4 4 ...\n",
      " $ carb: num  4 4 1 1 2 1 4 2 2 4 ...\n"
     ]
    }
   ],
   "source": [
    "# let's look at structure of our data frame\n",
    "str(df)"
   ]
  },
  {
   "cell_type": "markdown",
   "metadata": {},
   "source": [
    "- So, the columns `vs` and `am` are considered to by numeric. This is not that good as they are clearly boolean\n",
    "- Its is not a big problem, but still"
   ]
  },
  {
   "cell_type": "code",
   "execution_count": 6,
   "metadata": {
    "ExecuteTime": {
     "end_time": "2020-09-26T14:32:20.760886Z",
     "start_time": "2020-09-26T14:32:19.920Z"
    }
   },
   "outputs": [],
   "source": [
    "df$vs <- factor(df$vs, labels = c('V', 'S'))\n",
    "df$am  <- factor(df$am, labels = c('Auto', 'Manual'))"
   ]
  },
  {
   "cell_type": "code",
   "execution_count": 7,
   "metadata": {
    "ExecuteTime": {
     "end_time": "2020-09-26T14:32:20.796889Z",
     "start_time": "2020-09-26T14:32:19.923Z"
    }
   },
   "outputs": [
    {
     "name": "stdout",
     "output_type": "stream",
     "text": [
      "'data.frame':\t32 obs. of  11 variables:\n",
      " $ mpg : num  21 21 22.8 21.4 18.7 18.1 14.3 24.4 22.8 19.2 ...\n",
      " $ cyl : num  6 6 4 6 8 6 8 4 4 6 ...\n",
      " $ disp: num  160 160 108 258 360 ...\n",
      " $ hp  : num  110 110 93 110 175 105 245 62 95 123 ...\n",
      " $ drat: num  3.9 3.9 3.85 3.08 3.15 2.76 3.21 3.69 3.92 3.92 ...\n",
      " $ wt  : num  2.62 2.88 2.32 3.21 3.44 ...\n",
      " $ qsec: num  16.5 17 18.6 19.4 17 ...\n",
      " $ vs  : Factor w/ 2 levels \"V\",\"S\": 1 1 2 2 1 2 1 2 2 2 ...\n",
      " $ am  : Factor w/ 2 levels \"Auto\",\"Manual\": 2 2 2 1 1 1 1 1 1 1 ...\n",
      " $ gear: num  4 4 4 3 3 3 3 4 4 4 ...\n",
      " $ carb: num  4 4 1 1 2 1 4 2 2 4 ...\n"
     ]
    }
   ],
   "source": [
    "str(df)"
   ]
  },
  {
   "cell_type": "markdown",
   "metadata": {},
   "source": [
    "- As for descriptive statistics, most of them are built in functions"
   ]
  },
  {
   "cell_type": "code",
   "execution_count": 8,
   "metadata": {
    "ExecuteTime": {
     "end_time": "2020-09-26T14:32:20.823885Z",
     "start_time": "2020-09-26T14:32:19.958Z"
    }
   },
   "outputs": [
    {
     "data": {
      "text/html": [
       "19.2"
      ],
      "text/latex": [
       "19.2"
      ],
      "text/markdown": [
       "19.2"
      ],
      "text/plain": [
       "[1] 19.2"
      ]
     },
     "metadata": {},
     "output_type": "display_data"
    },
    {
     "data": {
      "text/html": [
       "20.090625"
      ],
      "text/latex": [
       "20.090625"
      ],
      "text/markdown": [
       "20.090625"
      ],
      "text/plain": [
       "[1] 20.09062"
      ]
     },
     "metadata": {},
     "output_type": "display_data"
    },
    {
     "data": {
      "text/html": [
       "6.0269480520891"
      ],
      "text/latex": [
       "6.0269480520891"
      ],
      "text/markdown": [
       "6.0269480520891"
      ],
      "text/plain": [
       "[1] 6.026948"
      ]
     },
     "metadata": {},
     "output_type": "display_data"
    }
   ],
   "source": [
    "median(df$mpg); mean(df$mpg); sd(df$mpg)"
   ]
  },
  {
   "cell_type": "code",
   "execution_count": 9,
   "metadata": {
    "ExecuteTime": {
     "end_time": "2020-09-26T14:32:20.845888Z",
     "start_time": "2020-09-26T14:32:19.962Z"
    }
   },
   "outputs": [
    {
     "data": {
      "text/html": [
       "20.5666666666667"
      ],
      "text/latex": [
       "20.5666666666667"
      ],
      "text/markdown": [
       "20.5666666666667"
      ],
      "text/plain": [
       "[1] 20.56667"
      ]
     },
     "metadata": {},
     "output_type": "display_data"
    }
   ],
   "source": [
    "mean(df$mpg[df$cyl == 6 & df$vs == 'V'])"
   ]
  },
  {
   "cell_type": "code",
   "execution_count": 10,
   "metadata": {
    "ExecuteTime": {
     "end_time": "2020-09-26T14:32:20.876923Z",
     "start_time": "2020-09-26T14:32:19.965Z"
    }
   },
   "outputs": [
    {
     "data": {
      "text/html": [
       "17.0727272727273"
      ],
      "text/latex": [
       "17.0727272727273"
      ],
      "text/markdown": [
       "17.0727272727273"
      ],
      "text/plain": [
       "[1] 17.07273"
      ]
     },
     "metadata": {},
     "output_type": "display_data"
    }
   ],
   "source": [
    "mean(df$mpg[df$cyl == 6 | df$vs == 'V'])"
   ]
  },
  {
   "cell_type": "code",
   "execution_count": 11,
   "metadata": {
    "ExecuteTime": {
     "end_time": "2020-09-26T14:32:20.903889Z",
     "start_time": "2020-09-26T14:32:19.968Z"
    }
   },
   "outputs": [
    {
     "data": {
      "text/html": [
       "<table>\n",
       "<caption>A data.frame: 2 × 2</caption>\n",
       "<thead>\n",
       "\t<tr><th scope=col>Group.1</th><th scope=col>x</th></tr>\n",
       "\t<tr><th scope=col>&lt;fct&gt;</th><th scope=col>&lt;dbl&gt;</th></tr>\n",
       "</thead>\n",
       "<tbody>\n",
       "\t<tr><td>V</td><td>189.72222</td></tr>\n",
       "\t<tr><td>S</td><td> 91.35714</td></tr>\n",
       "</tbody>\n",
       "</table>\n"
      ],
      "text/latex": [
       "A data.frame: 2 × 2\n",
       "\\begin{tabular}{ll}\n",
       " Group.1 & x\\\\\n",
       " <fct> & <dbl>\\\\\n",
       "\\hline\n",
       "\t V & 189.72222\\\\\n",
       "\t S &  91.35714\\\\\n",
       "\\end{tabular}\n"
      ],
      "text/markdown": [
       "\n",
       "A data.frame: 2 × 2\n",
       "\n",
       "| Group.1 &lt;fct&gt; | x &lt;dbl&gt; |\n",
       "|---|---|\n",
       "| V | 189.72222 |\n",
       "| S |  91.35714 |\n",
       "\n"
      ],
      "text/plain": [
       "  Group.1 x        \n",
       "1 V       189.72222\n",
       "2 S        91.35714"
      ]
     },
     "metadata": {},
     "output_type": "display_data"
    }
   ],
   "source": [
    "aggregate(x = df$hp, by = list(df$vs), FUN = mean)"
   ]
  },
  {
   "cell_type": "code",
   "execution_count": 12,
   "metadata": {
    "ExecuteTime": {
     "end_time": "2020-09-26T14:32:20.945890Z",
     "start_time": "2020-09-26T14:32:19.970Z"
    }
   },
   "outputs": [],
   "source": [
    "mean_hp_vs <- aggregate(x = df$hp, by = list(df$vs), FUN = mean)"
   ]
  },
  {
   "cell_type": "code",
   "execution_count": 13,
   "metadata": {
    "ExecuteTime": {
     "end_time": "2020-09-26T14:32:20.977886Z",
     "start_time": "2020-09-26T14:32:19.974Z"
    }
   },
   "outputs": [
    {
     "data": {
      "text/html": [
       "<table>\n",
       "<caption>A data.frame: 2 × 2</caption>\n",
       "<thead>\n",
       "\t<tr><th scope=col>Group.1</th><th scope=col>x</th></tr>\n",
       "\t<tr><th scope=col>&lt;fct&gt;</th><th scope=col>&lt;dbl&gt;</th></tr>\n",
       "</thead>\n",
       "<tbody>\n",
       "\t<tr><td>V</td><td>189.72222</td></tr>\n",
       "\t<tr><td>S</td><td> 91.35714</td></tr>\n",
       "</tbody>\n",
       "</table>\n"
      ],
      "text/latex": [
       "A data.frame: 2 × 2\n",
       "\\begin{tabular}{ll}\n",
       " Group.1 & x\\\\\n",
       " <fct> & <dbl>\\\\\n",
       "\\hline\n",
       "\t V & 189.72222\\\\\n",
       "\t S &  91.35714\\\\\n",
       "\\end{tabular}\n"
      ],
      "text/markdown": [
       "\n",
       "A data.frame: 2 × 2\n",
       "\n",
       "| Group.1 &lt;fct&gt; | x &lt;dbl&gt; |\n",
       "|---|---|\n",
       "| V | 189.72222 |\n",
       "| S |  91.35714 |\n",
       "\n"
      ],
      "text/plain": [
       "  Group.1 x        \n",
       "1 V       189.72222\n",
       "2 S        91.35714"
      ]
     },
     "metadata": {},
     "output_type": "display_data"
    }
   ],
   "source": [
    "mean_hp_vs"
   ]
  },
  {
   "cell_type": "code",
   "execution_count": 14,
   "metadata": {
    "ExecuteTime": {
     "end_time": "2020-09-26T14:32:21.003884Z",
     "start_time": "2020-09-26T14:32:19.977Z"
    }
   },
   "outputs": [],
   "source": [
    "colnames(mean_hp_vs) <- c(\"VS\", 'Mean HP')"
   ]
  },
  {
   "cell_type": "code",
   "execution_count": 15,
   "metadata": {
    "ExecuteTime": {
     "end_time": "2020-09-26T14:32:21.038890Z",
     "start_time": "2020-09-26T14:32:19.980Z"
    }
   },
   "outputs": [
    {
     "data": {
      "text/html": [
       "<table>\n",
       "<caption>A data.frame: 2 × 2</caption>\n",
       "<thead>\n",
       "\t<tr><th scope=col>VS</th><th scope=col>Mean HP</th></tr>\n",
       "\t<tr><th scope=col>&lt;fct&gt;</th><th scope=col>&lt;dbl&gt;</th></tr>\n",
       "</thead>\n",
       "<tbody>\n",
       "\t<tr><td>V</td><td>189.72222</td></tr>\n",
       "\t<tr><td>S</td><td> 91.35714</td></tr>\n",
       "</tbody>\n",
       "</table>\n"
      ],
      "text/latex": [
       "A data.frame: 2 × 2\n",
       "\\begin{tabular}{ll}\n",
       " VS & Mean HP\\\\\n",
       " <fct> & <dbl>\\\\\n",
       "\\hline\n",
       "\t V & 189.72222\\\\\n",
       "\t S &  91.35714\\\\\n",
       "\\end{tabular}\n"
      ],
      "text/markdown": [
       "\n",
       "A data.frame: 2 × 2\n",
       "\n",
       "| VS &lt;fct&gt; | Mean HP &lt;dbl&gt; |\n",
       "|---|---|\n",
       "| V | 189.72222 |\n",
       "| S |  91.35714 |\n",
       "\n"
      ],
      "text/plain": [
       "  VS Mean HP  \n",
       "1 V  189.72222\n",
       "2 S   91.35714"
      ]
     },
     "metadata": {},
     "output_type": "display_data"
    }
   ],
   "source": [
    "mean_hp_vs"
   ]
  },
  {
   "cell_type": "code",
   "execution_count": 16,
   "metadata": {
    "ExecuteTime": {
     "end_time": "2020-09-26T14:32:21.065888Z",
     "start_time": "2020-09-26T14:32:19.983Z"
    }
   },
   "outputs": [
    {
     "data": {
      "text/html": [
       "<table>\n",
       "<caption>A data.frame: 2 × 2</caption>\n",
       "<thead>\n",
       "\t<tr><th scope=col>vs</th><th scope=col>hp</th></tr>\n",
       "\t<tr><th scope=col>&lt;fct&gt;</th><th scope=col>&lt;dbl&gt;</th></tr>\n",
       "</thead>\n",
       "<tbody>\n",
       "\t<tr><td>V</td><td>189.72222</td></tr>\n",
       "\t<tr><td>S</td><td> 91.35714</td></tr>\n",
       "</tbody>\n",
       "</table>\n"
      ],
      "text/latex": [
       "A data.frame: 2 × 2\n",
       "\\begin{tabular}{ll}\n",
       " vs & hp\\\\\n",
       " <fct> & <dbl>\\\\\n",
       "\\hline\n",
       "\t V & 189.72222\\\\\n",
       "\t S &  91.35714\\\\\n",
       "\\end{tabular}\n"
      ],
      "text/markdown": [
       "\n",
       "A data.frame: 2 × 2\n",
       "\n",
       "| vs &lt;fct&gt; | hp &lt;dbl&gt; |\n",
       "|---|---|\n",
       "| V | 189.72222 |\n",
       "| S |  91.35714 |\n",
       "\n"
      ],
      "text/plain": [
       "  vs hp       \n",
       "1 V  189.72222\n",
       "2 S   91.35714"
      ]
     },
     "metadata": {},
     "output_type": "display_data"
    }
   ],
   "source": [
    "aggregate(hp ~ vs, df, mean)"
   ]
  },
  {
   "cell_type": "code",
   "execution_count": 17,
   "metadata": {
    "ExecuteTime": {
     "end_time": "2020-09-26T14:32:21.094886Z",
     "start_time": "2020-09-26T14:32:19.986Z"
    }
   },
   "outputs": [
    {
     "data": {
      "text/html": [
       "<table>\n",
       "<caption>A data.frame: 4 × 3</caption>\n",
       "<thead>\n",
       "\t<tr><th scope=col>vs</th><th scope=col>am</th><th scope=col>hp</th></tr>\n",
       "\t<tr><th scope=col>&lt;fct&gt;</th><th scope=col>&lt;fct&gt;</th><th scope=col>&lt;dbl&gt;</th></tr>\n",
       "</thead>\n",
       "<tbody>\n",
       "\t<tr><td>V</td><td>Auto  </td><td>194.16667</td></tr>\n",
       "\t<tr><td>S</td><td>Auto  </td><td>102.14286</td></tr>\n",
       "\t<tr><td>V</td><td>Manual</td><td>180.83333</td></tr>\n",
       "\t<tr><td>S</td><td>Manual</td><td> 80.57143</td></tr>\n",
       "</tbody>\n",
       "</table>\n"
      ],
      "text/latex": [
       "A data.frame: 4 × 3\n",
       "\\begin{tabular}{lll}\n",
       " vs & am & hp\\\\\n",
       " <fct> & <fct> & <dbl>\\\\\n",
       "\\hline\n",
       "\t V & Auto   & 194.16667\\\\\n",
       "\t S & Auto   & 102.14286\\\\\n",
       "\t V & Manual & 180.83333\\\\\n",
       "\t S & Manual &  80.57143\\\\\n",
       "\\end{tabular}\n"
      ],
      "text/markdown": [
       "\n",
       "A data.frame: 4 × 3\n",
       "\n",
       "| vs &lt;fct&gt; | am &lt;fct&gt; | hp &lt;dbl&gt; |\n",
       "|---|---|---|\n",
       "| V | Auto   | 194.16667 |\n",
       "| S | Auto   | 102.14286 |\n",
       "| V | Manual | 180.83333 |\n",
       "| S | Manual |  80.57143 |\n",
       "\n"
      ],
      "text/plain": [
       "  vs am     hp       \n",
       "1 V  Auto   194.16667\n",
       "2 S  Auto   102.14286\n",
       "3 V  Manual 180.83333\n",
       "4 S  Manual  80.57143"
      ]
     },
     "metadata": {},
     "output_type": "display_data"
    }
   ],
   "source": [
    "aggregate(hp ~ vs + am, df, mean)"
   ]
  },
  {
   "cell_type": "code",
   "execution_count": 18,
   "metadata": {
    "ExecuteTime": {
     "end_time": "2020-09-26T14:32:21.130888Z",
     "start_time": "2020-09-26T14:32:19.990Z"
    }
   },
   "outputs": [
    {
     "data": {
      "text/html": [
       "<table>\n",
       "<caption>A data.frame: 4 × 4</caption>\n",
       "<thead>\n",
       "\t<tr><th scope=col>vs</th><th scope=col>am</th><th scope=col>hp</th><th scope=col>mpg</th></tr>\n",
       "\t<tr><th scope=col>&lt;fct&gt;</th><th scope=col>&lt;fct&gt;</th><th scope=col>&lt;dbl&gt;</th><th scope=col>&lt;dbl&gt;</th></tr>\n",
       "</thead>\n",
       "<tbody>\n",
       "\t<tr><td>V</td><td>Auto  </td><td>194.16667</td><td>15.05000</td></tr>\n",
       "\t<tr><td>S</td><td>Auto  </td><td>102.14286</td><td>20.74286</td></tr>\n",
       "\t<tr><td>V</td><td>Manual</td><td>180.83333</td><td>19.75000</td></tr>\n",
       "\t<tr><td>S</td><td>Manual</td><td> 80.57143</td><td>28.37143</td></tr>\n",
       "</tbody>\n",
       "</table>\n"
      ],
      "text/latex": [
       "A data.frame: 4 × 4\n",
       "\\begin{tabular}{llll}\n",
       " vs & am & hp & mpg\\\\\n",
       " <fct> & <fct> & <dbl> & <dbl>\\\\\n",
       "\\hline\n",
       "\t V & Auto   & 194.16667 & 15.05000\\\\\n",
       "\t S & Auto   & 102.14286 & 20.74286\\\\\n",
       "\t V & Manual & 180.83333 & 19.75000\\\\\n",
       "\t S & Manual &  80.57143 & 28.37143\\\\\n",
       "\\end{tabular}\n"
      ],
      "text/markdown": [
       "\n",
       "A data.frame: 4 × 4\n",
       "\n",
       "| vs &lt;fct&gt; | am &lt;fct&gt; | hp &lt;dbl&gt; | mpg &lt;dbl&gt; |\n",
       "|---|---|---|---|\n",
       "| V | Auto   | 194.16667 | 15.05000 |\n",
       "| S | Auto   | 102.14286 | 20.74286 |\n",
       "| V | Manual | 180.83333 | 19.75000 |\n",
       "| S | Manual |  80.57143 | 28.37143 |\n",
       "\n"
      ],
      "text/plain": [
       "  vs am     hp        mpg     \n",
       "1 V  Auto   194.16667 15.05000\n",
       "2 S  Auto   102.14286 20.74286\n",
       "3 V  Manual 180.83333 19.75000\n",
       "4 S  Manual  80.57143 28.37143"
      ]
     },
     "metadata": {},
     "output_type": "display_data"
    }
   ],
   "source": [
    "aggregate(cbind(hp, mpg) ~ vs + am, df, mean)"
   ]
  },
  {
   "cell_type": "code",
   "execution_count": 19,
   "metadata": {
    "ExecuteTime": {
     "end_time": "2020-09-26T14:32:21.204891Z",
     "start_time": "2020-09-26T14:32:19.993Z"
    }
   },
   "outputs": [],
   "source": [
    "library(psych)"
   ]
  },
  {
   "cell_type": "code",
   "execution_count": 20,
   "metadata": {
    "ExecuteTime": {
     "end_time": "2020-09-26T14:32:21.254891Z",
     "start_time": "2020-09-26T14:32:19.997Z"
    }
   },
   "outputs": [
    {
     "data": {
      "text/html": [
       "<table>\n",
       "<caption>A psych: 11 × 13</caption>\n",
       "<thead>\n",
       "\t<tr><th></th><th scope=col>vars</th><th scope=col>n</th><th scope=col>mean</th><th scope=col>sd</th><th scope=col>median</th><th scope=col>trimmed</th><th scope=col>mad</th><th scope=col>min</th><th scope=col>max</th><th scope=col>range</th><th scope=col>skew</th><th scope=col>kurtosis</th><th scope=col>se</th></tr>\n",
       "\t<tr><th></th><th scope=col>&lt;int&gt;</th><th scope=col>&lt;dbl&gt;</th><th scope=col>&lt;dbl&gt;</th><th scope=col>&lt;dbl&gt;</th><th scope=col>&lt;dbl&gt;</th><th scope=col>&lt;dbl&gt;</th><th scope=col>&lt;dbl&gt;</th><th scope=col>&lt;dbl&gt;</th><th scope=col>&lt;dbl&gt;</th><th scope=col>&lt;dbl&gt;</th><th scope=col>&lt;dbl&gt;</th><th scope=col>&lt;dbl&gt;</th><th scope=col>&lt;dbl&gt;</th></tr>\n",
       "</thead>\n",
       "<tbody>\n",
       "\t<tr><th scope=row>mpg</th><td> 1</td><td>32</td><td> 20.090625</td><td>  6.0269481</td><td> 19.200</td><td> 19.696154</td><td>  5.4114900</td><td>10.400</td><td> 33.900</td><td> 23.500</td><td> 0.6106550</td><td>-0.37276603</td><td> 1.06542396</td></tr>\n",
       "\t<tr><th scope=row>cyl</th><td> 2</td><td>32</td><td>  6.187500</td><td>  1.7859216</td><td>  6.000</td><td>  6.230769</td><td>  2.9652000</td><td> 4.000</td><td>  8.000</td><td>  4.000</td><td>-0.1746119</td><td>-1.76211977</td><td> 0.31570933</td></tr>\n",
       "\t<tr><th scope=row>disp</th><td> 3</td><td>32</td><td>230.721875</td><td>123.9386938</td><td>196.300</td><td>222.523077</td><td>140.4763500</td><td>71.100</td><td>472.000</td><td>400.900</td><td> 0.3816570</td><td>-1.20721195</td><td>21.90947271</td></tr>\n",
       "\t<tr><th scope=row>hp</th><td> 4</td><td>32</td><td>146.687500</td><td> 68.5628685</td><td>123.000</td><td>141.192308</td><td> 77.0952000</td><td>52.000</td><td>335.000</td><td>283.000</td><td> 0.7260237</td><td>-0.13555112</td><td>12.12031731</td></tr>\n",
       "\t<tr><th scope=row>drat</th><td> 5</td><td>32</td><td>  3.596563</td><td>  0.5346787</td><td>  3.695</td><td>  3.579231</td><td>  0.7042350</td><td> 2.760</td><td>  4.930</td><td>  2.170</td><td> 0.2659039</td><td>-0.71470062</td><td> 0.09451874</td></tr>\n",
       "\t<tr><th scope=row>wt</th><td> 6</td><td>32</td><td>  3.217250</td><td>  0.9784574</td><td>  3.325</td><td>  3.152692</td><td>  0.7672455</td><td> 1.513</td><td>  5.424</td><td>  3.911</td><td> 0.4231465</td><td>-0.02271075</td><td> 0.17296847</td></tr>\n",
       "\t<tr><th scope=row>qsec</th><td> 7</td><td>32</td><td> 17.848750</td><td>  1.7869432</td><td> 17.710</td><td> 17.827692</td><td>  1.4158830</td><td>14.500</td><td> 22.900</td><td>  8.400</td><td> 0.3690453</td><td> 0.33511422</td><td> 0.31588992</td></tr>\n",
       "\t<tr><th scope=row>vs*</th><td> 8</td><td>32</td><td>  1.437500</td><td>  0.5040161</td><td>  1.000</td><td>  1.423077</td><td>  0.0000000</td><td> 1.000</td><td>  2.000</td><td>  1.000</td><td> 0.2402577</td><td>-2.00193762</td><td> 0.08909831</td></tr>\n",
       "\t<tr><th scope=row>am*</th><td> 9</td><td>32</td><td>  1.406250</td><td>  0.4989909</td><td>  1.000</td><td>  1.384615</td><td>  0.0000000</td><td> 1.000</td><td>  2.000</td><td>  1.000</td><td> 0.3640159</td><td>-1.92474143</td><td> 0.08820997</td></tr>\n",
       "\t<tr><th scope=row>gear</th><td>10</td><td>32</td><td>  3.687500</td><td>  0.7378041</td><td>  4.000</td><td>  3.615385</td><td>  1.4826000</td><td> 3.000</td><td>  5.000</td><td>  2.000</td><td> 0.5288545</td><td>-1.06975068</td><td> 0.13042656</td></tr>\n",
       "\t<tr><th scope=row>carb</th><td>11</td><td>32</td><td>  2.812500</td><td>  1.6152000</td><td>  2.000</td><td>  2.653846</td><td>  1.4826000</td><td> 1.000</td><td>  8.000</td><td>  7.000</td><td> 1.0508738</td><td> 1.25704307</td><td> 0.28552971</td></tr>\n",
       "</tbody>\n",
       "</table>\n"
      ],
      "text/latex": [
       "A psych: 11 × 13\n",
       "\\begin{tabular}{r|lllllllllllll}\n",
       "  & vars & n & mean & sd & median & trimmed & mad & min & max & range & skew & kurtosis & se\\\\\n",
       "  & <int> & <dbl> & <dbl> & <dbl> & <dbl> & <dbl> & <dbl> & <dbl> & <dbl> & <dbl> & <dbl> & <dbl> & <dbl>\\\\\n",
       "\\hline\n",
       "\tmpg &  1 & 32 &  20.090625 &   6.0269481 &  19.200 &  19.696154 &   5.4114900 & 10.400 &  33.900 &  23.500 &  0.6106550 & -0.37276603 &  1.06542396\\\\\n",
       "\tcyl &  2 & 32 &   6.187500 &   1.7859216 &   6.000 &   6.230769 &   2.9652000 &  4.000 &   8.000 &   4.000 & -0.1746119 & -1.76211977 &  0.31570933\\\\\n",
       "\tdisp &  3 & 32 & 230.721875 & 123.9386938 & 196.300 & 222.523077 & 140.4763500 & 71.100 & 472.000 & 400.900 &  0.3816570 & -1.20721195 & 21.90947271\\\\\n",
       "\thp &  4 & 32 & 146.687500 &  68.5628685 & 123.000 & 141.192308 &  77.0952000 & 52.000 & 335.000 & 283.000 &  0.7260237 & -0.13555112 & 12.12031731\\\\\n",
       "\tdrat &  5 & 32 &   3.596563 &   0.5346787 &   3.695 &   3.579231 &   0.7042350 &  2.760 &   4.930 &   2.170 &  0.2659039 & -0.71470062 &  0.09451874\\\\\n",
       "\twt &  6 & 32 &   3.217250 &   0.9784574 &   3.325 &   3.152692 &   0.7672455 &  1.513 &   5.424 &   3.911 &  0.4231465 & -0.02271075 &  0.17296847\\\\\n",
       "\tqsec &  7 & 32 &  17.848750 &   1.7869432 &  17.710 &  17.827692 &   1.4158830 & 14.500 &  22.900 &   8.400 &  0.3690453 &  0.33511422 &  0.31588992\\\\\n",
       "\tvs* &  8 & 32 &   1.437500 &   0.5040161 &   1.000 &   1.423077 &   0.0000000 &  1.000 &   2.000 &   1.000 &  0.2402577 & -2.00193762 &  0.08909831\\\\\n",
       "\tam* &  9 & 32 &   1.406250 &   0.4989909 &   1.000 &   1.384615 &   0.0000000 &  1.000 &   2.000 &   1.000 &  0.3640159 & -1.92474143 &  0.08820997\\\\\n",
       "\tgear & 10 & 32 &   3.687500 &   0.7378041 &   4.000 &   3.615385 &   1.4826000 &  3.000 &   5.000 &   2.000 &  0.5288545 & -1.06975068 &  0.13042656\\\\\n",
       "\tcarb & 11 & 32 &   2.812500 &   1.6152000 &   2.000 &   2.653846 &   1.4826000 &  1.000 &   8.000 &   7.000 &  1.0508738 &  1.25704307 &  0.28552971\\\\\n",
       "\\end{tabular}\n"
      ],
      "text/markdown": [
       "\n",
       "A psych: 11 × 13\n",
       "\n",
       "| <!--/--> | vars &lt;int&gt; | n &lt;dbl&gt; | mean &lt;dbl&gt; | sd &lt;dbl&gt; | median &lt;dbl&gt; | trimmed &lt;dbl&gt; | mad &lt;dbl&gt; | min &lt;dbl&gt; | max &lt;dbl&gt; | range &lt;dbl&gt; | skew &lt;dbl&gt; | kurtosis &lt;dbl&gt; | se &lt;dbl&gt; |\n",
       "|---|---|---|---|---|---|---|---|---|---|---|---|---|---|\n",
       "| mpg |  1 | 32 |  20.090625 |   6.0269481 |  19.200 |  19.696154 |   5.4114900 | 10.400 |  33.900 |  23.500 |  0.6106550 | -0.37276603 |  1.06542396 |\n",
       "| cyl |  2 | 32 |   6.187500 |   1.7859216 |   6.000 |   6.230769 |   2.9652000 |  4.000 |   8.000 |   4.000 | -0.1746119 | -1.76211977 |  0.31570933 |\n",
       "| disp |  3 | 32 | 230.721875 | 123.9386938 | 196.300 | 222.523077 | 140.4763500 | 71.100 | 472.000 | 400.900 |  0.3816570 | -1.20721195 | 21.90947271 |\n",
       "| hp |  4 | 32 | 146.687500 |  68.5628685 | 123.000 | 141.192308 |  77.0952000 | 52.000 | 335.000 | 283.000 |  0.7260237 | -0.13555112 | 12.12031731 |\n",
       "| drat |  5 | 32 |   3.596563 |   0.5346787 |   3.695 |   3.579231 |   0.7042350 |  2.760 |   4.930 |   2.170 |  0.2659039 | -0.71470062 |  0.09451874 |\n",
       "| wt |  6 | 32 |   3.217250 |   0.9784574 |   3.325 |   3.152692 |   0.7672455 |  1.513 |   5.424 |   3.911 |  0.4231465 | -0.02271075 |  0.17296847 |\n",
       "| qsec |  7 | 32 |  17.848750 |   1.7869432 |  17.710 |  17.827692 |   1.4158830 | 14.500 |  22.900 |   8.400 |  0.3690453 |  0.33511422 |  0.31588992 |\n",
       "| vs* |  8 | 32 |   1.437500 |   0.5040161 |   1.000 |   1.423077 |   0.0000000 |  1.000 |   2.000 |   1.000 |  0.2402577 | -2.00193762 |  0.08909831 |\n",
       "| am* |  9 | 32 |   1.406250 |   0.4989909 |   1.000 |   1.384615 |   0.0000000 |  1.000 |   2.000 |   1.000 |  0.3640159 | -1.92474143 |  0.08820997 |\n",
       "| gear | 10 | 32 |   3.687500 |   0.7378041 |   4.000 |   3.615385 |   1.4826000 |  3.000 |   5.000 |   2.000 |  0.5288545 | -1.06975068 |  0.13042656 |\n",
       "| carb | 11 | 32 |   2.812500 |   1.6152000 |   2.000 |   2.653846 |   1.4826000 |  1.000 |   8.000 |   7.000 |  1.0508738 |  1.25704307 |  0.28552971 |\n",
       "\n"
      ],
      "text/plain": [
       "     vars n  mean       sd          median  trimmed    mad         min   \n",
       "mpg   1   32  20.090625   6.0269481  19.200  19.696154   5.4114900 10.400\n",
       "cyl   2   32   6.187500   1.7859216   6.000   6.230769   2.9652000  4.000\n",
       "disp  3   32 230.721875 123.9386938 196.300 222.523077 140.4763500 71.100\n",
       "hp    4   32 146.687500  68.5628685 123.000 141.192308  77.0952000 52.000\n",
       "drat  5   32   3.596563   0.5346787   3.695   3.579231   0.7042350  2.760\n",
       "wt    6   32   3.217250   0.9784574   3.325   3.152692   0.7672455  1.513\n",
       "qsec  7   32  17.848750   1.7869432  17.710  17.827692   1.4158830 14.500\n",
       "vs*   8   32   1.437500   0.5040161   1.000   1.423077   0.0000000  1.000\n",
       "am*   9   32   1.406250   0.4989909   1.000   1.384615   0.0000000  1.000\n",
       "gear 10   32   3.687500   0.7378041   4.000   3.615385   1.4826000  3.000\n",
       "carb 11   32   2.812500   1.6152000   2.000   2.653846   1.4826000  1.000\n",
       "     max     range   skew       kurtosis    se         \n",
       "mpg   33.900  23.500  0.6106550 -0.37276603  1.06542396\n",
       "cyl    8.000   4.000 -0.1746119 -1.76211977  0.31570933\n",
       "disp 472.000 400.900  0.3816570 -1.20721195 21.90947271\n",
       "hp   335.000 283.000  0.7260237 -0.13555112 12.12031731\n",
       "drat   4.930   2.170  0.2659039 -0.71470062  0.09451874\n",
       "wt     5.424   3.911  0.4231465 -0.02271075  0.17296847\n",
       "qsec  22.900   8.400  0.3690453  0.33511422  0.31588992\n",
       "vs*    2.000   1.000  0.2402577 -2.00193762  0.08909831\n",
       "am*    2.000   1.000  0.3640159 -1.92474143  0.08820997\n",
       "gear   5.000   2.000  0.5288545 -1.06975068  0.13042656\n",
       "carb   8.000   7.000  1.0508738  1.25704307  0.28552971"
      ]
     },
     "metadata": {},
     "output_type": "display_data"
    }
   ],
   "source": [
    "describe(df)"
   ]
  },
  {
   "cell_type": "code",
   "execution_count": 21,
   "metadata": {
    "ExecuteTime": {
     "end_time": "2020-09-26T14:32:21.507890Z",
     "start_time": "2020-09-26T14:32:20.000Z"
    }
   },
   "outputs": [],
   "source": [
    "?describe"
   ]
  },
  {
   "cell_type": "code",
   "execution_count": 22,
   "metadata": {
    "ExecuteTime": {
     "end_time": "2020-09-26T14:32:21.570891Z",
     "start_time": "2020-09-26T14:32:20.005Z"
    }
   },
   "outputs": [
    {
     "data": {
      "text/html": [
       "<table>\n",
       "<caption>A data.frame: 22 × 15</caption>\n",
       "<thead>\n",
       "\t<tr><th></th><th scope=col>item</th><th scope=col>group1</th><th scope=col>vars</th><th scope=col>n</th><th scope=col>mean</th><th scope=col>sd</th><th scope=col>median</th><th scope=col>trimmed</th><th scope=col>mad</th><th scope=col>min</th><th scope=col>max</th><th scope=col>range</th><th scope=col>skew</th><th scope=col>kurtosis</th><th scope=col>se</th></tr>\n",
       "\t<tr><th></th><th scope=col>&lt;fct&gt;</th><th scope=col>&lt;fct&gt;</th><th scope=col>&lt;dbl&gt;</th><th scope=col>&lt;dbl&gt;</th><th scope=col>&lt;dbl&gt;</th><th scope=col>&lt;dbl&gt;</th><th scope=col>&lt;dbl&gt;</th><th scope=col>&lt;dbl&gt;</th><th scope=col>&lt;dbl&gt;</th><th scope=col>&lt;dbl&gt;</th><th scope=col>&lt;dbl&gt;</th><th scope=col>&lt;dbl&gt;</th><th scope=col>&lt;dbl&gt;</th><th scope=col>&lt;dbl&gt;</th><th scope=col>&lt;dbl&gt;</th></tr>\n",
       "</thead>\n",
       "<tbody>\n",
       "\t<tr><th scope=row>mpg1</th><td>1 </td><td>V</td><td> 1</td><td>18</td><td> 16.62</td><td>  3.86</td><td> 15.65</td><td> 16.42</td><td> 2.97</td><td> 10.40</td><td> 26.00</td><td> 15.60</td><td> 0.48</td><td>-0.05</td><td> 0.91</td></tr>\n",
       "\t<tr><th scope=row>mpg2</th><td>2 </td><td>S</td><td> 1</td><td>14</td><td> 24.56</td><td>  5.38</td><td> 22.80</td><td> 24.34</td><td> 6.00</td><td> 17.80</td><td> 33.90</td><td> 16.10</td><td> 0.41</td><td>-1.40</td><td> 1.44</td></tr>\n",
       "\t<tr><th scope=row>cyl1</th><td>3 </td><td>V</td><td> 2</td><td>18</td><td>  7.44</td><td>  1.15</td><td>  8.00</td><td>  7.62</td><td> 0.00</td><td>  4.00</td><td>  8.00</td><td>  4.00</td><td>-1.74</td><td> 1.94</td><td> 0.27</td></tr>\n",
       "\t<tr><th scope=row>cyl2</th><td>4 </td><td>S</td><td> 2</td><td>14</td><td>  4.57</td><td>  0.94</td><td>  4.00</td><td>  4.50</td><td> 0.00</td><td>  4.00</td><td>  6.00</td><td>  2.00</td><td> 0.85</td><td>-1.36</td><td> 0.25</td></tr>\n",
       "\t<tr><th scope=row>disp1</th><td>5 </td><td>V</td><td> 3</td><td>18</td><td>307.15</td><td>106.77</td><td>311.00</td><td>308.52</td><td>72.65</td><td>120.30</td><td>472.00</td><td>351.70</td><td>-0.26</td><td>-1.06</td><td>25.16</td></tr>\n",
       "\t<tr><th scope=row>disp2</th><td>6 </td><td>S</td><td> 3</td><td>14</td><td>132.46</td><td> 56.89</td><td>120.55</td><td>127.11</td><td>61.82</td><td> 71.10</td><td>258.00</td><td>186.90</td><td> 0.80</td><td>-0.49</td><td>15.21</td></tr>\n",
       "\t<tr><th scope=row>hp1</th><td>7 </td><td>V</td><td> 4</td><td>18</td><td>189.72</td><td> 60.28</td><td>180.00</td><td>186.81</td><td>48.18</td><td> 91.00</td><td>335.00</td><td>244.00</td><td> 0.45</td><td>-0.15</td><td>14.21</td></tr>\n",
       "\t<tr><th scope=row>hp2</th><td>8 </td><td>S</td><td> 4</td><td>14</td><td> 91.36</td><td> 24.42</td><td> 96.00</td><td> 92.00</td><td>32.62</td><td> 52.00</td><td>123.00</td><td> 71.00</td><td>-0.24</td><td>-1.61</td><td> 6.53</td></tr>\n",
       "\t<tr><th scope=row>drat1</th><td>9 </td><td>V</td><td> 5</td><td>18</td><td>  3.39</td><td>  0.47</td><td>  3.18</td><td>  3.37</td><td> 0.32</td><td>  2.76</td><td>  4.43</td><td>  1.67</td><td> 0.74</td><td>-0.73</td><td> 0.11</td></tr>\n",
       "\t<tr><th scope=row>drat2</th><td>10</td><td>S</td><td> 5</td><td>14</td><td>  3.86</td><td>  0.51</td><td>  3.92</td><td>  3.86</td><td> 0.26</td><td>  2.76</td><td>  4.93</td><td>  2.17</td><td>-0.28</td><td> 0.46</td><td> 0.14</td></tr>\n",
       "\t<tr><th scope=row>wt1</th><td>11</td><td>V</td><td> 6</td><td>18</td><td>  3.69</td><td>  0.90</td><td>  3.57</td><td>  3.68</td><td> 0.50</td><td>  2.14</td><td>  5.42</td><td>  3.28</td><td> 0.54</td><td>-0.43</td><td> 0.21</td></tr>\n",
       "\t<tr><th scope=row>wt2</th><td>12</td><td>S</td><td> 6</td><td>14</td><td>  2.61</td><td>  0.72</td><td>  2.62</td><td>  2.63</td><td> 0.95</td><td>  1.51</td><td>  3.46</td><td>  1.95</td><td>-0.17</td><td>-1.68</td><td> 0.19</td></tr>\n",
       "\t<tr><th scope=row>qsec1</th><td>13</td><td>V</td><td> 7</td><td>18</td><td> 16.69</td><td>  1.09</td><td> 17.02</td><td> 16.75</td><td> 0.85</td><td> 14.50</td><td> 18.00</td><td>  3.50</td><td>-0.71</td><td>-0.80</td><td> 0.26</td></tr>\n",
       "\t<tr><th scope=row>qsec2</th><td>14</td><td>S</td><td> 7</td><td>14</td><td> 19.33</td><td>  1.35</td><td> 19.17</td><td> 19.24</td><td> 1.02</td><td> 16.90</td><td> 22.90</td><td>  6.00</td><td> 0.86</td><td> 1.25</td><td> 0.36</td></tr>\n",
       "\t<tr><th scope=row>vs*1</th><td>15</td><td>V</td><td> 8</td><td>18</td><td>  1.00</td><td>  0.00</td><td>  1.00</td><td>  1.00</td><td> 0.00</td><td>  1.00</td><td>  1.00</td><td>  0.00</td><td>  NaN</td><td>  NaN</td><td> 0.00</td></tr>\n",
       "\t<tr><th scope=row>vs*2</th><td>16</td><td>S</td><td> 8</td><td>14</td><td>  2.00</td><td>  0.00</td><td>  2.00</td><td>  2.00</td><td> 0.00</td><td>  2.00</td><td>  2.00</td><td>  0.00</td><td>  NaN</td><td>  NaN</td><td> 0.00</td></tr>\n",
       "\t<tr><th scope=row>am*1</th><td>17</td><td>V</td><td> 9</td><td>18</td><td>  1.33</td><td>  0.49</td><td>  1.00</td><td>  1.31</td><td> 0.00</td><td>  1.00</td><td>  2.00</td><td>  1.00</td><td> 0.65</td><td>-1.66</td><td> 0.11</td></tr>\n",
       "\t<tr><th scope=row>am*2</th><td>18</td><td>S</td><td> 9</td><td>14</td><td>  1.50</td><td>  0.52</td><td>  1.50</td><td>  1.50</td><td> 0.74</td><td>  1.00</td><td>  2.00</td><td>  1.00</td><td> 0.00</td><td>-2.14</td><td> 0.14</td></tr>\n",
       "\t<tr><th scope=row>gear1</th><td>19</td><td>V</td><td>10</td><td>18</td><td>  3.56</td><td>  0.86</td><td>  3.00</td><td>  3.50</td><td> 0.00</td><td>  3.00</td><td>  5.00</td><td>  2.00</td><td> 0.90</td><td>-1.07</td><td> 0.20</td></tr>\n",
       "\t<tr><th scope=row>gear2</th><td>20</td><td>S</td><td>10</td><td>14</td><td>  3.86</td><td>  0.53</td><td>  4.00</td><td>  3.83</td><td> 0.00</td><td>  3.00</td><td>  5.00</td><td>  2.00</td><td>-0.17</td><td>-0.09</td><td> 0.14</td></tr>\n",
       "\t<tr><th scope=row>carb1</th><td>21</td><td>V</td><td>11</td><td>18</td><td>  3.61</td><td>  1.54</td><td>  4.00</td><td>  3.44</td><td> 1.48</td><td>  2.00</td><td>  8.00</td><td>  6.00</td><td> 1.17</td><td> 1.33</td><td> 0.36</td></tr>\n",
       "\t<tr><th scope=row>carb2</th><td>22</td><td>S</td><td>11</td><td>14</td><td>  1.79</td><td>  1.05</td><td>  1.50</td><td>  1.67</td><td> 0.74</td><td>  1.00</td><td>  4.00</td><td>  3.00</td><td> 1.13</td><td>-0.03</td><td> 0.28</td></tr>\n",
       "</tbody>\n",
       "</table>\n"
      ],
      "text/latex": [
       "A data.frame: 22 × 15\n",
       "\\begin{tabular}{r|lllllllllllllll}\n",
       "  & item & group1 & vars & n & mean & sd & median & trimmed & mad & min & max & range & skew & kurtosis & se\\\\\n",
       "  & <fct> & <fct> & <dbl> & <dbl> & <dbl> & <dbl> & <dbl> & <dbl> & <dbl> & <dbl> & <dbl> & <dbl> & <dbl> & <dbl> & <dbl>\\\\\n",
       "\\hline\n",
       "\tmpg1 & 1  & V &  1 & 18 &  16.62 &   3.86 &  15.65 &  16.42 &  2.97 &  10.40 &  26.00 &  15.60 &  0.48 & -0.05 &  0.91\\\\\n",
       "\tmpg2 & 2  & S &  1 & 14 &  24.56 &   5.38 &  22.80 &  24.34 &  6.00 &  17.80 &  33.90 &  16.10 &  0.41 & -1.40 &  1.44\\\\\n",
       "\tcyl1 & 3  & V &  2 & 18 &   7.44 &   1.15 &   8.00 &   7.62 &  0.00 &   4.00 &   8.00 &   4.00 & -1.74 &  1.94 &  0.27\\\\\n",
       "\tcyl2 & 4  & S &  2 & 14 &   4.57 &   0.94 &   4.00 &   4.50 &  0.00 &   4.00 &   6.00 &   2.00 &  0.85 & -1.36 &  0.25\\\\\n",
       "\tdisp1 & 5  & V &  3 & 18 & 307.15 & 106.77 & 311.00 & 308.52 & 72.65 & 120.30 & 472.00 & 351.70 & -0.26 & -1.06 & 25.16\\\\\n",
       "\tdisp2 & 6  & S &  3 & 14 & 132.46 &  56.89 & 120.55 & 127.11 & 61.82 &  71.10 & 258.00 & 186.90 &  0.80 & -0.49 & 15.21\\\\\n",
       "\thp1 & 7  & V &  4 & 18 & 189.72 &  60.28 & 180.00 & 186.81 & 48.18 &  91.00 & 335.00 & 244.00 &  0.45 & -0.15 & 14.21\\\\\n",
       "\thp2 & 8  & S &  4 & 14 &  91.36 &  24.42 &  96.00 &  92.00 & 32.62 &  52.00 & 123.00 &  71.00 & -0.24 & -1.61 &  6.53\\\\\n",
       "\tdrat1 & 9  & V &  5 & 18 &   3.39 &   0.47 &   3.18 &   3.37 &  0.32 &   2.76 &   4.43 &   1.67 &  0.74 & -0.73 &  0.11\\\\\n",
       "\tdrat2 & 10 & S &  5 & 14 &   3.86 &   0.51 &   3.92 &   3.86 &  0.26 &   2.76 &   4.93 &   2.17 & -0.28 &  0.46 &  0.14\\\\\n",
       "\twt1 & 11 & V &  6 & 18 &   3.69 &   0.90 &   3.57 &   3.68 &  0.50 &   2.14 &   5.42 &   3.28 &  0.54 & -0.43 &  0.21\\\\\n",
       "\twt2 & 12 & S &  6 & 14 &   2.61 &   0.72 &   2.62 &   2.63 &  0.95 &   1.51 &   3.46 &   1.95 & -0.17 & -1.68 &  0.19\\\\\n",
       "\tqsec1 & 13 & V &  7 & 18 &  16.69 &   1.09 &  17.02 &  16.75 &  0.85 &  14.50 &  18.00 &   3.50 & -0.71 & -0.80 &  0.26\\\\\n",
       "\tqsec2 & 14 & S &  7 & 14 &  19.33 &   1.35 &  19.17 &  19.24 &  1.02 &  16.90 &  22.90 &   6.00 &  0.86 &  1.25 &  0.36\\\\\n",
       "\tvs*1 & 15 & V &  8 & 18 &   1.00 &   0.00 &   1.00 &   1.00 &  0.00 &   1.00 &   1.00 &   0.00 &   NaN &   NaN &  0.00\\\\\n",
       "\tvs*2 & 16 & S &  8 & 14 &   2.00 &   0.00 &   2.00 &   2.00 &  0.00 &   2.00 &   2.00 &   0.00 &   NaN &   NaN &  0.00\\\\\n",
       "\tam*1 & 17 & V &  9 & 18 &   1.33 &   0.49 &   1.00 &   1.31 &  0.00 &   1.00 &   2.00 &   1.00 &  0.65 & -1.66 &  0.11\\\\\n",
       "\tam*2 & 18 & S &  9 & 14 &   1.50 &   0.52 &   1.50 &   1.50 &  0.74 &   1.00 &   2.00 &   1.00 &  0.00 & -2.14 &  0.14\\\\\n",
       "\tgear1 & 19 & V & 10 & 18 &   3.56 &   0.86 &   3.00 &   3.50 &  0.00 &   3.00 &   5.00 &   2.00 &  0.90 & -1.07 &  0.20\\\\\n",
       "\tgear2 & 20 & S & 10 & 14 &   3.86 &   0.53 &   4.00 &   3.83 &  0.00 &   3.00 &   5.00 &   2.00 & -0.17 & -0.09 &  0.14\\\\\n",
       "\tcarb1 & 21 & V & 11 & 18 &   3.61 &   1.54 &   4.00 &   3.44 &  1.48 &   2.00 &   8.00 &   6.00 &  1.17 &  1.33 &  0.36\\\\\n",
       "\tcarb2 & 22 & S & 11 & 14 &   1.79 &   1.05 &   1.50 &   1.67 &  0.74 &   1.00 &   4.00 &   3.00 &  1.13 & -0.03 &  0.28\\\\\n",
       "\\end{tabular}\n"
      ],
      "text/markdown": [
       "\n",
       "A data.frame: 22 × 15\n",
       "\n",
       "| <!--/--> | item &lt;fct&gt; | group1 &lt;fct&gt; | vars &lt;dbl&gt; | n &lt;dbl&gt; | mean &lt;dbl&gt; | sd &lt;dbl&gt; | median &lt;dbl&gt; | trimmed &lt;dbl&gt; | mad &lt;dbl&gt; | min &lt;dbl&gt; | max &lt;dbl&gt; | range &lt;dbl&gt; | skew &lt;dbl&gt; | kurtosis &lt;dbl&gt; | se &lt;dbl&gt; |\n",
       "|---|---|---|---|---|---|---|---|---|---|---|---|---|---|---|---|\n",
       "| mpg1 | 1  | V |  1 | 18 |  16.62 |   3.86 |  15.65 |  16.42 |  2.97 |  10.40 |  26.00 |  15.60 |  0.48 | -0.05 |  0.91 |\n",
       "| mpg2 | 2  | S |  1 | 14 |  24.56 |   5.38 |  22.80 |  24.34 |  6.00 |  17.80 |  33.90 |  16.10 |  0.41 | -1.40 |  1.44 |\n",
       "| cyl1 | 3  | V |  2 | 18 |   7.44 |   1.15 |   8.00 |   7.62 |  0.00 |   4.00 |   8.00 |   4.00 | -1.74 |  1.94 |  0.27 |\n",
       "| cyl2 | 4  | S |  2 | 14 |   4.57 |   0.94 |   4.00 |   4.50 |  0.00 |   4.00 |   6.00 |   2.00 |  0.85 | -1.36 |  0.25 |\n",
       "| disp1 | 5  | V |  3 | 18 | 307.15 | 106.77 | 311.00 | 308.52 | 72.65 | 120.30 | 472.00 | 351.70 | -0.26 | -1.06 | 25.16 |\n",
       "| disp2 | 6  | S |  3 | 14 | 132.46 |  56.89 | 120.55 | 127.11 | 61.82 |  71.10 | 258.00 | 186.90 |  0.80 | -0.49 | 15.21 |\n",
       "| hp1 | 7  | V |  4 | 18 | 189.72 |  60.28 | 180.00 | 186.81 | 48.18 |  91.00 | 335.00 | 244.00 |  0.45 | -0.15 | 14.21 |\n",
       "| hp2 | 8  | S |  4 | 14 |  91.36 |  24.42 |  96.00 |  92.00 | 32.62 |  52.00 | 123.00 |  71.00 | -0.24 | -1.61 |  6.53 |\n",
       "| drat1 | 9  | V |  5 | 18 |   3.39 |   0.47 |   3.18 |   3.37 |  0.32 |   2.76 |   4.43 |   1.67 |  0.74 | -0.73 |  0.11 |\n",
       "| drat2 | 10 | S |  5 | 14 |   3.86 |   0.51 |   3.92 |   3.86 |  0.26 |   2.76 |   4.93 |   2.17 | -0.28 |  0.46 |  0.14 |\n",
       "| wt1 | 11 | V |  6 | 18 |   3.69 |   0.90 |   3.57 |   3.68 |  0.50 |   2.14 |   5.42 |   3.28 |  0.54 | -0.43 |  0.21 |\n",
       "| wt2 | 12 | S |  6 | 14 |   2.61 |   0.72 |   2.62 |   2.63 |  0.95 |   1.51 |   3.46 |   1.95 | -0.17 | -1.68 |  0.19 |\n",
       "| qsec1 | 13 | V |  7 | 18 |  16.69 |   1.09 |  17.02 |  16.75 |  0.85 |  14.50 |  18.00 |   3.50 | -0.71 | -0.80 |  0.26 |\n",
       "| qsec2 | 14 | S |  7 | 14 |  19.33 |   1.35 |  19.17 |  19.24 |  1.02 |  16.90 |  22.90 |   6.00 |  0.86 |  1.25 |  0.36 |\n",
       "| vs*1 | 15 | V |  8 | 18 |   1.00 |   0.00 |   1.00 |   1.00 |  0.00 |   1.00 |   1.00 |   0.00 |   NaN |   NaN |  0.00 |\n",
       "| vs*2 | 16 | S |  8 | 14 |   2.00 |   0.00 |   2.00 |   2.00 |  0.00 |   2.00 |   2.00 |   0.00 |   NaN |   NaN |  0.00 |\n",
       "| am*1 | 17 | V |  9 | 18 |   1.33 |   0.49 |   1.00 |   1.31 |  0.00 |   1.00 |   2.00 |   1.00 |  0.65 | -1.66 |  0.11 |\n",
       "| am*2 | 18 | S |  9 | 14 |   1.50 |   0.52 |   1.50 |   1.50 |  0.74 |   1.00 |   2.00 |   1.00 |  0.00 | -2.14 |  0.14 |\n",
       "| gear1 | 19 | V | 10 | 18 |   3.56 |   0.86 |   3.00 |   3.50 |  0.00 |   3.00 |   5.00 |   2.00 |  0.90 | -1.07 |  0.20 |\n",
       "| gear2 | 20 | S | 10 | 14 |   3.86 |   0.53 |   4.00 |   3.83 |  0.00 |   3.00 |   5.00 |   2.00 | -0.17 | -0.09 |  0.14 |\n",
       "| carb1 | 21 | V | 11 | 18 |   3.61 |   1.54 |   4.00 |   3.44 |  1.48 |   2.00 |   8.00 |   6.00 |  1.17 |  1.33 |  0.36 |\n",
       "| carb2 | 22 | S | 11 | 14 |   1.79 |   1.05 |   1.50 |   1.67 |  0.74 |   1.00 |   4.00 |   3.00 |  1.13 | -0.03 |  0.28 |\n",
       "\n"
      ],
      "text/plain": [
       "      item group1 vars n  mean   sd     median trimmed mad   min    max   \n",
       "mpg1  1    V       1   18  16.62   3.86  15.65  16.42   2.97  10.40  26.00\n",
       "mpg2  2    S       1   14  24.56   5.38  22.80  24.34   6.00  17.80  33.90\n",
       "cyl1  3    V       2   18   7.44   1.15   8.00   7.62   0.00   4.00   8.00\n",
       "cyl2  4    S       2   14   4.57   0.94   4.00   4.50   0.00   4.00   6.00\n",
       "disp1 5    V       3   18 307.15 106.77 311.00 308.52  72.65 120.30 472.00\n",
       "disp2 6    S       3   14 132.46  56.89 120.55 127.11  61.82  71.10 258.00\n",
       "hp1   7    V       4   18 189.72  60.28 180.00 186.81  48.18  91.00 335.00\n",
       "hp2   8    S       4   14  91.36  24.42  96.00  92.00  32.62  52.00 123.00\n",
       "drat1 9    V       5   18   3.39   0.47   3.18   3.37   0.32   2.76   4.43\n",
       "drat2 10   S       5   14   3.86   0.51   3.92   3.86   0.26   2.76   4.93\n",
       "wt1   11   V       6   18   3.69   0.90   3.57   3.68   0.50   2.14   5.42\n",
       "wt2   12   S       6   14   2.61   0.72   2.62   2.63   0.95   1.51   3.46\n",
       "qsec1 13   V       7   18  16.69   1.09  17.02  16.75   0.85  14.50  18.00\n",
       "qsec2 14   S       7   14  19.33   1.35  19.17  19.24   1.02  16.90  22.90\n",
       "vs*1  15   V       8   18   1.00   0.00   1.00   1.00   0.00   1.00   1.00\n",
       "vs*2  16   S       8   14   2.00   0.00   2.00   2.00   0.00   2.00   2.00\n",
       "am*1  17   V       9   18   1.33   0.49   1.00   1.31   0.00   1.00   2.00\n",
       "am*2  18   S       9   14   1.50   0.52   1.50   1.50   0.74   1.00   2.00\n",
       "gear1 19   V      10   18   3.56   0.86   3.00   3.50   0.00   3.00   5.00\n",
       "gear2 20   S      10   14   3.86   0.53   4.00   3.83   0.00   3.00   5.00\n",
       "carb1 21   V      11   18   3.61   1.54   4.00   3.44   1.48   2.00   8.00\n",
       "carb2 22   S      11   14   1.79   1.05   1.50   1.67   0.74   1.00   4.00\n",
       "      range  skew  kurtosis se   \n",
       "mpg1   15.60  0.48 -0.05     0.91\n",
       "mpg2   16.10  0.41 -1.40     1.44\n",
       "cyl1    4.00 -1.74  1.94     0.27\n",
       "cyl2    2.00  0.85 -1.36     0.25\n",
       "disp1 351.70 -0.26 -1.06    25.16\n",
       "disp2 186.90  0.80 -0.49    15.21\n",
       "hp1   244.00  0.45 -0.15    14.21\n",
       "hp2    71.00 -0.24 -1.61     6.53\n",
       "drat1   1.67  0.74 -0.73     0.11\n",
       "drat2   2.17 -0.28  0.46     0.14\n",
       "wt1     3.28  0.54 -0.43     0.21\n",
       "wt2     1.95 -0.17 -1.68     0.19\n",
       "qsec1   3.50 -0.71 -0.80     0.26\n",
       "qsec2   6.00  0.86  1.25     0.36\n",
       "vs*1    0.00   NaN   NaN     0.00\n",
       "vs*2    0.00   NaN   NaN     0.00\n",
       "am*1    1.00  0.65 -1.66     0.11\n",
       "am*2    1.00  0.00 -2.14     0.14\n",
       "gear1   2.00  0.90 -1.07     0.20\n",
       "gear2   2.00 -0.17 -0.09     0.14\n",
       "carb1   6.00  1.17  1.33     0.36\n",
       "carb2   3.00  1.13 -0.03     0.28"
      ]
     },
     "metadata": {},
     "output_type": "display_data"
    }
   ],
   "source": [
    "describeBy(x = df, group = df$vs, mat = T, digits = 2)"
   ]
  },
  {
   "cell_type": "code",
   "execution_count": 23,
   "metadata": {
    "ExecuteTime": {
     "end_time": "2020-09-26T14:32:21.592913Z",
     "start_time": "2020-09-26T14:32:20.008Z"
    }
   },
   "outputs": [
    {
     "data": {
      "text/html": [
       "<style>\n",
       ".list-inline {list-style: none; margin:0; padding: 0}\n",
       ".list-inline>li {display: inline-block}\n",
       ".list-inline>li:not(:last-child)::after {content: \"\\00b7\"; padding: 0 .5ex}\n",
       "</style>\n",
       "<ol class=list-inline><li>FALSE</li><li>FALSE</li><li>FALSE</li><li>FALSE</li><li>FALSE</li><li>FALSE</li><li>FALSE</li><li>FALSE</li><li>FALSE</li><li>FALSE</li><li>FALSE</li><li>FALSE</li><li>FALSE</li><li>FALSE</li><li>FALSE</li><li>FALSE</li><li>FALSE</li><li>FALSE</li><li>FALSE</li><li>FALSE</li><li>FALSE</li><li>FALSE</li><li>FALSE</li><li>FALSE</li><li>FALSE</li><li>FALSE</li><li>FALSE</li><li>FALSE</li><li>FALSE</li><li>FALSE</li><li>FALSE</li><li>FALSE</li></ol>\n"
      ],
      "text/latex": [
       "\\begin{enumerate*}\n",
       "\\item FALSE\n",
       "\\item FALSE\n",
       "\\item FALSE\n",
       "\\item FALSE\n",
       "\\item FALSE\n",
       "\\item FALSE\n",
       "\\item FALSE\n",
       "\\item FALSE\n",
       "\\item FALSE\n",
       "\\item FALSE\n",
       "\\item FALSE\n",
       "\\item FALSE\n",
       "\\item FALSE\n",
       "\\item FALSE\n",
       "\\item FALSE\n",
       "\\item FALSE\n",
       "\\item FALSE\n",
       "\\item FALSE\n",
       "\\item FALSE\n",
       "\\item FALSE\n",
       "\\item FALSE\n",
       "\\item FALSE\n",
       "\\item FALSE\n",
       "\\item FALSE\n",
       "\\item FALSE\n",
       "\\item FALSE\n",
       "\\item FALSE\n",
       "\\item FALSE\n",
       "\\item FALSE\n",
       "\\item FALSE\n",
       "\\item FALSE\n",
       "\\item FALSE\n",
       "\\end{enumerate*}\n"
      ],
      "text/markdown": [
       "1. FALSE\n",
       "2. FALSE\n",
       "3. FALSE\n",
       "4. FALSE\n",
       "5. FALSE\n",
       "6. FALSE\n",
       "7. FALSE\n",
       "8. FALSE\n",
       "9. FALSE\n",
       "10. FALSE\n",
       "11. FALSE\n",
       "12. FALSE\n",
       "13. FALSE\n",
       "14. FALSE\n",
       "15. FALSE\n",
       "16. FALSE\n",
       "17. FALSE\n",
       "18. FALSE\n",
       "19. FALSE\n",
       "20. FALSE\n",
       "21. FALSE\n",
       "22. FALSE\n",
       "23. FALSE\n",
       "24. FALSE\n",
       "25. FALSE\n",
       "26. FALSE\n",
       "27. FALSE\n",
       "28. FALSE\n",
       "29. FALSE\n",
       "30. FALSE\n",
       "31. FALSE\n",
       "32. FALSE\n",
       "\n",
       "\n"
      ],
      "text/plain": [
       " [1] FALSE FALSE FALSE FALSE FALSE FALSE FALSE FALSE FALSE FALSE FALSE FALSE\n",
       "[13] FALSE FALSE FALSE FALSE FALSE FALSE FALSE FALSE FALSE FALSE FALSE FALSE\n",
       "[25] FALSE FALSE FALSE FALSE FALSE FALSE FALSE FALSE"
      ]
     },
     "metadata": {},
     "output_type": "display_data"
    }
   ],
   "source": [
    "is.na(df$mpg)"
   ]
  },
  {
   "cell_type": "code",
   "execution_count": 24,
   "metadata": {
    "ExecuteTime": {
     "end_time": "2020-09-26T14:32:21.619885Z",
     "start_time": "2020-09-26T14:32:20.011Z"
    }
   },
   "outputs": [
    {
     "data": {
      "text/html": [
       "0"
      ],
      "text/latex": [
       "0"
      ],
      "text/markdown": [
       "0"
      ],
      "text/plain": [
       "[1] 0"
      ]
     },
     "metadata": {},
     "output_type": "display_data"
    }
   ],
   "source": [
    "sum(is.na(df$mpg))"
   ]
  },
  {
   "cell_type": "code",
   "execution_count": 25,
   "metadata": {
    "ExecuteTime": {
     "end_time": "2020-09-26T14:32:21.677885Z",
     "start_time": "2020-09-26T14:32:20.014Z"
    }
   },
   "outputs": [
    {
     "data": {
      "image/png": "[encoded data removed]",
      "text/plain": [
       "Plot with title \"Histogram of df$mpg\""
      ]
     },
     "metadata": {},
     "output_type": "display_data"
    }
   ],
   "source": [
    "hist(df$mpg)"
   ]
  },
  {
   "cell_type": "code",
   "execution_count": 26,
   "metadata": {
    "ExecuteTime": {
     "end_time": "2020-09-26T14:32:21.750890Z",
     "start_time": "2020-09-26T14:32:20.017Z"
    }
   },
   "outputs": [
    {
     "data": {
      "image/png": "[encoded data removed]",
      "text/plain": [
       "plot without title"
      ]
     },
     "metadata": {},
     "output_type": "display_data"
    }
   ],
   "source": [
    "boxplot(mpg~am, data = df)"
   ]
  },
  {
   "cell_type": "code",
   "execution_count": 27,
   "metadata": {
    "ExecuteTime": {
     "end_time": "2020-09-26T14:32:21.808889Z",
     "start_time": "2020-09-26T14:32:20.020Z"
    }
   },
   "outputs": [
    {
     "data": {
      "image/png": "[encoded data removed]",
      "text/plain": [
       "plot without title"
      ]
     },
     "metadata": {},
     "output_type": "display_data"
    }
   ],
   "source": [
    "plot(df$mpg, df$hp)"
   ]
  },
  {
   "cell_type": "code",
   "execution_count": 28,
   "metadata": {
    "ExecuteTime": {
     "end_time": "2020-09-26T14:32:21.835887Z",
     "start_time": "2020-09-26T14:32:20.023Z"
    }
   },
   "outputs": [
    {
     "data": {
      "text/plain": [
       "\n",
       "\tPearson's product-moment correlation\n",
       "\n",
       "data:  df$mpg and df$hp\n",
       "t = -6.7424, df = 30, p-value = 1.788e-07\n",
       "alternative hypothesis: true correlation is not equal to 0\n",
       "95 percent confidence interval:\n",
       " -0.8852686 -0.5860994\n",
       "sample estimates:\n",
       "       cor \n",
       "-0.7761684 \n"
      ]
     },
     "metadata": {},
     "output_type": "display_data"
    }
   ],
   "source": [
    "cor.test(x = df$mpg, y = df$hp)"
   ]
  },
  {
   "cell_type": "code",
   "execution_count": 29,
   "metadata": {
    "ExecuteTime": {
     "end_time": "2020-09-26T14:32:21.854903Z",
     "start_time": "2020-09-26T14:32:20.026Z"
    }
   },
   "outputs": [],
   "source": [
    "fit <- cor.test(x = df$mpg, y = df$hp)"
   ]
  },
  {
   "cell_type": "code",
   "execution_count": 30,
   "metadata": {
    "ExecuteTime": {
     "end_time": "2020-09-26T14:32:21.929886Z",
     "start_time": "2020-09-26T14:32:20.029Z"
    }
   },
   "outputs": [
    {
     "name": "stdout",
     "output_type": "stream",
     "text": [
      "List of 9\n",
      " $ statistic  : Named num -6.74\n",
      "  ..- attr(*, \"names\")= chr \"t\"\n",
      " $ parameter  : Named int 30\n",
      "  ..- attr(*, \"names\")= chr \"df\"\n",
      " $ p.value    : num 1.79e-07\n",
      " $ estimate   : Named num -0.776\n",
      "  ..- attr(*, \"names\")= chr \"cor\"\n",
      " $ null.value : Named num 0\n",
      "  ..- attr(*, \"names\")= chr \"correlation\"\n",
      " $ alternative: chr \"two.sided\"\n",
      " $ method     : chr \"Pearson's product-moment correlation\"\n",
      " $ data.name  : chr \"df$mpg and df$hp\"\n",
      " $ conf.int   : num [1:2] -0.885 -0.586\n",
      "  ..- attr(*, \"conf.level\")= num 0.95\n",
      " - attr(*, \"class\")= chr \"htest\"\n"
     ]
    }
   ],
   "source": [
    "str(fit)"
   ]
  },
  {
   "cell_type": "code",
   "execution_count": 31,
   "metadata": {
    "ExecuteTime": {
     "end_time": "2020-09-26T14:32:21.955891Z",
     "start_time": "2020-09-26T14:32:20.032Z"
    }
   },
   "outputs": [
    {
     "data": {
      "text/html": [
       "1.78783525412106e-07"
      ],
      "text/latex": [
       "1.78783525412106e-07"
      ],
      "text/markdown": [
       "1.78783525412106e-07"
      ],
      "text/plain": [
       "[1] 1.787835e-07"
      ]
     },
     "metadata": {},
     "output_type": "display_data"
    }
   ],
   "source": [
    "fit$p.value"
   ]
  },
  {
   "cell_type": "code",
   "execution_count": 32,
   "metadata": {
    "ExecuteTime": {
     "end_time": "2020-09-26T14:32:22.132891Z",
     "start_time": "2020-09-26T14:32:20.035Z"
    }
   },
   "outputs": [
    {
     "data": {
      "image/png": "[encoded data removed]",
      "text/plain": [
       "plot without title"
      ]
     },
     "metadata": {},
     "output_type": "display_data"
    }
   ],
   "source": [
    "pairs(df[, c(1, 3:7)])"
   ]
  },
  {
   "cell_type": "code",
   "execution_count": 33,
   "metadata": {
    "ExecuteTime": {
     "end_time": "2020-09-26T14:32:22.164887Z",
     "start_time": "2020-09-26T14:32:20.038Z"
    },
    "scrolled": false
   },
   "outputs": [
    {
     "data": {
      "text/plain": [
       "Call:corr.test(x = df[, c(1, 3:7)])\n",
       "Correlation matrix \n",
       "       mpg  disp    hp  drat    wt  qsec\n",
       "mpg   1.00 -0.85 -0.78  0.68 -0.87  0.42\n",
       "disp -0.85  1.00  0.79 -0.71  0.89 -0.43\n",
       "hp   -0.78  0.79  1.00 -0.45  0.66 -0.71\n",
       "drat  0.68 -0.71 -0.45  1.00 -0.71  0.09\n",
       "wt   -0.87  0.89  0.66 -0.71  1.00 -0.17\n",
       "qsec  0.42 -0.43 -0.71  0.09 -0.17  1.00\n",
       "Sample Size \n",
       "[1] 32\n",
       "Probability values (Entries above the diagonal are adjusted for multiple tests.) \n",
       "      mpg disp   hp drat   wt qsec\n",
       "mpg  0.00 0.00 0.00 0.00 0.00 0.05\n",
       "disp 0.00 0.00 0.00 0.00 0.00 0.05\n",
       "hp   0.00 0.00 0.00 0.05 0.00 0.00\n",
       "drat 0.00 0.00 0.01 0.00 0.00 0.68\n",
       "wt   0.00 0.00 0.00 0.00 0.00 0.68\n",
       "qsec 0.02 0.01 0.00 0.62 0.34 0.00\n",
       "\n",
       " To see confidence intervals of the correlations, print with the short=FALSE option"
      ]
     },
     "metadata": {},
     "output_type": "display_data"
    }
   ],
   "source": [
    "corr.test(df[, c(1, 3:7)])"
   ]
  },
  {
   "cell_type": "code",
   "execution_count": 34,
   "metadata": {
    "ExecuteTime": {
     "end_time": "2020-09-26T14:32:22.643888Z",
     "start_time": "2020-09-26T14:32:20.041Z"
    }
   },
   "outputs": [],
   "source": [
    "?lm"
   ]
  },
  {
   "cell_type": "code",
   "execution_count": 35,
   "metadata": {
    "ExecuteTime": {
     "end_time": "2020-09-26T14:32:22.663884Z",
     "start_time": "2020-09-26T14:32:20.043Z"
    }
   },
   "outputs": [],
   "source": [
    "model <- lm(mpg ~ hp, data = df)"
   ]
  },
  {
   "cell_type": "code",
   "execution_count": 36,
   "metadata": {
    "ExecuteTime": {
     "end_time": "2020-09-26T14:32:22.688885Z",
     "start_time": "2020-09-26T14:32:20.048Z"
    }
   },
   "outputs": [
    {
     "data": {
      "text/plain": [
       "      mpg             cyl             disp             hp       \n",
       " Min.   :10.40   Min.   :4.000   Min.   : 71.1   Min.   : 52.0  \n",
       " 1st Qu.:15.43   1st Qu.:4.000   1st Qu.:120.8   1st Qu.: 96.5  \n",
       " Median :19.20   Median :6.000   Median :196.3   Median :123.0  \n",
       " Mean   :20.09   Mean   :6.188   Mean   :230.7   Mean   :146.7  \n",
       " 3rd Qu.:22.80   3rd Qu.:8.000   3rd Qu.:326.0   3rd Qu.:180.0  \n",
       " Max.   :33.90   Max.   :8.000   Max.   :472.0   Max.   :335.0  \n",
       "      drat             wt             qsec       vs          am    \n",
       " Min.   :2.760   Min.   :1.513   Min.   :14.50   V:18   Auto  :19  \n",
       " 1st Qu.:3.080   1st Qu.:2.581   1st Qu.:16.89   S:14   Manual:13  \n",
       " Median :3.695   Median :3.325   Median :17.71                     \n",
       " Mean   :3.597   Mean   :3.217   Mean   :17.85                     \n",
       " 3rd Qu.:3.920   3rd Qu.:3.610   3rd Qu.:18.90                     \n",
       " Max.   :4.930   Max.   :5.424   Max.   :22.90                     \n",
       "      gear            carb      \n",
       " Min.   :3.000   Min.   :1.000  \n",
       " 1st Qu.:3.000   1st Qu.:2.000  \n",
       " Median :4.000   Median :2.000  \n",
       " Mean   :3.688   Mean   :2.812  \n",
       " 3rd Qu.:4.000   3rd Qu.:4.000  \n",
       " Max.   :5.000   Max.   :8.000  "
      ]
     },
     "metadata": {},
     "output_type": "display_data"
    }
   ],
   "source": [
    "summary(df)"
   ]
  },
  {
   "cell_type": "code",
   "execution_count": 37,
   "metadata": {
    "ExecuteTime": {
     "end_time": "2020-09-26T14:32:22.721932Z",
     "start_time": "2020-09-26T14:32:20.051Z"
    }
   },
   "outputs": [
    {
     "data": {
      "text/plain": [
       "\n",
       "Call:\n",
       "lm(formula = mpg ~ hp, data = df)\n",
       "\n",
       "Residuals:\n",
       "    Min      1Q  Median      3Q     Max \n",
       "-5.7121 -2.1122 -0.8854  1.5819  8.2360 \n",
       "\n",
       "Coefficients:\n",
       "            Estimate Std. Error t value Pr(>|t|)    \n",
       "(Intercept) 30.09886    1.63392  18.421  < 2e-16 ***\n",
       "hp          -0.06823    0.01012  -6.742 1.79e-07 ***\n",
       "---\n",
       "Signif. codes:  0 '***' 0.001 '**' 0.01 '*' 0.05 '.' 0.1 ' ' 1\n",
       "\n",
       "Residual standard error: 3.863 on 30 degrees of freedom\n",
       "Multiple R-squared:  0.6024,\tAdjusted R-squared:  0.5892 \n",
       "F-statistic: 45.46 on 1 and 30 DF,  p-value: 1.788e-07\n"
      ]
     },
     "metadata": {},
     "output_type": "display_data"
    }
   ],
   "source": [
    "summary(model)"
   ]
  },
  {
   "cell_type": "code",
   "execution_count": 38,
   "metadata": {
    "ExecuteTime": {
     "end_time": "2020-09-26T14:32:22.763885Z",
     "start_time": "2020-09-26T14:32:20.054Z"
    }
   },
   "outputs": [
    {
     "name": "stdout",
     "output_type": "stream",
     "text": [
      "List of 12\n",
      " $ coefficients : Named num [1:2] 30.0989 -0.0682\n",
      "  ..- attr(*, \"names\")= chr [1:2] \"(Intercept)\" \"hp\"\n",
      " $ residuals    : Named num [1:32] -1.594 -1.594 -0.954 -1.194 0.541 ...\n",
      "  ..- attr(*, \"names\")= chr [1:32] \"Mazda RX4\" \"Mazda RX4 Wag\" \"Datsun 710\" \"Hornet 4 Drive\" ...\n",
      " $ effects      : Named num [1:32] -113.65 -26.046 -0.556 -0.852 0.67 ...\n",
      "  ..- attr(*, \"names\")= chr [1:32] \"(Intercept)\" \"hp\" \"\" \"\" ...\n",
      " $ rank         : int 2\n",
      " $ fitted.values: Named num [1:32] 22.6 22.6 23.8 22.6 18.2 ...\n",
      "  ..- attr(*, \"names\")= chr [1:32] \"Mazda RX4\" \"Mazda RX4 Wag\" \"Datsun 710\" \"Hornet 4 Drive\" ...\n",
      " $ assign       : int [1:2] 0 1\n",
      " $ qr           :List of 5\n",
      "  ..$ qr   : num [1:32, 1:2] -5.657 0.177 0.177 0.177 0.177 ...\n",
      "  .. ..- attr(*, \"dimnames\")=List of 2\n",
      "  .. .. ..$ : chr [1:32] \"Mazda RX4\" \"Mazda RX4 Wag\" \"Datsun 710\" \"Hornet 4 Drive\" ...\n",
      "  .. .. ..$ : chr [1:2] \"(Intercept)\" \"hp\"\n",
      "  .. ..- attr(*, \"assign\")= int [1:2] 0 1\n",
      "  ..$ qraux: num [1:2] 1.18 1.08\n",
      "  ..$ pivot: int [1:2] 1 2\n",
      "  ..$ tol  : num 1e-07\n",
      "  ..$ rank : int 2\n",
      "  ..- attr(*, \"class\")= chr \"qr\"\n",
      " $ df.residual  : int 30\n",
      " $ xlevels      : Named list()\n",
      " $ call         : language lm(formula = mpg ~ hp, data = df)\n",
      " $ terms        :Classes 'terms', 'formula'  language mpg ~ hp\n",
      "  .. ..- attr(*, \"variables\")= language list(mpg, hp)\n",
      "  .. ..- attr(*, \"factors\")= int [1:2, 1] 0 1\n",
      "  .. .. ..- attr(*, \"dimnames\")=List of 2\n",
      "  .. .. .. ..$ : chr [1:2] \"mpg\" \"hp\"\n",
      "  .. .. .. ..$ : chr \"hp\"\n",
      "  .. ..- attr(*, \"term.labels\")= chr \"hp\"\n",
      "  .. ..- attr(*, \"order\")= int 1\n",
      "  .. ..- attr(*, \"intercept\")= int 1\n",
      "  .. ..- attr(*, \"response\")= int 1\n",
      "  .. ..- attr(*, \".Environment\")=<environment: R_GlobalEnv> \n",
      "  .. ..- attr(*, \"predvars\")= language list(mpg, hp)\n",
      "  .. ..- attr(*, \"dataClasses\")= Named chr [1:2] \"numeric\" \"numeric\"\n",
      "  .. .. ..- attr(*, \"names\")= chr [1:2] \"mpg\" \"hp\"\n",
      " $ model        :'data.frame':\t32 obs. of  2 variables:\n",
      "  ..$ mpg: num [1:32] 21 21 22.8 21.4 18.7 18.1 14.3 24.4 22.8 19.2 ...\n",
      "  ..$ hp : num [1:32] 110 110 93 110 175 105 245 62 95 123 ...\n",
      "  ..- attr(*, \"terms\")=Classes 'terms', 'formula'  language mpg ~ hp\n",
      "  .. .. ..- attr(*, \"variables\")= language list(mpg, hp)\n",
      "  .. .. ..- attr(*, \"factors\")= int [1:2, 1] 0 1\n",
      "  .. .. .. ..- attr(*, \"dimnames\")=List of 2\n",
      "  .. .. .. .. ..$ : chr [1:2] \"mpg\" \"hp\"\n",
      "  .. .. .. .. ..$ : chr \"hp\"\n",
      "  .. .. ..- attr(*, \"term.labels\")= chr \"hp\"\n",
      "  .. .. ..- attr(*, \"order\")= int 1\n",
      "  .. .. ..- attr(*, \"intercept\")= int 1\n",
      "  .. .. ..- attr(*, \"response\")= int 1\n",
      "  .. .. ..- attr(*, \".Environment\")=<environment: R_GlobalEnv> \n",
      "  .. .. ..- attr(*, \"predvars\")= language list(mpg, hp)\n",
      "  .. .. ..- attr(*, \"dataClasses\")= Named chr [1:2] \"numeric\" \"numeric\"\n",
      "  .. .. .. ..- attr(*, \"names\")= chr [1:2] \"mpg\" \"hp\"\n",
      " - attr(*, \"class\")= chr \"lm\"\n"
     ]
    }
   ],
   "source": [
    "str(model)"
   ]
  },
  {
   "cell_type": "code",
   "execution_count": 39,
   "metadata": {
    "ExecuteTime": {
     "end_time": "2020-09-26T14:32:22.784886Z",
     "start_time": "2020-09-26T14:32:20.057Z"
    }
   },
   "outputs": [
    {
     "data": {
      "text/html": [
       "<strong>(Intercept):</strong> 30.0988605396225"
      ],
      "text/latex": [
       "\\textbf{(Intercept):} 30.0988605396225"
      ],
      "text/markdown": [
       "**(Intercept):** 30.0988605396225"
      ],
      "text/plain": [
       "(Intercept) \n",
       "   30.09886 "
      ]
     },
     "metadata": {},
     "output_type": "display_data"
    }
   ],
   "source": [
    "model$coefficients[1]"
   ]
  },
  {
   "cell_type": "code",
   "execution_count": 40,
   "metadata": {
    "ExecuteTime": {
     "end_time": "2020-09-26T14:32:22.808921Z",
     "start_time": "2020-09-26T14:32:20.061Z"
    }
   },
   "outputs": [
    {
     "data": {
      "text/html": [
       "<strong>hp:</strong> -0.0682282780715637"
      ],
      "text/latex": [
       "\\textbf{hp:} -0.0682282780715637"
      ],
      "text/markdown": [
       "**hp:** -0.0682282780715637"
      ],
      "text/plain": [
       "         hp \n",
       "-0.06822828 "
      ]
     },
     "metadata": {},
     "output_type": "display_data"
    }
   ],
   "source": [
    "model$coefficients[2]"
   ]
  },
  {
   "cell_type": "code",
   "execution_count": 41,
   "metadata": {
    "ExecuteTime": {
     "end_time": "2020-09-26T14:32:22.831885Z",
     "start_time": "2020-09-26T14:32:20.066Z"
    }
   },
   "outputs": [
    {
     "data": {
      "text/html": [
       "<style>\n",
       ".dl-inline {width: auto; margin:0; padding: 0}\n",
       ".dl-inline>dt, .dl-inline>dd {float: none; width: auto; display: inline-block}\n",
       ".dl-inline>dt::after {content: \":\\0020\"; padding-right: .5ex}\n",
       ".dl-inline>dt:not(:first-of-type) {padding-left: .5ex}\n",
       "</style><dl class=dl-inline><dt>Mazda RX4</dt><dd>22.5937499517505</dd><dt>Mazda RX4 Wag</dt><dd>22.5937499517505</dd><dt>Datsun 710</dt><dd>23.7536306789671</dd><dt>Hornet 4 Drive</dt><dd>22.5937499517505</dd><dt>Hornet Sportabout</dt><dd>18.1589118770989</dd><dt>Valiant</dt><dd>22.9348913421083</dd><dt>Duster 360</dt><dd>13.3829324120894</dd><dt>Merc 240D</dt><dd>25.8687072991855</dd><dt>Merc 230</dt><dd>23.6171741228239</dd><dt>Merc 280</dt><dd>21.7067823368202</dd><dt>Merc 280C</dt><dd>21.7067823368202</dd><dt>Merc 450SE</dt><dd>17.817770486741</dd><dt>Merc 450SL</dt><dd>17.817770486741</dd><dt>Merc 450SLC</dt><dd>17.817770486741</dd><dt>Cadillac Fleetwood</dt><dd>16.1120635349519</dd><dt>Lincoln Continental</dt><dd>15.4297807542363</dd><dt>Chrysler Imperial</dt><dd>14.4063565831629</dd><dt>Fiat 128</dt><dd>25.5957941868993</dd><dt>Honda Civic</dt><dd>26.5509900799012</dd><dt>Toyota Corolla</dt><dd>25.6640224649709</dd><dt>Toyota Corona</dt><dd>23.4807175666808</dd><dt>Dodge Challenger</dt><dd>19.8646188288879</dd><dt>AMC Javelin</dt><dd>19.8646188288879</dd><dt>Camaro Z28</dt><dd>13.3829324120894</dd><dt>Pontiac Firebird</dt><dd>18.1589118770989</dd><dt>Fiat X1-9</dt><dd>25.5957941868993</dd><dt>Porsche 914-2</dt><dd>23.8900872351102</dd><dt>Lotus Europa</dt><dd>22.3890651175358</dd><dt>Ford Pantera L</dt><dd>12.0865951287297</dd><dt>Ferrari Dino</dt><dd>18.1589118770989</dd><dt>Maserati Bora</dt><dd>7.24238738564867</dd><dt>Volvo 142E</dt><dd>22.6619782298221</dd></dl>\n"
      ],
      "text/latex": [
       "\\begin{description*}\n",
       "\\item[Mazda RX4] 22.5937499517505\n",
       "\\item[Mazda RX4 Wag] 22.5937499517505\n",
       "\\item[Datsun 710] 23.7536306789671\n",
       "\\item[Hornet 4 Drive] 22.5937499517505\n",
       "\\item[Hornet Sportabout] 18.1589118770989\n",
       "\\item[Valiant] 22.9348913421083\n",
       "\\item[Duster 360] 13.3829324120894\n",
       "\\item[Merc 240D] 25.8687072991855\n",
       "\\item[Merc 230] 23.6171741228239\n",
       "\\item[Merc 280] 21.7067823368202\n",
       "\\item[Merc 280C] 21.7067823368202\n",
       "\\item[Merc 450SE] 17.817770486741\n",
       "\\item[Merc 450SL] 17.817770486741\n",
       "\\item[Merc 450SLC] 17.817770486741\n",
       "\\item[Cadillac Fleetwood] 16.1120635349519\n",
       "\\item[Lincoln Continental] 15.4297807542363\n",
       "\\item[Chrysler Imperial] 14.4063565831629\n",
       "\\item[Fiat 128] 25.5957941868993\n",
       "\\item[Honda Civic] 26.5509900799012\n",
       "\\item[Toyota Corolla] 25.6640224649709\n",
       "\\item[Toyota Corona] 23.4807175666808\n",
       "\\item[Dodge Challenger] 19.8646188288879\n",
       "\\item[AMC Javelin] 19.8646188288879\n",
       "\\item[Camaro Z28] 13.3829324120894\n",
       "\\item[Pontiac Firebird] 18.1589118770989\n",
       "\\item[Fiat X1-9] 25.5957941868993\n",
       "\\item[Porsche 914-2] 23.8900872351102\n",
       "\\item[Lotus Europa] 22.3890651175358\n",
       "\\item[Ford Pantera L] 12.0865951287297\n",
       "\\item[Ferrari Dino] 18.1589118770989\n",
       "\\item[Maserati Bora] 7.24238738564867\n",
       "\\item[Volvo 142E] 22.6619782298221\n",
       "\\end{description*}\n"
      ],
      "text/markdown": [
       "Mazda RX4\n",
       ":   22.5937499517505Mazda RX4 Wag\n",
       ":   22.5937499517505Datsun 710\n",
       ":   23.7536306789671Hornet 4 Drive\n",
       ":   22.5937499517505Hornet Sportabout\n",
       ":   18.1589118770989Valiant\n",
       ":   22.9348913421083Duster 360\n",
       ":   13.3829324120894Merc 240D\n",
       ":   25.8687072991855Merc 230\n",
       ":   23.6171741228239Merc 280\n",
       ":   21.7067823368202Merc 280C\n",
       ":   21.7067823368202Merc 450SE\n",
       ":   17.817770486741Merc 450SL\n",
       ":   17.817770486741Merc 450SLC\n",
       ":   17.817770486741Cadillac Fleetwood\n",
       ":   16.1120635349519Lincoln Continental\n",
       ":   15.4297807542363Chrysler Imperial\n",
       ":   14.4063565831629Fiat 128\n",
       ":   25.5957941868993Honda Civic\n",
       ":   26.5509900799012Toyota Corolla\n",
       ":   25.6640224649709Toyota Corona\n",
       ":   23.4807175666808Dodge Challenger\n",
       ":   19.8646188288879AMC Javelin\n",
       ":   19.8646188288879Camaro Z28\n",
       ":   13.3829324120894Pontiac Firebird\n",
       ":   18.1589118770989Fiat X1-9\n",
       ":   25.5957941868993Porsche 914-2\n",
       ":   23.8900872351102Lotus Europa\n",
       ":   22.3890651175358Ford Pantera L\n",
       ":   12.0865951287297Ferrari Dino\n",
       ":   18.1589118770989Maserati Bora\n",
       ":   7.24238738564867Volvo 142E\n",
       ":   22.6619782298221\n",
       "\n"
      ],
      "text/plain": [
       "          Mazda RX4       Mazda RX4 Wag          Datsun 710      Hornet 4 Drive \n",
       "          22.593750           22.593750           23.753631           22.593750 \n",
       "  Hornet Sportabout             Valiant          Duster 360           Merc 240D \n",
       "          18.158912           22.934891           13.382932           25.868707 \n",
       "           Merc 230            Merc 280           Merc 280C          Merc 450SE \n",
       "          23.617174           21.706782           21.706782           17.817770 \n",
       "         Merc 450SL         Merc 450SLC  Cadillac Fleetwood Lincoln Continental \n",
       "          17.817770           17.817770           16.112064           15.429781 \n",
       "  Chrysler Imperial            Fiat 128         Honda Civic      Toyota Corolla \n",
       "          14.406357           25.595794           26.550990           25.664022 \n",
       "      Toyota Corona    Dodge Challenger         AMC Javelin          Camaro Z28 \n",
       "          23.480718           19.864619           19.864619           13.382932 \n",
       "   Pontiac Firebird           Fiat X1-9       Porsche 914-2        Lotus Europa \n",
       "          18.158912           25.595794           23.890087           22.389065 \n",
       "     Ford Pantera L        Ferrari Dino       Maserati Bora          Volvo 142E \n",
       "          12.086595           18.158912            7.242387           22.661978 "
      ]
     },
     "metadata": {},
     "output_type": "display_data"
    }
   ],
   "source": [
    "model$fitted.values"
   ]
  },
  {
   "cell_type": "markdown",
   "metadata": {},
   "source": [
    "### Data Preparation"
   ]
  },
  {
   "cell_type": "markdown",
   "metadata": {},
   "source": [
    "We use the package `tidyquant` to fetch the automotive stock data from Yahoo Finance. As we cannot get the full volume size from this companies through Yahoo Finance API.\n",
    "\n",
    "Let’s define the window from which we want to fetch the data of the German auto companies."
   ]
  },
  {
   "cell_type": "code",
   "execution_count": 42,
   "metadata": {
    "ExecuteTime": {
     "end_time": "2020-09-26T14:32:22.851920Z",
     "start_time": "2020-09-26T14:32:20.151Z"
    }
   },
   "outputs": [],
   "source": [
    "startDate <- \"2014-05-01\"\n",
    "endDate <- \"2015-12-31\""
   ]
  },
  {
   "cell_type": "markdown",
   "metadata": {},
   "source": [
    "We focus us on the big five motor manufacturers in Germany, namely\n",
    "- VW Group\n",
    "    - VW\n",
    "    - Audi\n",
    "- Porsche\n",
    "- Daimler\n",
    "- BMW"
   ]
  },
  {
   "cell_type": "code",
   "execution_count": 43,
   "metadata": {
    "ExecuteTime": {
     "end_time": "2020-09-26T14:32:25.515054Z",
     "start_time": "2020-09-26T14:32:20.189Z"
    }
   },
   "outputs": [
    {
     "name": "stderr",
     "output_type": "stream",
     "text": [
      "'getSymbols' currently uses auto.assign=TRUE by default, but will\n",
      "use auto.assign=FALSE in 0.5-0. You will still be able to use\n",
      "'loadSymbols' to automatically load data. getOption(\"getSymbols.env\")\n",
      "and getOption(\"getSymbols.auto.assign\") will still be checked for\n",
      "alternate defaults.\n",
      "\n",
      "This message is shown once per session and may be disabled by setting \n",
      "options(\"getSymbols.warning4.0\"=FALSE). See ?getSymbols for details.\n",
      "\n"
     ]
    },
    {
     "data": {
      "text/plain": [
       "           VOW3.DE.Adjusted PAH3.DE.Adjusted NSU.DE.Adjusted DAI.DE.Adjusted\n",
       "2014-05-02         166.3827         58.60135        611.2695        48.71801\n",
       "2014-05-05         166.3827         58.38600        609.3226        48.46794\n",
       "2014-05-06         164.7694         56.95291        614.1895        47.92370\n",
       "2014-05-07         163.8538         55.84652        614.2382        47.65892\n",
       "2014-05-08         166.9495         57.60635        614.5303        47.80602\n",
       "2014-05-09         166.3827         57.56180        609.1281        47.45298\n",
       "           BMW.DE.Adjusted\n",
       "2014-05-02        66.57825\n",
       "2014-05-05        66.36887\n",
       "2014-05-06        66.13704\n",
       "2014-05-07        65.95009\n",
       "2014-05-08        66.03234\n",
       "2014-05-09        65.89774"
      ]
     },
     "metadata": {},
     "output_type": "display_data"
    }
   ],
   "source": [
    "# Firm Data\n",
    "firmSymbols <- c(\"VOW3.DE\", \"NSU.DE\", \"PAH3.DE\", \"BMW.DE\", \"DAI.DE\")\n",
    "firmNames <- c(\"VW preferred\", \"Audi\", \"Porsche Automobil Hld\", \"BMW\", \"Daimler\")\n",
    "firms <- getSymbols(Symbols = firmSymbols, from = startDate, to = endDate)\n",
    "firms.prices <- cbind(VOW3.DE$VOW3.DE.Adjusted, PAH3.DE$PAH3.DE.Adjusted, NSU.DE$NSU.DE.Adjusted,\n",
    "DAI.DE$DAI.DE.Adjusted, BMW.DE$BMW.DE.Adjusted)\n",
    "head(firms.prices)"
   ]
  },
  {
   "cell_type": "markdown",
   "metadata": {},
   "source": [
    "As reference market we choose the DAX."
   ]
  },
  {
   "cell_type": "code",
   "execution_count": 44,
   "metadata": {
    "ExecuteTime": {
     "end_time": "2020-09-26T14:32:25.878277Z",
     "start_time": "2020-09-26T14:32:20.227Z"
    }
   },
   "outputs": [
    {
     "data": {
      "text/plain": [
       "           GDAXI.Open GDAXI.High GDAXI.Low GDAXI.Close GDAXI.Volume\n",
       "2014-05-02    9611.79    9627.38   9533.30     9556.02     88062300\n",
       "2014-05-05    9536.38    9548.17   9407.09     9529.50     61911600\n",
       "2014-05-06    9570.25    9571.63   9440.47     9467.53     82062900\n",
       "2014-05-07    9418.50    9554.35   9410.08     9521.30     92732600\n",
       "2014-05-08    9547.27    9622.30   9487.57     9607.40    102022500\n",
       "2014-05-09    9591.32    9602.86   9558.11     9581.45     80084100\n",
       "           GDAXI.Adjusted\n",
       "2014-05-02        9556.02\n",
       "2014-05-05        9529.50\n",
       "2014-05-06        9467.53\n",
       "2014-05-07        9521.30\n",
       "2014-05-08        9607.40\n",
       "2014-05-09        9581.45"
      ]
     },
     "metadata": {},
     "output_type": "display_data"
    }
   ],
   "source": [
    "# Index Data\n",
    "indexSymbol <- c(\"^GDAXI\")\n",
    "indexName <- c(\"DAX\")\n",
    "index <- getSymbols(Symbols = indexSymbol, from = startDate, to = endDate, auto.assign =  F)\n",
    "head(index)"
   ]
  },
  {
   "cell_type": "code",
   "execution_count": 45,
   "metadata": {
    "ExecuteTime": {
     "end_time": "2020-09-26T14:32:25.900273Z",
     "start_time": "2020-09-26T14:32:20.230Z"
    }
   },
   "outputs": [],
   "source": [
    "# Making log returns\n",
    "firms.ret <- diff(log(firms.prices))[-1] * 100\n",
    "index.ret <- diff(log(index$GDAXI.Adjusted))[-1] * 100"
   ]
  },
  {
   "cell_type": "markdown",
   "metadata": {},
   "source": [
    "The parameters for this Event Study are:\n",
    "- Estimation window: 250\n",
    "- Event window: -10 to 10\n",
    "- Event date: 18.09.2015"
   ]
  },
  {
   "cell_type": "code",
   "execution_count": 46,
   "metadata": {
    "ExecuteTime": {
     "end_time": "2020-09-26T14:32:25.928271Z",
     "start_time": "2020-09-26T14:32:20.317Z"
    }
   },
   "outputs": [],
   "source": [
    "startpoint  <- which(index(index.ret) == \"2015-09-18\")\n",
    "estimation_window <- 250\n",
    "event_window <- 20"
   ]
  },
  {
   "cell_type": "markdown",
   "metadata": {},
   "source": [
    "### Fitting market model"
   ]
  },
  {
   "cell_type": "code",
   "execution_count": 47,
   "metadata": {
    "ExecuteTime": {
     "end_time": "2020-09-26T14:32:25.972308Z",
     "start_time": "2020-09-26T14:32:20.371Z"
    },
    "scrolled": false
   },
   "outputs": [
    {
     "name": "stdout",
     "output_type": "stream",
     "text": [
      "[1] \"VOW3.DE.Adjusted\"\n",
      "\n",
      "Call:\n",
      "lm(formula = est_window_returns ~ est_window_market)\n",
      "\n",
      "Residuals:\n",
      "    Min      1Q  Median      3Q     Max \n",
      "-3.5745 -0.4788 -0.0388  0.5483  3.2121 \n",
      "\n",
      "Coefficients:\n",
      "                  Estimate Std. Error t value Pr(>|t|)    \n",
      "(Intercept)       -0.04109    0.06268  -0.656    0.513    \n",
      "est_window_market  1.05141    0.04426  23.757   <2e-16 ***\n",
      "---\n",
      "Signif. codes:  0 '***' 0.001 '**' 0.01 '*' 0.05 '.' 0.1 ' ' 1\n",
      "\n",
      "Residual standard error: 0.9909 on 248 degrees of freedom\n",
      "Multiple R-squared:  0.6947,\tAdjusted R-squared:  0.6935 \n",
      "F-statistic: 564.4 on 1 and 248 DF,  p-value: < 2.2e-16\n",
      "\n",
      "[1] \"PAH3.DE.Adjusted\"\n",
      "\n",
      "Call:\n",
      "lm(formula = est_window_returns ~ est_window_market)\n",
      "\n",
      "Residuals:\n",
      "    Min      1Q  Median      3Q     Max \n",
      "-3.5162 -0.5490 -0.0155  0.5388  2.6449 \n",
      "\n",
      "Coefficients:\n",
      "                  Estimate Std. Error t value Pr(>|t|)    \n",
      "(Intercept)       -0.06513    0.05747  -1.133    0.258    \n",
      "est_window_market  0.98885    0.04058  24.370   <2e-16 ***\n",
      "---\n",
      "Signif. codes:  0 '***' 0.001 '**' 0.01 '*' 0.05 '.' 0.1 ' ' 1\n",
      "\n",
      "Residual standard error: 0.9085 on 248 degrees of freedom\n",
      "Multiple R-squared:  0.7054,\tAdjusted R-squared:  0.7042 \n",
      "F-statistic: 593.9 on 1 and 248 DF,  p-value: < 2.2e-16\n",
      "\n",
      "[1] \"NSU.DE.Adjusted\"\n",
      "\n",
      "Call:\n",
      "lm(formula = est_window_returns ~ est_window_market)\n",
      "\n",
      "Residuals:\n",
      "    Min      1Q  Median      3Q     Max \n",
      "-5.4377 -0.5653 -0.1449  0.4840  7.2632 \n",
      "\n",
      "Coefficients:\n",
      "                  Estimate Std. Error t value Pr(>|t|)    \n",
      "(Intercept)        0.11241    0.08819   1.275 0.203648    \n",
      "est_window_market  0.22335    0.06227   3.587 0.000403 ***\n",
      "---\n",
      "Signif. codes:  0 '***' 0.001 '**' 0.01 '*' 0.05 '.' 0.1 ' ' 1\n",
      "\n",
      "Residual standard error: 1.394 on 248 degrees of freedom\n",
      "Multiple R-squared:  0.04932,\tAdjusted R-squared:  0.04548 \n",
      "F-statistic: 12.86 on 1 and 248 DF,  p-value: 0.0004033\n",
      "\n",
      "[1] \"DAI.DE.Adjusted\"\n",
      "\n",
      "Call:\n",
      "lm(formula = est_window_returns ~ est_window_market)\n",
      "\n",
      "Residuals:\n",
      "    Min      1Q  Median      3Q     Max \n",
      "-2.6123 -0.3877  0.0529  0.3708  3.4233 \n",
      "\n",
      "Coefficients:\n",
      "                  Estimate Std. Error t value Pr(>|t|)    \n",
      "(Intercept)        0.03058    0.04346   0.704    0.482    \n",
      "est_window_market  1.14429    0.03068  37.292   <2e-16 ***\n",
      "---\n",
      "Signif. codes:  0 '***' 0.001 '**' 0.01 '*' 0.05 '.' 0.1 ' ' 1\n",
      "\n",
      "Residual standard error: 0.687 on 248 degrees of freedom\n",
      "Multiple R-squared:  0.8487,\tAdjusted R-squared:  0.8481 \n",
      "F-statistic:  1391 on 1 and 248 DF,  p-value: < 2.2e-16\n",
      "\n",
      "[1] \"BMW.DE.Adjusted\"\n",
      "\n",
      "Call:\n",
      "lm(formula = est_window_returns ~ est_window_market)\n",
      "\n",
      "Residuals:\n",
      "    Min      1Q  Median      3Q     Max \n",
      "-3.7030 -0.5023  0.0336  0.4816  2.6785 \n",
      "\n",
      "Coefficients:\n",
      "                  Estimate Std. Error t value Pr(>|t|)    \n",
      "(Intercept)       -0.05859    0.05568  -1.052    0.294    \n",
      "est_window_market  1.12087    0.03932  28.509   <2e-16 ***\n",
      "---\n",
      "Signif. codes:  0 '***' 0.001 '**' 0.01 '*' 0.05 '.' 0.1 ' ' 1\n",
      "\n",
      "Residual standard error: 0.8803 on 248 degrees of freedom\n",
      "Multiple R-squared:  0.7662,\tAdjusted R-squared:  0.7653 \n",
      "F-statistic: 812.7 on 1 and 248 DF,  p-value: < 2.2e-16\n",
      "\n"
     ]
    }
   ],
   "source": [
    "fitted.models <- list()\n",
    "\n",
    "est_window_market <- index.ret[(startpoint - estimation_window - event_window/2):(startpoint - event_window/2 - 1)]\n",
    "\n",
    "for(i in colnames(firms.ret)){\n",
    "    est_window_returns <- firms.ret[(startpoint - estimation_window - event_window/2):(startpoint - event_window/2- 1), i]\n",
    "    fitted.models[[i]] <- lm(est_window_returns ~ est_window_market)\n",
    "    print(i)\n",
    "    print(summary(fitted.models[[i]]))\n",
    "}"
   ]
  },
  {
   "cell_type": "markdown",
   "metadata": {},
   "source": [
    "### Making predictions"
   ]
  },
  {
   "cell_type": "code",
   "execution_count": 48,
   "metadata": {
    "ExecuteTime": {
     "end_time": "2020-09-26T14:32:26.011273Z",
     "start_time": "2020-09-26T14:32:20.409Z"
    }
   },
   "outputs": [],
   "source": [
    "predicted <- matrix(NA, nrow = event_window, ncol = length(firmSymbols))\n",
    "colnames(predicted) <- c(\"VOW3.DE\", \"NSU.DE\", \"PAH3.DE\", \"BMW.DE\", \"DAI.DE\")\n",
    "for(i in 1:length(firmSymbols)){\n",
    "    for(j in 1:event_window){\n",
    "        predicted[j, i] <- (fitted.models[[i]]$coefficients[1] + fitted.models[[i]]$coefficients[2] * index.ret[(startpoint - event_window/2 - 1 + j)])\n",
    "    }\n",
    "}\n",
    "\n",
    "# What about re-writing it in a \"normal\", not eye-bleeding loop... I mean matrices, of course\n",
    "# Try to do it at home\n",
    "\n",
    "predicted <- as.xts(predicted, order.by = as.Date(index(index.ret)[(startpoint - event_window/ 2):(startpoint + event_window/2-1)]))"
   ]
  },
  {
   "cell_type": "markdown",
   "metadata": {},
   "source": [
    "### Calculating abnormal returns"
   ]
  },
  {
   "cell_type": "code",
   "execution_count": 49,
   "metadata": {
    "ExecuteTime": {
     "end_time": "2020-09-26T14:32:26.048310Z",
     "start_time": "2020-09-26T14:32:20.446Z"
    }
   },
   "outputs": [],
   "source": [
    "y_true <- matrix(NA, nrow = event_window, ncol = length(firmSymbols))\n",
    "colnames(y_true) <- c(\"VOW3.DE\", \"NSU.DE\", \"PAH3.DE\", \"BMW.DE\", \"DAI.DE\")\n",
    "y_true <- firms.ret[(startpoint - event_window/2):(startpoint + event_window/2-1)]\n",
    "ab.ret <- matrix(NA, nrow = NROW(predicted), ncol = ncol(predicted))\n",
    "colnames(ab.ret) <- colnames(predicted)\n",
    "for(i in 1:ncol(predicted)){\n",
    "    ab.ret[, i] <- y_true[, i] - predicted[, i]\n",
    "}\n",
    "\n",
    "ab.ret <- as.data.frame(ab.ret)\n",
    "rownames(ab.ret) <- as.Date(index(predicted))"
   ]
  },
  {
   "cell_type": "markdown",
   "metadata": {},
   "source": [
    "### Calculating abnormal returns"
   ]
  },
  {
   "cell_type": "markdown",
   "metadata": {},
   "source": [
    "Remember that $J_{3} = [\\frac{N^{+}}{N}-0.5]\\frac{\\sqrt{N}}{0.5}\\rightarrow^{d}\\mathcal{N(0, 1)}$"
   ]
  },
  {
   "cell_type": "code",
   "execution_count": 50,
   "metadata": {
    "ExecuteTime": {
     "end_time": "2020-09-26T14:32:26.091276Z",
     "start_time": "2020-09-26T14:32:20.536Z"
    }
   },
   "outputs": [
    {
     "name": "stdout",
     "output_type": "stream",
     "text": [
      "[1] \"VOW3.DE\" \"NSU.DE\"  \"PAH3.DE\" \"BMW.DE\"  \"DAI.DE\" \n",
      "   VOW3.DE     NSU.DE    PAH3.DE     BMW.DE     DAI.DE \n",
      " 0.0000000  0.0000000 -1.3416408  0.4472136  1.7888544 \n"
     ]
    },
    {
     "data": {
      "text/html": [
       "<style>\n",
       ".list-inline {list-style: none; margin:0; padding: 0}\n",
       ".list-inline>li {display: inline-block}\n",
       ".list-inline>li:not(:last-child)::after {content: \"\\00b7\"; padding: 0 .5ex}\n",
       "</style>\n",
       "<ol class=list-inline><li>'1.000'</li><li>'1.000'</li><li>'0.180'</li><li>'0.655'</li><li>'0.074'</li></ol>\n"
      ],
      "text/latex": [
       "\\begin{enumerate*}\n",
       "\\item '1.000'\n",
       "\\item '1.000'\n",
       "\\item '0.180'\n",
       "\\item '0.655'\n",
       "\\item '0.074'\n",
       "\\end{enumerate*}\n"
      ],
      "text/markdown": [
       "1. '1.000'\n",
       "2. '1.000'\n",
       "3. '0.180'\n",
       "4. '0.655'\n",
       "5. '0.074'\n",
       "\n",
       "\n"
      ],
      "text/plain": [
       "[1] \"1.000\" \"1.000\" \"0.180\" \"0.655\" \"0.074\""
      ]
     },
     "metadata": {},
     "output_type": "display_data"
    }
   ],
   "source": [
    "J_3 <- vector()\n",
    "p_value <- vector()\n",
    "for (i in colnames(ab.ret)){\n",
    "    J_3[i] <- ((sum(ab.ret[i] > 0) / nrow(ab.ret[i])) - 0.5)*(sqrt(nrow(ab.ret[i]))/0.5)\n",
    "    p_value[i] <- ifelse(J_3[i] > 0, 2*(1-pnorm(J_3[i])), 2 * pnorm(J_3[i])) # how can you change this line without using 0.5?\n",
    "}\n",
    "print(firmSymbols)\n",
    "print(J_3)\n",
    "sprintf(\"%.3f\", p_value)"
   ]
  },
  {
   "cell_type": "markdown",
   "metadata": {},
   "source": [
    "- Still, it is very usefull, especially for you home assignment, to calculate CARs and SCARS\n",
    "- For simplicity, let's do this only for one stock"
   ]
  },
  {
   "cell_type": "code",
   "execution_count": 51,
   "metadata": {
    "ExecuteTime": {
     "end_time": "2020-09-26T14:32:26.112276Z",
     "start_time": "2020-09-26T14:32:20.572Z"
    }
   },
   "outputs": [],
   "source": [
    "vow <- firms.ret$VOW3.DE.Adjusted # let's pick VW"
   ]
  },
  {
   "cell_type": "code",
   "execution_count": 52,
   "metadata": {
    "ExecuteTime": {
     "end_time": "2020-09-26T14:32:26.139277Z",
     "start_time": "2020-09-26T14:32:20.574Z"
    }
   },
   "outputs": [],
   "source": [
    "event_returns <- vow[(startpoint - event_window/2):(startpoint + event_window/2-1)]"
   ]
  },
  {
   "cell_type": "code",
   "execution_count": 53,
   "metadata": {
    "ExecuteTime": {
     "end_time": "2020-09-26T14:32:26.163308Z",
     "start_time": "2020-09-26T14:32:20.576Z"
    }
   },
   "outputs": [],
   "source": [
    "event_market <- index.ret[(startpoint - event_window/2):(startpoint + event_window/2-1)]"
   ]
  },
  {
   "cell_type": "code",
   "execution_count": 54,
   "metadata": {
    "ExecuteTime": {
     "end_time": "2020-09-26T14:32:26.184274Z",
     "start_time": "2020-09-26T14:32:20.579Z"
    }
   },
   "outputs": [],
   "source": [
    "est_window_vow <- vow[(startpoint - estimation_window - event_window/2):(startpoint - event_window/2- 1)]"
   ]
  },
  {
   "cell_type": "code",
   "execution_count": 55,
   "metadata": {
    "ExecuteTime": {
     "end_time": "2020-09-26T14:32:26.218275Z",
     "start_time": "2020-09-26T14:32:20.581Z"
    }
   },
   "outputs": [],
   "source": [
    "vow_model <- lm(est_window_vow ~ est_window_market)"
   ]
  },
  {
   "cell_type": "code",
   "execution_count": 56,
   "metadata": {
    "ExecuteTime": {
     "end_time": "2020-09-26T14:32:26.243273Z",
     "start_time": "2020-09-26T14:32:20.583Z"
    }
   },
   "outputs": [
    {
     "data": {
      "text/plain": [
       "\n",
       "Call:\n",
       "lm(formula = est_window_vow ~ est_window_market)\n",
       "\n",
       "Residuals:\n",
       "    Min      1Q  Median      3Q     Max \n",
       "-3.5745 -0.4788 -0.0388  0.5483  3.2121 \n",
       "\n",
       "Coefficients:\n",
       "                  Estimate Std. Error t value Pr(>|t|)    \n",
       "(Intercept)       -0.04109    0.06268  -0.656    0.513    \n",
       "est_window_market  1.05141    0.04426  23.757   <2e-16 ***\n",
       "---\n",
       "Signif. codes:  0 '***' 0.001 '**' 0.01 '*' 0.05 '.' 0.1 ' ' 1\n",
       "\n",
       "Residual standard error: 0.9909 on 248 degrees of freedom\n",
       "Multiple R-squared:  0.6947,\tAdjusted R-squared:  0.6935 \n",
       "F-statistic: 564.4 on 1 and 248 DF,  p-value: < 2.2e-16\n"
      ]
     },
     "metadata": {},
     "output_type": "display_data"
    }
   ],
   "source": [
    "summary(vow_model)"
   ]
  },
  {
   "cell_type": "code",
   "execution_count": 57,
   "metadata": {
    "ExecuteTime": {
     "end_time": "2020-09-26T14:32:26.264274Z",
     "start_time": "2020-09-26T14:32:20.586Z"
    }
   },
   "outputs": [],
   "source": [
    "coeff_vow <- as.numeric(vow_model$coefficients)"
   ]
  },
  {
   "cell_type": "code",
   "execution_count": 58,
   "metadata": {
    "ExecuteTime": {
     "end_time": "2020-09-26T14:32:26.289307Z",
     "start_time": "2020-09-26T14:32:20.588Z"
    }
   },
   "outputs": [],
   "source": [
    "out_of_sample <- as.matrix(cbind(rep(1, event_window), event_market))"
   ]
  },
  {
   "cell_type": "code",
   "execution_count": 59,
   "metadata": {
    "ExecuteTime": {
     "end_time": "2020-09-26T14:32:26.316275Z",
     "start_time": "2020-09-26T14:32:20.590Z"
    }
   },
   "outputs": [],
   "source": [
    "in_sample <- as.matrix(cbind(rep(1, estimation_window), est_window_market))"
   ]
  },
  {
   "cell_type": "code",
   "execution_count": 60,
   "metadata": {
    "ExecuteTime": {
     "end_time": "2020-09-26T14:32:26.339272Z",
     "start_time": "2020-09-26T14:32:20.592Z"
    }
   },
   "outputs": [],
   "source": [
    "predictions <- out_of_sample %*% coeff_vow"
   ]
  },
  {
   "cell_type": "code",
   "execution_count": 61,
   "metadata": {
    "ExecuteTime": {
     "end_time": "2020-09-26T14:32:26.358274Z",
     "start_time": "2020-09-26T14:32:20.595Z"
    }
   },
   "outputs": [],
   "source": [
    "abnorm_returns <- event_returns - predictions"
   ]
  },
  {
   "cell_type": "code",
   "execution_count": 62,
   "metadata": {
    "ExecuteTime": {
     "end_time": "2020-09-26T14:32:26.386275Z",
     "start_time": "2020-09-26T14:32:20.597Z"
    }
   },
   "outputs": [
    {
     "data": {
      "text/plain": [
       "           VOW3.DE.Adjusted\n",
       "2015-09-04       0.19510900\n",
       "2015-09-07      -0.35696989\n",
       "2015-09-08       0.90968908\n",
       "2015-09-09       1.37974522\n",
       "2015-09-10      -0.07489486\n",
       "2015-09-11       0.93956384\n",
       "2015-09-14      -0.55122943\n",
       "2015-09-15       0.70642787\n",
       "2015-09-16      -0.09582368\n",
       "2015-09-17      -1.07974730\n",
       "2015-09-18       0.04178897\n",
       "2015-09-21     -20.87600330\n",
       "2015-09-22     -17.97546387\n",
       "2015-09-23       4.63967223\n",
       "2015-09-24       2.66535957\n",
       "2015-09-25      -7.24979604\n",
       "2015-09-28      -5.45888258\n",
       "2015-09-29      -3.80731675\n",
       "2015-09-30       0.37320304\n",
       "2015-10-01       0.41258668"
      ]
     },
     "metadata": {},
     "output_type": "display_data"
    }
   ],
   "source": [
    "abnorm_returns"
   ]
  },
  {
   "cell_type": "code",
   "execution_count": 63,
   "metadata": {
    "ExecuteTime": {
     "end_time": "2020-09-26T14:32:26.417280Z",
     "start_time": "2020-09-26T14:32:20.601Z"
    }
   },
   "outputs": [
    {
     "data": {
      "text/html": [
       "<table>\n",
       "<caption>A data.frame: 20 × 1</caption>\n",
       "<thead>\n",
       "\t<tr><th></th><th scope=col>VOW3.DE</th></tr>\n",
       "\t<tr><th></th><th scope=col>&lt;dbl&gt;</th></tr>\n",
       "</thead>\n",
       "<tbody>\n",
       "\t<tr><th scope=row>2015-09-04</th><td>  0.19510900</td></tr>\n",
       "\t<tr><th scope=row>2015-09-07</th><td> -0.35696989</td></tr>\n",
       "\t<tr><th scope=row>2015-09-08</th><td>  0.90968908</td></tr>\n",
       "\t<tr><th scope=row>2015-09-09</th><td>  1.37974522</td></tr>\n",
       "\t<tr><th scope=row>2015-09-10</th><td> -0.07489486</td></tr>\n",
       "\t<tr><th scope=row>2015-09-11</th><td>  0.93956384</td></tr>\n",
       "\t<tr><th scope=row>2015-09-14</th><td> -0.55122943</td></tr>\n",
       "\t<tr><th scope=row>2015-09-15</th><td>  0.70642787</td></tr>\n",
       "\t<tr><th scope=row>2015-09-16</th><td> -0.09582368</td></tr>\n",
       "\t<tr><th scope=row>2015-09-17</th><td> -1.07974730</td></tr>\n",
       "\t<tr><th scope=row>2015-09-18</th><td>  0.04178897</td></tr>\n",
       "\t<tr><th scope=row>2015-09-21</th><td>-20.87600330</td></tr>\n",
       "\t<tr><th scope=row>2015-09-22</th><td>-17.97546387</td></tr>\n",
       "\t<tr><th scope=row>2015-09-23</th><td>  4.63967223</td></tr>\n",
       "\t<tr><th scope=row>2015-09-24</th><td>  2.66535957</td></tr>\n",
       "\t<tr><th scope=row>2015-09-25</th><td> -7.24979604</td></tr>\n",
       "\t<tr><th scope=row>2015-09-28</th><td> -5.45888258</td></tr>\n",
       "\t<tr><th scope=row>2015-09-29</th><td> -3.80731675</td></tr>\n",
       "\t<tr><th scope=row>2015-09-30</th><td>  0.37320304</td></tr>\n",
       "\t<tr><th scope=row>2015-10-01</th><td>  0.41258668</td></tr>\n",
       "</tbody>\n",
       "</table>\n"
      ],
      "text/latex": [
       "A data.frame: 20 × 1\n",
       "\\begin{tabular}{r|l}\n",
       "  & VOW3.DE\\\\\n",
       "  & <dbl>\\\\\n",
       "\\hline\n",
       "\t2015-09-04 &   0.19510900\\\\\n",
       "\t2015-09-07 &  -0.35696989\\\\\n",
       "\t2015-09-08 &   0.90968908\\\\\n",
       "\t2015-09-09 &   1.37974522\\\\\n",
       "\t2015-09-10 &  -0.07489486\\\\\n",
       "\t2015-09-11 &   0.93956384\\\\\n",
       "\t2015-09-14 &  -0.55122943\\\\\n",
       "\t2015-09-15 &   0.70642787\\\\\n",
       "\t2015-09-16 &  -0.09582368\\\\\n",
       "\t2015-09-17 &  -1.07974730\\\\\n",
       "\t2015-09-18 &   0.04178897\\\\\n",
       "\t2015-09-21 & -20.87600330\\\\\n",
       "\t2015-09-22 & -17.97546387\\\\\n",
       "\t2015-09-23 &   4.63967223\\\\\n",
       "\t2015-09-24 &   2.66535957\\\\\n",
       "\t2015-09-25 &  -7.24979604\\\\\n",
       "\t2015-09-28 &  -5.45888258\\\\\n",
       "\t2015-09-29 &  -3.80731675\\\\\n",
       "\t2015-09-30 &   0.37320304\\\\\n",
       "\t2015-10-01 &   0.41258668\\\\\n",
       "\\end{tabular}\n"
      ],
      "text/markdown": [
       "\n",
       "A data.frame: 20 × 1\n",
       "\n",
       "| <!--/--> | VOW3.DE &lt;dbl&gt; |\n",
       "|---|---|\n",
       "| 2015-09-04 |   0.19510900 |\n",
       "| 2015-09-07 |  -0.35696989 |\n",
       "| 2015-09-08 |   0.90968908 |\n",
       "| 2015-09-09 |   1.37974522 |\n",
       "| 2015-09-10 |  -0.07489486 |\n",
       "| 2015-09-11 |   0.93956384 |\n",
       "| 2015-09-14 |  -0.55122943 |\n",
       "| 2015-09-15 |   0.70642787 |\n",
       "| 2015-09-16 |  -0.09582368 |\n",
       "| 2015-09-17 |  -1.07974730 |\n",
       "| 2015-09-18 |   0.04178897 |\n",
       "| 2015-09-21 | -20.87600330 |\n",
       "| 2015-09-22 | -17.97546387 |\n",
       "| 2015-09-23 |   4.63967223 |\n",
       "| 2015-09-24 |   2.66535957 |\n",
       "| 2015-09-25 |  -7.24979604 |\n",
       "| 2015-09-28 |  -5.45888258 |\n",
       "| 2015-09-29 |  -3.80731675 |\n",
       "| 2015-09-30 |   0.37320304 |\n",
       "| 2015-10-01 |   0.41258668 |\n",
       "\n"
      ],
      "text/plain": [
       "           VOW3.DE     \n",
       "2015-09-04   0.19510900\n",
       "2015-09-07  -0.35696989\n",
       "2015-09-08   0.90968908\n",
       "2015-09-09   1.37974522\n",
       "2015-09-10  -0.07489486\n",
       "2015-09-11   0.93956384\n",
       "2015-09-14  -0.55122943\n",
       "2015-09-15   0.70642787\n",
       "2015-09-16  -0.09582368\n",
       "2015-09-17  -1.07974730\n",
       "2015-09-18   0.04178897\n",
       "2015-09-21 -20.87600330\n",
       "2015-09-22 -17.97546387\n",
       "2015-09-23   4.63967223\n",
       "2015-09-24   2.66535957\n",
       "2015-09-25  -7.24979604\n",
       "2015-09-28  -5.45888258\n",
       "2015-09-29  -3.80731675\n",
       "2015-09-30   0.37320304\n",
       "2015-10-01   0.41258668"
      ]
     },
     "metadata": {},
     "output_type": "display_data"
    }
   ],
   "source": [
    "ab.ret[1]"
   ]
  },
  {
   "cell_type": "markdown",
   "metadata": {},
   "source": [
    "- I hope that you remember this formula from lecture  \n",
    "$$\\sigma(c)^2 = \\hat{\\sigma}_{\\varepsilon_i}^2\\cdot c'(I + X^{*}(X'X)^{-1}X'^{*})\\cdot c$$"
   ]
  },
  {
   "cell_type": "code",
   "execution_count": 64,
   "metadata": {
    "ExecuteTime": {
     "end_time": "2020-09-26T14:32:26.438273Z",
     "start_time": "2020-09-26T14:32:20.652Z"
    }
   },
   "outputs": [],
   "source": [
    "ones <- diag(event_window)"
   ]
  },
  {
   "cell_type": "code",
   "execution_count": 65,
   "metadata": {
    "ExecuteTime": {
     "end_time": "2020-09-26T14:32:26.467278Z",
     "start_time": "2020-09-26T14:32:20.654Z"
    }
   },
   "outputs": [],
   "source": [
    "var_abnorm <- (summary(vow_model)$sigma)^2*(ones + out_of_sample %*% solve(t(in_sample) %*% in_sample)%*% t(out_of_sample))"
   ]
  },
  {
   "cell_type": "code",
   "execution_count": 66,
   "metadata": {
    "ExecuteTime": {
     "end_time": "2020-09-26T14:32:26.490275Z",
     "start_time": "2020-09-26T14:32:20.656Z"
    }
   },
   "outputs": [],
   "source": [
    "c_matrix <- t(lower.tri(matrix(1,event_window,event_window),diag = TRUE))"
   ]
  },
  {
   "cell_type": "code",
   "execution_count": 67,
   "metadata": {
    "ExecuteTime": {
     "end_time": "2020-09-26T14:32:26.512279Z",
     "start_time": "2020-09-26T14:32:20.658Z"
    }
   },
   "outputs": [],
   "source": [
    "event_car <- c(rep(0, event_window))"
   ]
  },
  {
   "cell_type": "code",
   "execution_count": 68,
   "metadata": {
    "ExecuteTime": {
     "end_time": "2020-09-26T14:32:26.540277Z",
     "start_time": "2020-09-26T14:32:20.661Z"
    }
   },
   "outputs": [],
   "source": [
    "event_car[event_window/2] <- 1"
   ]
  },
  {
   "cell_type": "code",
   "execution_count": 69,
   "metadata": {
    "ExecuteTime": {
     "end_time": "2020-09-26T14:32:26.560274Z",
     "start_time": "2020-09-26T14:32:20.663Z"
    }
   },
   "outputs": [],
   "source": [
    "c_matrix <- cbind(c_matrix, event_car)"
   ]
  },
  {
   "cell_type": "code",
   "execution_count": 70,
   "metadata": {
    "ExecuteTime": {
     "end_time": "2020-09-26T14:32:26.579272Z",
     "start_time": "2020-09-26T14:32:20.666Z"
    }
   },
   "outputs": [],
   "source": [
    "CARs_for_each_c <- t(c_matrix)%*%abnorm_returns"
   ]
  },
  {
   "cell_type": "code",
   "execution_count": 71,
   "metadata": {
    "ExecuteTime": {
     "end_time": "2020-09-26T14:32:26.602277Z",
     "start_time": "2020-09-26T14:32:20.669Z"
    }
   },
   "outputs": [],
   "source": [
    "Var_for_each_c <- diag(t(c_matrix)%*%var_abnorm%*%c_matrix)"
   ]
  },
  {
   "cell_type": "code",
   "execution_count": 72,
   "metadata": {
    "ExecuteTime": {
     "end_time": "2020-09-26T14:32:26.622277Z",
     "start_time": "2020-09-26T14:32:20.671Z"
    }
   },
   "outputs": [],
   "source": [
    "SCAR_for_each_c <- CARs_for_each_c/sqrt(Var_for_each_c)"
   ]
  },
  {
   "cell_type": "code",
   "execution_count": 73,
   "metadata": {
    "ExecuteTime": {
     "end_time": "2020-09-26T14:32:26.656274Z",
     "start_time": "2020-09-26T14:32:20.674Z"
    }
   },
   "outputs": [
    {
     "data": {
      "text/html": [
       "<table>\n",
       "<caption>A matrix: 21 × 1 of type dbl</caption>\n",
       "<thead>\n",
       "\t<tr><th></th><th scope=col>VOW3.DE.Adjusted</th></tr>\n",
       "</thead>\n",
       "<tbody>\n",
       "\t<tr><th scope=row></th><td>  0.1950301</td></tr>\n",
       "\t<tr><th scope=row></th><td> -0.1147991</td></tr>\n",
       "\t<tr><th scope=row></th><td>  0.4331075</td></tr>\n",
       "\t<tr><th scope=row></th><td>  1.0650878</td></tr>\n",
       "\t<tr><th scope=row></th><td>  0.9170739</td></tr>\n",
       "\t<tr><th scope=row></th><td>  1.2174770</td></tr>\n",
       "\t<tr><th scope=row></th><td>  0.9178483</td></tr>\n",
       "\t<tr><th scope=row></th><td>  1.1052116</td></tr>\n",
       "\t<tr><th scope=row></th><td>  1.0084558</td></tr>\n",
       "\t<tr><th scope=row></th><td>  0.6170143</td></tr>\n",
       "\t<tr><th scope=row></th><td>  0.5987543</td></tr>\n",
       "\t<tr><th scope=row></th><td> -5.3613835</td></tr>\n",
       "\t<tr><th scope=row></th><td>-10.0084517</td></tr>\n",
       "\t<tr><th scope=row></th><td> -8.4200533</td></tr>\n",
       "\t<tr><th scope=row></th><td> -7.4337213</td></tr>\n",
       "\t<tr><th scope=row></th><td> -8.9735665</td></tr>\n",
       "\t<tr><th scope=row></th><td> -9.9622688</td></tr>\n",
       "\t<tr><th scope=row></th><td>-10.5335028</td></tr>\n",
       "\t<tr><th scope=row></th><td>-10.1704211</td></tr>\n",
       "\t<tr><th scope=row></th><td> -9.7951201</td></tr>\n",
       "\t<tr><th scope=row>event_car</th><td> -1.0875243</td></tr>\n",
       "</tbody>\n",
       "</table>\n"
      ],
      "text/latex": [
       "A matrix: 21 × 1 of type dbl\n",
       "\\begin{tabular}{r|l}\n",
       "  & VOW3.DE.Adjusted\\\\\n",
       "\\hline\n",
       "\t &   0.1950301\\\\\n",
       "\t &  -0.1147991\\\\\n",
       "\t &   0.4331075\\\\\n",
       "\t &   1.0650878\\\\\n",
       "\t &   0.9170739\\\\\n",
       "\t &   1.2174770\\\\\n",
       "\t &   0.9178483\\\\\n",
       "\t &   1.1052116\\\\\n",
       "\t &   1.0084558\\\\\n",
       "\t &   0.6170143\\\\\n",
       "\t &   0.5987543\\\\\n",
       "\t &  -5.3613835\\\\\n",
       "\t & -10.0084517\\\\\n",
       "\t &  -8.4200533\\\\\n",
       "\t &  -7.4337213\\\\\n",
       "\t &  -8.9735665\\\\\n",
       "\t &  -9.9622688\\\\\n",
       "\t & -10.5335028\\\\\n",
       "\t & -10.1704211\\\\\n",
       "\t &  -9.7951201\\\\\n",
       "\tevent\\_car &  -1.0875243\\\\\n",
       "\\end{tabular}\n"
      ],
      "text/markdown": [
       "\n",
       "A matrix: 21 × 1 of type dbl\n",
       "\n",
       "| <!--/--> | VOW3.DE.Adjusted |\n",
       "|---|---|\n",
       "| <!----> |   0.1950301 |\n",
       "| <!----> |  -0.1147991 |\n",
       "| <!----> |   0.4331075 |\n",
       "| <!----> |   1.0650878 |\n",
       "| <!----> |   0.9170739 |\n",
       "| <!----> |   1.2174770 |\n",
       "| <!----> |   0.9178483 |\n",
       "| <!----> |   1.1052116 |\n",
       "| <!----> |   1.0084558 |\n",
       "| <!----> |   0.6170143 |\n",
       "| <!----> |   0.5987543 |\n",
       "| <!----> |  -5.3613835 |\n",
       "| <!----> | -10.0084517 |\n",
       "| <!----> |  -8.4200533 |\n",
       "| <!----> |  -7.4337213 |\n",
       "| <!----> |  -8.9735665 |\n",
       "| <!----> |  -9.9622688 |\n",
       "| <!----> | -10.5335028 |\n",
       "| <!----> | -10.1704211 |\n",
       "| <!----> |  -9.7951201 |\n",
       "| event_car |  -1.0875243 |\n",
       "\n"
      ],
      "text/plain": [
       "          VOW3.DE.Adjusted\n",
       "            0.1950301     \n",
       "           -0.1147991     \n",
       "            0.4331075     \n",
       "            1.0650878     \n",
       "            0.9170739     \n",
       "            1.2174770     \n",
       "            0.9178483     \n",
       "            1.1052116     \n",
       "            1.0084558     \n",
       "            0.6170143     \n",
       "            0.5987543     \n",
       "           -5.3613835     \n",
       "          -10.0084517     \n",
       "           -8.4200533     \n",
       "           -7.4337213     \n",
       "           -8.9735665     \n",
       "           -9.9622688     \n",
       "          -10.5335028     \n",
       "          -10.1704211     \n",
       "           -9.7951201     \n",
       "event_car  -1.0875243     "
      ]
     },
     "metadata": {},
     "output_type": "display_data"
    }
   ],
   "source": [
    "SCAR_for_each_c"
   ]
  },
  {
   "cell_type": "code",
   "execution_count": 74,
   "metadata": {
    "ExecuteTime": {
     "end_time": "2020-09-26T14:32:26.681275Z",
     "start_time": "2020-09-26T14:32:20.677Z"
    }
   },
   "outputs": [],
   "source": [
    "p_vals_asym <- 2*(1-pnorm(abs(SCAR_for_each_c)))"
   ]
  },
  {
   "cell_type": "code",
   "execution_count": 75,
   "metadata": {
    "ExecuteTime": {
     "end_time": "2020-09-26T14:32:26.702276Z",
     "start_time": "2020-09-26T14:32:20.680Z"
    }
   },
   "outputs": [],
   "source": [
    "p_vals_student <- 2*(1-pt(abs(SCAR_for_each_c), df=estimation_window-2))"
   ]
  },
  {
   "cell_type": "code",
   "execution_count": 76,
   "metadata": {
    "ExecuteTime": {
     "end_time": "2020-09-26T14:32:26.722274Z",
     "start_time": "2020-09-26T14:32:20.682Z"
    }
   },
   "outputs": [],
   "source": [
    "p_vals <- cbind(p_vals_asym, p_vals_student)"
   ]
  },
  {
   "cell_type": "code",
   "execution_count": 77,
   "metadata": {
    "ExecuteTime": {
     "end_time": "2020-09-26T14:32:26.743280Z",
     "start_time": "2020-09-26T14:32:20.684Z"
    }
   },
   "outputs": [],
   "source": [
    "colnames(p_vals) <- c(\"Asymptotic SCARs p-val\", \"Student-t SCARs p-val\")"
   ]
  },
  {
   "cell_type": "code",
   "execution_count": 78,
   "metadata": {
    "ExecuteTime": {
     "end_time": "2020-09-26T14:32:26.796274Z",
     "start_time": "2020-09-26T14:32:20.687Z"
    }
   },
   "outputs": [
    {
     "data": {
      "text/html": [
       "<table>\n",
       "<caption>A matrix: 21 × 2 of type dbl</caption>\n",
       "<thead>\n",
       "\t<tr><th></th><th scope=col>Asymptotic SCARs p-val</th><th scope=col>Student-t SCARs p-val</th></tr>\n",
       "</thead>\n",
       "<tbody>\n",
       "\t<tr><th scope=row></th><td>8.453694e-01</td><td>8.455291e-01</td></tr>\n",
       "\t<tr><th scope=row></th><td>9.086044e-01</td><td>9.086973e-01</td></tr>\n",
       "\t<tr><th scope=row></th><td>6.649367e-01</td><td>6.653131e-01</td></tr>\n",
       "\t<tr><th scope=row></th><td>2.868362e-01</td><td>2.878721e-01</td></tr>\n",
       "\t<tr><th scope=row></th><td>3.591039e-01</td><td>3.599949e-01</td></tr>\n",
       "\t<tr><th scope=row></th><td>2.234228e-01</td><td>2.245799e-01</td></tr>\n",
       "\t<tr><th scope=row></th><td>3.586983e-01</td><td>3.595900e-01</td></tr>\n",
       "\t<tr><th scope=row></th><td>2.690679e-01</td><td>2.701390e-01</td></tr>\n",
       "\t<tr><th scope=row></th><td>3.132357e-01</td><td>3.142186e-01</td></tr>\n",
       "\t<tr><th scope=row></th><td>5.372253e-01</td><td>5.377913e-01</td></tr>\n",
       "\t<tr><th scope=row></th><td>5.493368e-01</td><td>5.498833e-01</td></tr>\n",
       "\t<tr><th scope=row></th><td>8.258697e-08</td><td>1.889657e-07</td></tr>\n",
       "\t<tr><th scope=row></th><td>0.000000e+00</td><td>0.000000e+00</td></tr>\n",
       "\t<tr><th scope=row></th><td>0.000000e+00</td><td>3.108624e-15</td></tr>\n",
       "\t<tr><th scope=row></th><td>1.056932e-13</td><td>1.711520e-12</td></tr>\n",
       "\t<tr><th scope=row></th><td>0.000000e+00</td><td>0.000000e+00</td></tr>\n",
       "\t<tr><th scope=row></th><td>0.000000e+00</td><td>0.000000e+00</td></tr>\n",
       "\t<tr><th scope=row></th><td>0.000000e+00</td><td>0.000000e+00</td></tr>\n",
       "\t<tr><th scope=row></th><td>0.000000e+00</td><td>0.000000e+00</td></tr>\n",
       "\t<tr><th scope=row></th><td>0.000000e+00</td><td>0.000000e+00</td></tr>\n",
       "\t<tr><th scope=row>event_car</th><td>2.768051e-01</td><td>2.778609e-01</td></tr>\n",
       "</tbody>\n",
       "</table>\n"
      ],
      "text/latex": [
       "A matrix: 21 × 2 of type dbl\n",
       "\\begin{tabular}{r|ll}\n",
       "  & Asymptotic SCARs p-val & Student-t SCARs p-val\\\\\n",
       "\\hline\n",
       "\t & 8.453694e-01 & 8.455291e-01\\\\\n",
       "\t & 9.086044e-01 & 9.086973e-01\\\\\n",
       "\t & 6.649367e-01 & 6.653131e-01\\\\\n",
       "\t & 2.868362e-01 & 2.878721e-01\\\\\n",
       "\t & 3.591039e-01 & 3.599949e-01\\\\\n",
       "\t & 2.234228e-01 & 2.245799e-01\\\\\n",
       "\t & 3.586983e-01 & 3.595900e-01\\\\\n",
       "\t & 2.690679e-01 & 2.701390e-01\\\\\n",
       "\t & 3.132357e-01 & 3.142186e-01\\\\\n",
       "\t & 5.372253e-01 & 5.377913e-01\\\\\n",
       "\t & 5.493368e-01 & 5.498833e-01\\\\\n",
       "\t & 8.258697e-08 & 1.889657e-07\\\\\n",
       "\t & 0.000000e+00 & 0.000000e+00\\\\\n",
       "\t & 0.000000e+00 & 3.108624e-15\\\\\n",
       "\t & 1.056932e-13 & 1.711520e-12\\\\\n",
       "\t & 0.000000e+00 & 0.000000e+00\\\\\n",
       "\t & 0.000000e+00 & 0.000000e+00\\\\\n",
       "\t & 0.000000e+00 & 0.000000e+00\\\\\n",
       "\t & 0.000000e+00 & 0.000000e+00\\\\\n",
       "\t & 0.000000e+00 & 0.000000e+00\\\\\n",
       "\tevent\\_car & 2.768051e-01 & 2.778609e-01\\\\\n",
       "\\end{tabular}\n"
      ],
      "text/markdown": [
       "\n",
       "A matrix: 21 × 2 of type dbl\n",
       "\n",
       "| <!--/--> | Asymptotic SCARs p-val | Student-t SCARs p-val |\n",
       "|---|---|---|\n",
       "| <!----> | 8.453694e-01 | 8.455291e-01 |\n",
       "| <!----> | 9.086044e-01 | 9.086973e-01 |\n",
       "| <!----> | 6.649367e-01 | 6.653131e-01 |\n",
       "| <!----> | 2.868362e-01 | 2.878721e-01 |\n",
       "| <!----> | 3.591039e-01 | 3.599949e-01 |\n",
       "| <!----> | 2.234228e-01 | 2.245799e-01 |\n",
       "| <!----> | 3.586983e-01 | 3.595900e-01 |\n",
       "| <!----> | 2.690679e-01 | 2.701390e-01 |\n",
       "| <!----> | 3.132357e-01 | 3.142186e-01 |\n",
       "| <!----> | 5.372253e-01 | 5.377913e-01 |\n",
       "| <!----> | 5.493368e-01 | 5.498833e-01 |\n",
       "| <!----> | 8.258697e-08 | 1.889657e-07 |\n",
       "| <!----> | 0.000000e+00 | 0.000000e+00 |\n",
       "| <!----> | 0.000000e+00 | 3.108624e-15 |\n",
       "| <!----> | 1.056932e-13 | 1.711520e-12 |\n",
       "| <!----> | 0.000000e+00 | 0.000000e+00 |\n",
       "| <!----> | 0.000000e+00 | 0.000000e+00 |\n",
       "| <!----> | 0.000000e+00 | 0.000000e+00 |\n",
       "| <!----> | 0.000000e+00 | 0.000000e+00 |\n",
       "| <!----> | 0.000000e+00 | 0.000000e+00 |\n",
       "| event_car | 2.768051e-01 | 2.778609e-01 |\n",
       "\n"
      ],
      "text/plain": [
       "          Asymptotic SCARs p-val Student-t SCARs p-val\n",
       "          8.453694e-01           8.455291e-01         \n",
       "          9.086044e-01           9.086973e-01         \n",
       "          6.649367e-01           6.653131e-01         \n",
       "          2.868362e-01           2.878721e-01         \n",
       "          3.591039e-01           3.599949e-01         \n",
       "          2.234228e-01           2.245799e-01         \n",
       "          3.586983e-01           3.595900e-01         \n",
       "          2.690679e-01           2.701390e-01         \n",
       "          3.132357e-01           3.142186e-01         \n",
       "          5.372253e-01           5.377913e-01         \n",
       "          5.493368e-01           5.498833e-01         \n",
       "          8.258697e-08           1.889657e-07         \n",
       "          0.000000e+00           0.000000e+00         \n",
       "          0.000000e+00           3.108624e-15         \n",
       "          1.056932e-13           1.711520e-12         \n",
       "          0.000000e+00           0.000000e+00         \n",
       "          0.000000e+00           0.000000e+00         \n",
       "          0.000000e+00           0.000000e+00         \n",
       "          0.000000e+00           0.000000e+00         \n",
       "          0.000000e+00           0.000000e+00         \n",
       "event_car 2.768051e-01           2.778609e-01         "
      ]
     },
     "metadata": {},
     "output_type": "display_data"
    }
   ],
   "source": [
    "p_vals"
   ]
  },
  {
   "cell_type": "code",
   "execution_count": 79,
   "metadata": {
    "ExecuteTime": {
     "end_time": "2020-09-26T14:32:26.818274Z",
     "start_time": "2020-09-26T14:32:20.690Z"
    }
   },
   "outputs": [],
   "source": [
    "abnorm_returns[,1] <- round(as.numeric(abnorm_returns),5)"
   ]
  },
  {
   "cell_type": "code",
   "execution_count": 80,
   "metadata": {
    "ExecuteTime": {
     "end_time": "2020-09-26T14:32:26.841273Z",
     "start_time": "2020-09-26T14:32:20.694Z"
    }
   },
   "outputs": [],
   "source": [
    "colnames(abnorm_returns) <- c(\"Abnormal Returns\")"
   ]
  },
  {
   "cell_type": "code",
   "execution_count": 81,
   "metadata": {
    "ExecuteTime": {
     "end_time": "2020-09-26T14:32:26.861307Z",
     "start_time": "2020-09-26T14:32:20.697Z"
    }
   },
   "outputs": [],
   "source": [
    "colnames(CARs_for_each_c) <- c(\"CARs for each c\")"
   ]
  },
  {
   "cell_type": "code",
   "execution_count": 82,
   "metadata": {
    "ExecuteTime": {
     "end_time": "2020-09-26T14:32:26.890272Z",
     "start_time": "2020-09-26T14:32:20.700Z"
    }
   },
   "outputs": [],
   "source": [
    "p_vals <- round(p_vals, 3)"
   ]
  },
  {
   "cell_type": "code",
   "execution_count": 83,
   "metadata": {
    "ExecuteTime": {
     "end_time": "2020-09-26T14:32:26.910274Z",
     "start_time": "2020-09-26T14:32:20.703Z"
    }
   },
   "outputs": [],
   "source": [
    "results <- list(summary(vow_model), abnorm_returns, CARs_for_each_c, p_vals)"
   ]
  },
  {
   "cell_type": "code",
   "execution_count": 84,
   "metadata": {
    "ExecuteTime": {
     "end_time": "2020-09-26T14:32:26.955278Z",
     "start_time": "2020-09-26T14:32:20.705Z"
    }
   },
   "outputs": [
    {
     "data": {
      "text/plain": [
       "[[1]]\n",
       "\n",
       "Call:\n",
       "lm(formula = est_window_vow ~ est_window_market)\n",
       "\n",
       "Residuals:\n",
       "    Min      1Q  Median      3Q     Max \n",
       "-3.5745 -0.4788 -0.0388  0.5483  3.2121 \n",
       "\n",
       "Coefficients:\n",
       "                  Estimate Std. Error t value Pr(>|t|)    \n",
       "(Intercept)       -0.04109    0.06268  -0.656    0.513    \n",
       "est_window_market  1.05141    0.04426  23.757   <2e-16 ***\n",
       "---\n",
       "Signif. codes:  0 '***' 0.001 '**' 0.01 '*' 0.05 '.' 0.1 ' ' 1\n",
       "\n",
       "Residual standard error: 0.9909 on 248 degrees of freedom\n",
       "Multiple R-squared:  0.6947,\tAdjusted R-squared:  0.6935 \n",
       "F-statistic: 564.4 on 1 and 248 DF,  p-value: < 2.2e-16\n",
       "\n",
       "\n",
       "[[2]]\n",
       "           Abnormal Returns\n",
       "2015-09-04          0.19511\n",
       "2015-09-07         -0.35697\n",
       "2015-09-08          0.90969\n",
       "2015-09-09          1.37975\n",
       "2015-09-10         -0.07489\n",
       "2015-09-11          0.93956\n",
       "2015-09-14         -0.55123\n",
       "2015-09-15          0.70643\n",
       "2015-09-16         -0.09582\n",
       "2015-09-17         -1.07975\n",
       "2015-09-18          0.04179\n",
       "2015-09-21        -20.87600\n",
       "2015-09-22        -17.97546\n",
       "2015-09-23          4.63967\n",
       "2015-09-24          2.66536\n",
       "2015-09-25         -7.24980\n",
       "2015-09-28         -5.45888\n",
       "2015-09-29         -3.80732\n",
       "2015-09-30          0.37320\n",
       "2015-10-01          0.41259\n",
       "\n",
       "[[3]]\n",
       "          CARs for each c\n",
       "                0.1951090\n",
       "               -0.1618609\n",
       "                0.7478282\n",
       "                2.1275734\n",
       "                2.0526786\n",
       "                2.9922424\n",
       "                2.4410130\n",
       "                3.1474408\n",
       "                3.0516171\n",
       "                1.9718698\n",
       "                2.0136588\n",
       "              -18.8623445\n",
       "              -36.8378083\n",
       "              -32.1981361\n",
       "              -29.5327766\n",
       "              -36.7825726\n",
       "              -42.2414552\n",
       "              -46.0487719\n",
       "              -45.6755689\n",
       "              -45.2629822\n",
       "event_car      -1.0797473\n",
       "\n",
       "[[4]]\n",
       "          Asymptotic SCARs p-val Student-t SCARs p-val\n",
       "                           0.845                 0.846\n",
       "                           0.909                 0.909\n",
       "                           0.665                 0.665\n",
       "                           0.287                 0.288\n",
       "                           0.359                 0.360\n",
       "                           0.223                 0.225\n",
       "                           0.359                 0.360\n",
       "                           0.269                 0.270\n",
       "                           0.313                 0.314\n",
       "                           0.537                 0.538\n",
       "                           0.549                 0.550\n",
       "                           0.000                 0.000\n",
       "                           0.000                 0.000\n",
       "                           0.000                 0.000\n",
       "                           0.000                 0.000\n",
       "                           0.000                 0.000\n",
       "                           0.000                 0.000\n",
       "                           0.000                 0.000\n",
       "                           0.000                 0.000\n",
       "                           0.000                 0.000\n",
       "event_car                  0.277                 0.278\n"
      ]
     },
     "metadata": {},
     "output_type": "display_data"
    }
   ],
   "source": [
    "results"
   ]
  },
  {
   "cell_type": "code",
   "execution_count": 85,
   "metadata": {
    "ExecuteTime": {
     "end_time": "2020-09-26T14:32:27.056273Z",
     "start_time": "2020-09-26T14:32:20.708Z"
    }
   },
   "outputs": [
    {
     "data": {
      "image/png": "[encoded data removed]",
      "text/plain": [
       "plot without title"
      ]
     },
     "metadata": {},
     "output_type": "display_data"
    }
   ],
   "source": [
    "plot <- plot(vow[(startpoint-event_window/2):(startpoint+event_window/2-1)], \n",
    "     main = 'Plot of returns and abnormal returns', \n",
    "     ylim = c(-50, 10), \n",
    "     col = 'black')\n",
    "\n",
    "lines(cumsum(abnorm_returns), \n",
    "      col = 'red', \n",
    "      lwd = 3)\n",
    "\n",
    "legend('bottomleft',\n",
    "       legend = c('Returns', 'Cumulative Abnormal Returns'), \n",
    "       col = c('black', 'red'), \n",
    "       lty=1, \n",
    "       lwd = 1)"
   ]
  }
 ],
 "metadata": {
  "kernelspec": {
   "display_name": "R",
   "language": "R",
   "name": "ir"
  },
  "language_info": {
   "codemirror_mode": "r",
   "file_extension": ".r",
   "mimetype": "text/x-r-source",
   "name": "R",
   "pygments_lexer": "r",
   "version": "3.6.1"
  },
  "toc": {
   "base_numbering": 1,
   "nav_menu": {},
   "number_sections": true,
   "sideBar": true,
   "skip_h1_title": false,
   "title_cell": "Table of Contents",
   "title_sidebar": "Contents",
   "toc_cell": false,
   "toc_position": {},
   "toc_section_display": true,
   "toc_window_display": false
  },
  "varInspector": {
   "cols": {
    "lenName": 16,
    "lenType": 16,
    "lenVar": 40
   },
   "kernels_config": {
    "python": {
     "delete_cmd_postfix": "",
     "delete_cmd_prefix": "del ",
     "library": "var_list.py",
     "varRefreshCmd": "print(var_dic_list())"
    },
    "r": {
     "delete_cmd_postfix": ") ",
     "delete_cmd_prefix": "rm(",
     "library": "var_list.r",
     "varRefreshCmd": "cat(var_dic_list()) "
    }
   },
   "types_to_exclude": [
    "module",
    "function",
    "builtin_function_or_method",
    "instance",
    "_Feature"
   ],
   "window_display": false
  }
 },
 "nbformat": 4,
 "nbformat_minor": 2
}
