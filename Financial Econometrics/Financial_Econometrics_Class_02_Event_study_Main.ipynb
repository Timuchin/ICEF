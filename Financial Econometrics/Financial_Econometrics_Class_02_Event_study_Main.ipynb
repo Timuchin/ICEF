{
 "cells": [
  {
   "cell_type": "markdown",
   "metadata": {},
   "source": [
    "# International College of Economics and Finance "
   ]
  },
  {
   "cell_type": "markdown",
   "metadata": {},
   "source": [
    "# Financial Econometrics. Class 02"
   ]
  },
  {
   "cell_type": "markdown",
   "metadata": {},
   "source": [
    "## Event-studies"
   ]
  },
  {
   "cell_type": "markdown",
   "metadata": {},
   "source": [
    "- Howto: An Example with Data Preparation\n",
    "- Dr. Simon Müller\n",
    "- [source](https://cran.r-project.org/web/packages/EventStudy/vignettes/howto_eventstudy.html)"
   ]
  },
  {
   "cell_type": "markdown",
   "metadata": {},
   "source": [
    "### Overview"
   ]
  },
  {
   "cell_type": "markdown",
   "metadata": {},
   "source": [
    "Today we are will see how to do an event study in R based on the Dieselgate scandal. The Volkswagen emissions scandal (also called “emissionsgate” or “dieselgate”) began in September 2015, when the United States Environmental Protection Agency (EP A) issued a notice of violation of the Clean Air Act to German automaker Volkswagen Group"
   ]
  },
  {
   "cell_type": "code",
   "execution_count": 1,
   "metadata": {
    "scrolled": true
   },
   "outputs": [
    {
     "name": "stderr",
     "output_type": "stream",
     "text": [
      "Loading required package: zoo\n",
      "\n",
      "\n",
      "Attaching package: ‘zoo’\n",
      "\n",
      "\n",
      "The following objects are masked from ‘package:base’:\n",
      "\n",
      "    as.Date, as.Date.numeric\n",
      "\n",
      "\n",
      "Loading required package: lubridate\n",
      "\n",
      "\n",
      "Attaching package: ‘lubridate’\n",
      "\n",
      "\n",
      "The following objects are masked from ‘package:base’:\n",
      "\n",
      "    date, intersect, setdiff, union\n",
      "\n",
      "\n",
      "Loading required package: PerformanceAnalytics\n",
      "\n",
      "\n",
      "Attaching package: ‘PerformanceAnalytics’\n",
      "\n",
      "\n",
      "The following object is masked from ‘package:graphics’:\n",
      "\n",
      "    legend\n",
      "\n",
      "\n",
      "Loading required package: quantmod\n",
      "\n",
      "Loading required package: TTR\n",
      "\n",
      "Registered S3 method overwritten by 'quantmod':\n",
      "  method            from\n",
      "  as.zoo.data.frame zoo \n",
      "\n",
      "Version 0.4-0 included new data defaults. See ?getSymbols.\n",
      "\n",
      "\u001b[38;5;238m══\u001b[39m \u001b[38;5;238mNeed to Learn tidyquant?\u001b[39m \u001b[38;5;238m════════════════════════════════════════════════════\u001b[39m\u001b[38;5;32m\n",
      "Business Science offers a 1-hour course - Learning Lab #9: Performance Analysis & Portfolio Optimization with tidyquant!\n",
      "\u001b[39m\u001b[38;5;32m</> Learn more at: https://university.business-science.io/p/learning-labs-pro </>\u001b[39m\n",
      "\n",
      "\n",
      "Attaching package: ‘dplyr’\n",
      "\n",
      "\n",
      "The following objects are masked from ‘package:xts’:\n",
      "\n",
      "    first, last\n",
      "\n",
      "\n",
      "The following objects are masked from ‘package:stats’:\n",
      "\n",
      "    filter, lag\n",
      "\n",
      "\n",
      "The following objects are masked from ‘package:base’:\n",
      "\n",
      "    intersect, setdiff, setequal, union\n",
      "\n",
      "\n"
     ]
    }
   ],
   "source": [
    "options(warn = -1)\n",
    "library(xts)\n",
    "library(tidyquant)\n",
    "library(dplyr)\n",
    "library(readr)"
   ]
  },
  {
   "cell_type": "markdown",
   "metadata": {},
   "source": [
    "### Data Preparation"
   ]
  },
  {
   "cell_type": "markdown",
   "metadata": {},
   "source": [
    "We use the package `tidyquant` to fetch the automotive stock data from Yahoo Finance. As we cannot get the full volume size from this companies through Yahoo Finance API.\n",
    "\n",
    "Let’s define the window from which we want to fetch the data of the German auto companies."
   ]
  },
  {
   "cell_type": "code",
   "execution_count": 2,
   "metadata": {},
   "outputs": [],
   "source": [
    "startDate <- \"2014-05-01\"\n",
    "endDate <- \"2015-12-31\""
   ]
  },
  {
   "cell_type": "markdown",
   "metadata": {},
   "source": [
    "We focus us on the big five motor manufacturers in Germany, namely\n",
    "- VW Group\n",
    "    - VW\n",
    "    - Audi\n",
    "- Porsche\n",
    "- Daimler\n",
    "- BMW"
   ]
  },
  {
   "cell_type": "code",
   "execution_count": 3,
   "metadata": {},
   "outputs": [
    {
     "name": "stderr",
     "output_type": "stream",
     "text": [
      "‘getSymbols’ currently uses auto.assign=TRUE by default, but will\n",
      "use auto.assign=FALSE in 0.5-0. You will still be able to use\n",
      "‘loadSymbols’ to automatically load data. getOption(\"getSymbols.env\")\n",
      "and getOption(\"getSymbols.auto.assign\") will still be checked for\n",
      "alternate defaults.\n",
      "\n",
      "This message is shown once per session and may be disabled by setting \n",
      "options(\"getSymbols.warning4.0\"=FALSE). See ?getSymbols for details.\n",
      "\n",
      "\n"
     ]
    },
    {
     "data": {
      "text/plain": [
       "           VOW3.DE.Adjusted PAH3.DE.Adjusted NSU.DE.Adjusted DAI.DE.Adjusted\n",
       "2014-05-02         166.3827         58.60135        611.2695        48.71801\n",
       "2014-05-05         166.3827         58.38600        609.3226        48.46794\n",
       "2014-05-06         164.7694         56.95291        614.1895        47.92370\n",
       "2014-05-07         163.8538         55.84652        614.2382        47.65892\n",
       "2014-05-08         166.9495         57.60635        614.5303        47.80602\n",
       "2014-05-09         166.3827         57.56180        609.1281        47.45298\n",
       "           BMW.DE.Adjusted\n",
       "2014-05-02        66.57825\n",
       "2014-05-05        66.36887\n",
       "2014-05-06        66.13704\n",
       "2014-05-07        65.95009\n",
       "2014-05-08        66.03234\n",
       "2014-05-09        65.89774"
      ]
     },
     "metadata": {},
     "output_type": "display_data"
    }
   ],
   "source": [
    "# Firm Data\n",
    "firmSymbols <- c(\"VOW3.DE\", \"NSU.DE\", \"PAH3.DE\", \"BMW.DE\", \"DAI.DE\")\n",
    "firmNames <- c(\"VW preferred\", \"Audi\", \"Porsche Automobil Hld\", \"BMW\", \"Daimler\")\n",
    "firms <- getSymbols(Symbols = firmSymbols, from = startDate, to = endDate)\n",
    "firms.prices <- cbind(VOW3.DE$VOW3.DE.Adjusted, PAH3.DE$PAH3.DE.Adjusted, NSU.DE$NSU.DE.Adjusted,\n",
    "DAI.DE$DAI.DE.Adjusted, BMW.DE$BMW.DE.Adjusted)\n",
    "head(firms.prices)"
   ]
  },
  {
   "cell_type": "markdown",
   "metadata": {},
   "source": [
    "As reference market we choose the DAX."
   ]
  },
  {
   "cell_type": "code",
   "execution_count": 4,
   "metadata": {},
   "outputs": [
    {
     "data": {
      "text/plain": [
       "           GDAXI.Open GDAXI.High GDAXI.Low GDAXI.Close GDAXI.Volume\n",
       "2014-05-02    9611.79    9627.38   9533.30     9556.02     88062300\n",
       "2014-05-05    9536.38    9548.17   9407.09     9529.50     61911600\n",
       "2014-05-06    9570.25    9571.63   9440.47     9467.53     82062900\n",
       "2014-05-07    9418.50    9554.35   9410.08     9521.30     92732600\n",
       "2014-05-08    9547.27    9622.30   9487.57     9607.40    102022500\n",
       "2014-05-09    9591.32    9602.86   9558.11     9581.45     80084100\n",
       "           GDAXI.Adjusted\n",
       "2014-05-02        9556.02\n",
       "2014-05-05        9529.50\n",
       "2014-05-06        9467.53\n",
       "2014-05-07        9521.30\n",
       "2014-05-08        9607.40\n",
       "2014-05-09        9581.45"
      ]
     },
     "metadata": {},
     "output_type": "display_data"
    }
   ],
   "source": [
    "# Index Data\n",
    "indexSymbol <- c(\"^GDAXI\")\n",
    "indexName <- c(\"DAX\")\n",
    "index <- getSymbols(Symbols = indexSymbol, from = startDate, to = endDate, auto.assign =  F)\n",
    "head(index)"
   ]
  },
  {
   "cell_type": "code",
   "execution_count": 5,
   "metadata": {},
   "outputs": [],
   "source": [
    "# Making log returns\n",
    "firms.ret <- diff(log(firms.prices))[-1] * 100\n",
    "index.ret <- diff(log(index$GDAXI.Adjusted))[-1] * 100"
   ]
  },
  {
   "cell_type": "markdown",
   "metadata": {},
   "source": [
    "The parameters for this Event Study are:\n",
    "- Estimation window: 250\n",
    "- Event window: -10 to 10\n",
    "- Event date: 18.09.2015"
   ]
  },
  {
   "cell_type": "code",
   "execution_count": 6,
   "metadata": {},
   "outputs": [],
   "source": [
    "startpoint = which(index(index.ret) == \"2015-09-18\")\n",
    "estimation_window <- 250\n",
    "event_window <- 20"
   ]
  },
  {
   "cell_type": "markdown",
   "metadata": {},
   "source": [
    "#### Fitting market model"
   ]
  },
  {
   "cell_type": "code",
   "execution_count": 37,
   "metadata": {},
   "outputs": [
    {
     "name": "stdout",
     "output_type": "stream",
     "text": [
      "[1] \"VOW3.DE.Adjusted\"\n",
      "\n",
      "Call:\n",
      "lm(formula = est_window_returns ~ est_window_market)\n",
      "\n",
      "Residuals:\n",
      "    Min      1Q  Median      3Q     Max \n",
      "-3.5745 -0.4788 -0.0388  0.5483  3.2121 \n",
      "\n",
      "Coefficients:\n",
      "                  Estimate Std. Error t value Pr(>|t|)    \n",
      "(Intercept)       -0.04109    0.06268  -0.656    0.513    \n",
      "est_window_market  1.05141    0.04426  23.757   <2e-16 ***\n",
      "---\n",
      "Signif. codes:  0 ‘***’ 0.001 ‘**’ 0.01 ‘*’ 0.05 ‘.’ 0.1 ‘ ’ 1\n",
      "\n",
      "Residual standard error: 0.9909 on 248 degrees of freedom\n",
      "Multiple R-squared:  0.6947,\tAdjusted R-squared:  0.6935 \n",
      "F-statistic: 564.4 on 1 and 248 DF,  p-value: < 2.2e-16\n",
      "\n",
      "[1] \"PAH3.DE.Adjusted\"\n",
      "\n",
      "Call:\n",
      "lm(formula = est_window_returns ~ est_window_market)\n",
      "\n",
      "Residuals:\n",
      "    Min      1Q  Median      3Q     Max \n",
      "-3.5162 -0.5490 -0.0155  0.5388  2.6449 \n",
      "\n",
      "Coefficients:\n",
      "                  Estimate Std. Error t value Pr(>|t|)    \n",
      "(Intercept)       -0.06513    0.05747  -1.133    0.258    \n",
      "est_window_market  0.98885    0.04058  24.370   <2e-16 ***\n",
      "---\n",
      "Signif. codes:  0 ‘***’ 0.001 ‘**’ 0.01 ‘*’ 0.05 ‘.’ 0.1 ‘ ’ 1\n",
      "\n",
      "Residual standard error: 0.9085 on 248 degrees of freedom\n",
      "Multiple R-squared:  0.7054,\tAdjusted R-squared:  0.7042 \n",
      "F-statistic: 593.9 on 1 and 248 DF,  p-value: < 2.2e-16\n",
      "\n",
      "[1] \"NSU.DE.Adjusted\"\n",
      "\n",
      "Call:\n",
      "lm(formula = est_window_returns ~ est_window_market)\n",
      "\n",
      "Residuals:\n",
      "    Min      1Q  Median      3Q     Max \n",
      "-5.4377 -0.5653 -0.1449  0.4840  7.2632 \n",
      "\n",
      "Coefficients:\n",
      "                  Estimate Std. Error t value Pr(>|t|)    \n",
      "(Intercept)        0.11241    0.08819   1.275 0.203648    \n",
      "est_window_market  0.22335    0.06227   3.587 0.000403 ***\n",
      "---\n",
      "Signif. codes:  0 ‘***’ 0.001 ‘**’ 0.01 ‘*’ 0.05 ‘.’ 0.1 ‘ ’ 1\n",
      "\n",
      "Residual standard error: 1.394 on 248 degrees of freedom\n",
      "Multiple R-squared:  0.04932,\tAdjusted R-squared:  0.04548 \n",
      "F-statistic: 12.86 on 1 and 248 DF,  p-value: 0.0004033\n",
      "\n",
      "[1] \"DAI.DE.Adjusted\"\n",
      "\n",
      "Call:\n",
      "lm(formula = est_window_returns ~ est_window_market)\n",
      "\n",
      "Residuals:\n",
      "    Min      1Q  Median      3Q     Max \n",
      "-2.6123 -0.3877  0.0529  0.3708  3.4233 \n",
      "\n",
      "Coefficients:\n",
      "                  Estimate Std. Error t value Pr(>|t|)    \n",
      "(Intercept)        0.03058    0.04346   0.704    0.482    \n",
      "est_window_market  1.14429    0.03068  37.292   <2e-16 ***\n",
      "---\n",
      "Signif. codes:  0 ‘***’ 0.001 ‘**’ 0.01 ‘*’ 0.05 ‘.’ 0.1 ‘ ’ 1\n",
      "\n",
      "Residual standard error: 0.687 on 248 degrees of freedom\n",
      "Multiple R-squared:  0.8487,\tAdjusted R-squared:  0.8481 \n",
      "F-statistic:  1391 on 1 and 248 DF,  p-value: < 2.2e-16\n",
      "\n",
      "[1] \"BMW.DE.Adjusted\"\n",
      "\n",
      "Call:\n",
      "lm(formula = est_window_returns ~ est_window_market)\n",
      "\n",
      "Residuals:\n",
      "    Min      1Q  Median      3Q     Max \n",
      "-3.7030 -0.5023  0.0336  0.4816  2.6785 \n",
      "\n",
      "Coefficients:\n",
      "                  Estimate Std. Error t value Pr(>|t|)    \n",
      "(Intercept)       -0.05859    0.05568  -1.052    0.294    \n",
      "est_window_market  1.12087    0.03932  28.509   <2e-16 ***\n",
      "---\n",
      "Signif. codes:  0 ‘***’ 0.001 ‘**’ 0.01 ‘*’ 0.05 ‘.’ 0.1 ‘ ’ 1\n",
      "\n",
      "Residual standard error: 0.8803 on 248 degrees of freedom\n",
      "Multiple R-squared:  0.7662,\tAdjusted R-squared:  0.7653 \n",
      "F-statistic: 812.7 on 1 and 248 DF,  p-value: < 2.2e-16\n",
      "\n"
     ]
    }
   ],
   "source": [
    "fitted.models <- list()\n",
    "\n",
    "est_window_market <- index.ret[(startpoint - estimation_window - event_window/2):(startpoint - event_window/2 - 1)]\n",
    "\n",
    "for(i in colnames(firms.ret)){\n",
    "    est_window_returns <- firms.ret[(startpoint - estimation_window - event_window/2):(startpoint - event_window/2- 1), i]\n",
    "    fitted.models[[i]] <- lm(est_window_returns ~ est_window_market)\n",
    "    print(i)\n",
    "    print(summary(fitted.models[[i]]))\n",
    "}"
   ]
  },
  {
   "cell_type": "markdown",
   "metadata": {},
   "source": [
    "#### Making predictions"
   ]
  },
  {
   "cell_type": "code",
   "execution_count": 111,
   "metadata": {},
   "outputs": [],
   "source": [
    "predicted <- matrix(NA, nrow = event_window, ncol = length(firmSymbols))\n",
    "colnames(predicted) <- c(\"VOW3.DE\", \"NSU.DE\", \"PAH3.DE\", \"BMW.DE\", \"DAI.DE\")\n",
    "for(i in 1:length(firmSymbols)){\n",
    "    for(j in 1:event_window){\n",
    "        predicted[j, i] <- (fitted.models[[i]]$coefficients[1] + fitted.models[[i]]$coefficients[2] * index.ret[(startpoint - event_window/2 - 1 + j)])\n",
    "    }\n",
    "}\n",
    "\n",
    "# What about re-writing it in a \"normal\", not eye-bleeding loop... I mean matrices, of course\n",
    "# Try to do it at home\n",
    "\n",
    "predicted <- as.xts(predicted, order.by = as.Date(index(index.ret)[(startpoint - event_window/ 2):(startpoint + event_window/2-1)]))"
   ]
  },
  {
   "cell_type": "markdown",
   "metadata": {},
   "source": [
    "#### Calculating abnormal returns"
   ]
  },
  {
   "cell_type": "code",
   "execution_count": 112,
   "metadata": {},
   "outputs": [],
   "source": [
    "y_true <- matrix(NA, nrow = event_window, ncol = length(firmSymbols))\n",
    "colnames(y_true) <- c(\"VOW3.DE\", \"NSU.DE\", \"PAH3.DE\", \"BMW.DE\", \"DAI.DE\")\n",
    "y_true <- firms.ret[(startpoint - event_window/2):(startpoint + event_window/2-1)]\n",
    "ab.ret <- matrix(NA, nrow = NROW(predicted), ncol = ncol(predicted))\n",
    "colnames(ab.ret) <- colnames(predicted)\n",
    "for(i in 1:ncol(predicted)){\n",
    "    ab.ret[, i] <- y_true[, i] - predicted[, i]\n",
    "}\n",
    "\n",
    "ab.ret <- as.data.frame(ab.ret)\n",
    "rownames(ab.ret) <- as.Date(index(predicted))"
   ]
  },
  {
   "cell_type": "markdown",
   "metadata": {},
   "source": [
    "#### Calculating abnormal returns  \n",
    "Remember that $J_{3} = [\\frac{N^{+}}{N}-0.5]\\frac{\\sqrt{N}}{0.5}\\rightarrow^{d}\\mathcal{N(0, 1)}$"
   ]
  },
  {
   "cell_type": "code",
   "execution_count": 116,
   "metadata": {},
   "outputs": [
    {
     "name": "stdout",
     "output_type": "stream",
     "text": [
      "[1] \"VOW3.DE\" \"NSU.DE\"  \"PAH3.DE\" \"BMW.DE\"  \"DAI.DE\" \n",
      "   VOW3.DE     NSU.DE    PAH3.DE     BMW.DE     DAI.DE \n",
      " 0.0000000  0.0000000 -1.3416408  0.4472136  1.7888544 \n"
     ]
    },
    {
     "data": {
      "text/html": [
       "<style>\n",
       ".list-inline {list-style: none; margin:0; padding: 0}\n",
       ".list-inline>li {display: inline-block}\n",
       ".list-inline>li:not(:last-child)::after {content: \"\\00b7\"; padding: 0 .5ex}\n",
       "</style>\n",
       "<ol class=list-inline><li>'1.000'</li><li>'1.000'</li><li>'0.180'</li><li>'0.655'</li><li>'0.074'</li></ol>\n"
      ],
      "text/latex": [
       "\\begin{enumerate*}\n",
       "\\item '1.000'\n",
       "\\item '1.000'\n",
       "\\item '0.180'\n",
       "\\item '0.655'\n",
       "\\item '0.074'\n",
       "\\end{enumerate*}\n"
      ],
      "text/markdown": [
       "1. '1.000'\n",
       "2. '1.000'\n",
       "3. '0.180'\n",
       "4. '0.655'\n",
       "5. '0.074'\n",
       "\n",
       "\n"
      ],
      "text/plain": [
       "[1] \"1.000\" \"1.000\" \"0.180\" \"0.655\" \"0.074\""
      ]
     },
     "metadata": {},
     "output_type": "display_data"
    }
   ],
   "source": [
    "J_3 <- vector()\n",
    "p_value <- vector()\n",
    "for (i in colnames(ab.ret)){\n",
    "    J_3[i] <- ((sum(ab.ret[i] > 0) / nrow(ab.ret[i])) - 0.5)*(sqrt(nrow(ab.ret[i]))/0.5)\n",
    "    p_value[i] <- ifelse(J_3[i] > 0, 2*(1-pnorm(J_3[i])), 2 * pnorm(J_3[i])) # how can you change this line without using 0.5?\n",
    "}\n",
    "print(firmSymbols)\n",
    "print(J_3)\n",
    "sprintf(\"%.3f\", p_value)"
   ]
  },
  {
   "cell_type": "markdown",
   "metadata": {},
   "source": [
    "- Still, it is very usefull, especially for you home assignment, to calculate CARs and SCARS\n",
    "- For simplicity, let's do this only for one stock"
   ]
  },
  {
   "cell_type": "code",
   "execution_count": 117,
   "metadata": {},
   "outputs": [],
   "source": [
    "vow <- firms.ret$VOW3.DE.Adjusted # let's pick VW"
   ]
  },
  {
   "cell_type": "code",
   "execution_count": 118,
   "metadata": {},
   "outputs": [],
   "source": [
    "event_returns <- vow[(startpoint - event_window/2):(startpoint + event_window/2-1)]"
   ]
  },
  {
   "cell_type": "code",
   "execution_count": 119,
   "metadata": {},
   "outputs": [],
   "source": [
    "event_market <- index.ret[(startpoint - event_window/2):(startpoint + event_window/2-1)]"
   ]
  },
  {
   "cell_type": "code",
   "execution_count": 120,
   "metadata": {},
   "outputs": [],
   "source": [
    "est_window_vow <- vow[(startpoint - estimation_window - event_window/2):(startpoint - event_window/2- 1)]"
   ]
  },
  {
   "cell_type": "code",
   "execution_count": 121,
   "metadata": {},
   "outputs": [],
   "source": [
    "vow_model <- lm(est_window_vow ~ est_window_market)"
   ]
  },
  {
   "cell_type": "code",
   "execution_count": 122,
   "metadata": {},
   "outputs": [
    {
     "data": {
      "text/plain": [
       "\n",
       "Call:\n",
       "lm(formula = est_window_vow ~ est_window_market)\n",
       "\n",
       "Residuals:\n",
       "    Min      1Q  Median      3Q     Max \n",
       "-3.5745 -0.4788 -0.0388  0.5483  3.2121 \n",
       "\n",
       "Coefficients:\n",
       "                  Estimate Std. Error t value Pr(>|t|)    \n",
       "(Intercept)       -0.04109    0.06268  -0.656    0.513    \n",
       "est_window_market  1.05141    0.04426  23.757   <2e-16 ***\n",
       "---\n",
       "Signif. codes:  0 ‘***’ 0.001 ‘**’ 0.01 ‘*’ 0.05 ‘.’ 0.1 ‘ ’ 1\n",
       "\n",
       "Residual standard error: 0.9909 on 248 degrees of freedom\n",
       "Multiple R-squared:  0.6947,\tAdjusted R-squared:  0.6935 \n",
       "F-statistic: 564.4 on 1 and 248 DF,  p-value: < 2.2e-16\n"
      ]
     },
     "metadata": {},
     "output_type": "display_data"
    }
   ],
   "source": [
    "summary(vow_model)"
   ]
  },
  {
   "cell_type": "code",
   "execution_count": 123,
   "metadata": {},
   "outputs": [],
   "source": [
    "coeff_vow <- as.numeric(vow_model$coefficients)"
   ]
  },
  {
   "cell_type": "code",
   "execution_count": 124,
   "metadata": {},
   "outputs": [],
   "source": [
    "out_of_sample <- as.matrix(cbind(rep(1, event_window), event_market))"
   ]
  },
  {
   "cell_type": "code",
   "execution_count": 125,
   "metadata": {},
   "outputs": [],
   "source": [
    "in_sample <- as.matrix(cbind(rep(1, estimation_window), est_window_market))"
   ]
  },
  {
   "cell_type": "code",
   "execution_count": 126,
   "metadata": {},
   "outputs": [],
   "source": [
    "predictions <- out_of_sample %*% coeff_vow"
   ]
  },
  {
   "cell_type": "code",
   "execution_count": 127,
   "metadata": {},
   "outputs": [],
   "source": [
    "abnorm_returns <- event_returns - predictions"
   ]
  },
  {
   "cell_type": "code",
   "execution_count": 128,
   "metadata": {},
   "outputs": [
    {
     "data": {
      "text/plain": [
       "           VOW3.DE.Adjusted\n",
       "2015-09-04       0.19510900\n",
       "2015-09-07      -0.35696989\n",
       "2015-09-08       0.90968908\n",
       "2015-09-09       1.37974522\n",
       "2015-09-10      -0.07489486\n",
       "2015-09-11       0.93956384\n",
       "2015-09-14      -0.55122943\n",
       "2015-09-15       0.70642787\n",
       "2015-09-16      -0.09582368\n",
       "2015-09-17      -1.07974730\n",
       "2015-09-18       0.04178897\n",
       "2015-09-21     -20.87600330\n",
       "2015-09-22     -17.97546387\n",
       "2015-09-23       4.63967223\n",
       "2015-09-24       2.66535957\n",
       "2015-09-25      -7.24979604\n",
       "2015-09-28      -5.45888258\n",
       "2015-09-29      -3.80731675\n",
       "2015-09-30       0.37320304\n",
       "2015-10-01       0.41258668"
      ]
     },
     "metadata": {},
     "output_type": "display_data"
    }
   ],
   "source": [
    "abnorm_returns"
   ]
  },
  {
   "cell_type": "code",
   "execution_count": 129,
   "metadata": {},
   "outputs": [
    {
     "data": {
      "text/html": [
       "<table>\n",
       "<caption>A data.frame: 20 × 1</caption>\n",
       "<thead>\n",
       "\t<tr><th></th><th scope=col>VOW3.DE</th></tr>\n",
       "\t<tr><th></th><th scope=col>&lt;dbl&gt;</th></tr>\n",
       "</thead>\n",
       "<tbody>\n",
       "\t<tr><th scope=row>2015-09-04</th><td>  0.19510900</td></tr>\n",
       "\t<tr><th scope=row>2015-09-07</th><td> -0.35696989</td></tr>\n",
       "\t<tr><th scope=row>2015-09-08</th><td>  0.90968908</td></tr>\n",
       "\t<tr><th scope=row>2015-09-09</th><td>  1.37974522</td></tr>\n",
       "\t<tr><th scope=row>2015-09-10</th><td> -0.07489486</td></tr>\n",
       "\t<tr><th scope=row>2015-09-11</th><td>  0.93956384</td></tr>\n",
       "\t<tr><th scope=row>2015-09-14</th><td> -0.55122943</td></tr>\n",
       "\t<tr><th scope=row>2015-09-15</th><td>  0.70642787</td></tr>\n",
       "\t<tr><th scope=row>2015-09-16</th><td> -0.09582368</td></tr>\n",
       "\t<tr><th scope=row>2015-09-17</th><td> -1.07974730</td></tr>\n",
       "\t<tr><th scope=row>2015-09-18</th><td>  0.04178897</td></tr>\n",
       "\t<tr><th scope=row>2015-09-21</th><td>-20.87600330</td></tr>\n",
       "\t<tr><th scope=row>2015-09-22</th><td>-17.97546387</td></tr>\n",
       "\t<tr><th scope=row>2015-09-23</th><td>  4.63967223</td></tr>\n",
       "\t<tr><th scope=row>2015-09-24</th><td>  2.66535957</td></tr>\n",
       "\t<tr><th scope=row>2015-09-25</th><td> -7.24979604</td></tr>\n",
       "\t<tr><th scope=row>2015-09-28</th><td> -5.45888258</td></tr>\n",
       "\t<tr><th scope=row>2015-09-29</th><td> -3.80731675</td></tr>\n",
       "\t<tr><th scope=row>2015-09-30</th><td>  0.37320304</td></tr>\n",
       "\t<tr><th scope=row>2015-10-01</th><td>  0.41258668</td></tr>\n",
       "</tbody>\n",
       "</table>\n"
      ],
      "text/latex": [
       "A data.frame: 20 × 1\n",
       "\\begin{tabular}{r|l}\n",
       "  & VOW3.DE\\\\\n",
       "  & <dbl>\\\\\n",
       "\\hline\n",
       "\t2015-09-04 &   0.19510900\\\\\n",
       "\t2015-09-07 &  -0.35696989\\\\\n",
       "\t2015-09-08 &   0.90968908\\\\\n",
       "\t2015-09-09 &   1.37974522\\\\\n",
       "\t2015-09-10 &  -0.07489486\\\\\n",
       "\t2015-09-11 &   0.93956384\\\\\n",
       "\t2015-09-14 &  -0.55122943\\\\\n",
       "\t2015-09-15 &   0.70642787\\\\\n",
       "\t2015-09-16 &  -0.09582368\\\\\n",
       "\t2015-09-17 &  -1.07974730\\\\\n",
       "\t2015-09-18 &   0.04178897\\\\\n",
       "\t2015-09-21 & -20.87600330\\\\\n",
       "\t2015-09-22 & -17.97546387\\\\\n",
       "\t2015-09-23 &   4.63967223\\\\\n",
       "\t2015-09-24 &   2.66535957\\\\\n",
       "\t2015-09-25 &  -7.24979604\\\\\n",
       "\t2015-09-28 &  -5.45888258\\\\\n",
       "\t2015-09-29 &  -3.80731675\\\\\n",
       "\t2015-09-30 &   0.37320304\\\\\n",
       "\t2015-10-01 &   0.41258668\\\\\n",
       "\\end{tabular}\n"
      ],
      "text/markdown": [
       "\n",
       "A data.frame: 20 × 1\n",
       "\n",
       "| <!--/--> | VOW3.DE &lt;dbl&gt; |\n",
       "|---|---|\n",
       "| 2015-09-04 |   0.19510900 |\n",
       "| 2015-09-07 |  -0.35696989 |\n",
       "| 2015-09-08 |   0.90968908 |\n",
       "| 2015-09-09 |   1.37974522 |\n",
       "| 2015-09-10 |  -0.07489486 |\n",
       "| 2015-09-11 |   0.93956384 |\n",
       "| 2015-09-14 |  -0.55122943 |\n",
       "| 2015-09-15 |   0.70642787 |\n",
       "| 2015-09-16 |  -0.09582368 |\n",
       "| 2015-09-17 |  -1.07974730 |\n",
       "| 2015-09-18 |   0.04178897 |\n",
       "| 2015-09-21 | -20.87600330 |\n",
       "| 2015-09-22 | -17.97546387 |\n",
       "| 2015-09-23 |   4.63967223 |\n",
       "| 2015-09-24 |   2.66535957 |\n",
       "| 2015-09-25 |  -7.24979604 |\n",
       "| 2015-09-28 |  -5.45888258 |\n",
       "| 2015-09-29 |  -3.80731675 |\n",
       "| 2015-09-30 |   0.37320304 |\n",
       "| 2015-10-01 |   0.41258668 |\n",
       "\n"
      ],
      "text/plain": [
       "           VOW3.DE     \n",
       "2015-09-04   0.19510900\n",
       "2015-09-07  -0.35696989\n",
       "2015-09-08   0.90968908\n",
       "2015-09-09   1.37974522\n",
       "2015-09-10  -0.07489486\n",
       "2015-09-11   0.93956384\n",
       "2015-09-14  -0.55122943\n",
       "2015-09-15   0.70642787\n",
       "2015-09-16  -0.09582368\n",
       "2015-09-17  -1.07974730\n",
       "2015-09-18   0.04178897\n",
       "2015-09-21 -20.87600330\n",
       "2015-09-22 -17.97546387\n",
       "2015-09-23   4.63967223\n",
       "2015-09-24   2.66535957\n",
       "2015-09-25  -7.24979604\n",
       "2015-09-28  -5.45888258\n",
       "2015-09-29  -3.80731675\n",
       "2015-09-30   0.37320304\n",
       "2015-10-01   0.41258668"
      ]
     },
     "metadata": {},
     "output_type": "display_data"
    }
   ],
   "source": [
    "ab.ret[1]"
   ]
  },
  {
   "cell_type": "markdown",
   "metadata": {},
   "source": [
    "- I hope that you remember this formula from lecture  \n",
    "$$\\sigma(c)^2 = \\hat{\\sigma}_{\\varepsilon_i}^2\\cdot c'(I + X^{*}(X'X)^{-1}X'^{*})\\cdot c$$"
   ]
  },
  {
   "cell_type": "code",
   "execution_count": 130,
   "metadata": {},
   "outputs": [],
   "source": [
    "ones <- diag(event_window)"
   ]
  },
  {
   "cell_type": "code",
   "execution_count": 131,
   "metadata": {},
   "outputs": [],
   "source": [
    "var_abnorm <- (summary(vow_model)$sigma)^2*(ones + out_of_sample %*% solve(t(in_sample) %*% in_sample)%*% t(out_of_sample))"
   ]
  },
  {
   "cell_type": "code",
   "execution_count": 132,
   "metadata": {},
   "outputs": [],
   "source": [
    "c_matrix <- t(lower.tri(matrix(1,event_window,event_window),diag = TRUE))"
   ]
  },
  {
   "cell_type": "code",
   "execution_count": 133,
   "metadata": {},
   "outputs": [],
   "source": [
    "event_car <- c(rep(0, event_window))"
   ]
  },
  {
   "cell_type": "code",
   "execution_count": 134,
   "metadata": {},
   "outputs": [],
   "source": [
    "event_car[event_window/2] <- 1"
   ]
  },
  {
   "cell_type": "code",
   "execution_count": 135,
   "metadata": {},
   "outputs": [],
   "source": [
    "c_matrix <- cbind(c_matrix, event_car)"
   ]
  },
  {
   "cell_type": "code",
   "execution_count": 136,
   "metadata": {},
   "outputs": [],
   "source": [
    "CARs_for_each_c <- t(c_matrix)%*%abnorm_returns"
   ]
  },
  {
   "cell_type": "code",
   "execution_count": 137,
   "metadata": {},
   "outputs": [],
   "source": [
    "Var_for_each_c <- diag(t(c_matrix)%*%var_abnorm%*%c_matrix)"
   ]
  },
  {
   "cell_type": "code",
   "execution_count": 138,
   "metadata": {},
   "outputs": [],
   "source": [
    "SCAR_for_each_c <- CARs_for_each_c/sqrt(Var_for_each_c)"
   ]
  },
  {
   "cell_type": "code",
   "execution_count": 139,
   "metadata": {},
   "outputs": [
    {
     "data": {
      "text/html": [
       "<table>\n",
       "<caption>A matrix: 21 × 1 of type dbl</caption>\n",
       "<thead>\n",
       "\t<tr><th></th><th scope=col>VOW3.DE.Adjusted</th></tr>\n",
       "</thead>\n",
       "<tbody>\n",
       "\t<tr><th scope=row></th><td>  0.1950301</td></tr>\n",
       "\t<tr><th scope=row></th><td> -0.1147991</td></tr>\n",
       "\t<tr><th scope=row></th><td>  0.4331075</td></tr>\n",
       "\t<tr><th scope=row></th><td>  1.0650878</td></tr>\n",
       "\t<tr><th scope=row></th><td>  0.9170739</td></tr>\n",
       "\t<tr><th scope=row></th><td>  1.2174770</td></tr>\n",
       "\t<tr><th scope=row></th><td>  0.9178483</td></tr>\n",
       "\t<tr><th scope=row></th><td>  1.1052116</td></tr>\n",
       "\t<tr><th scope=row></th><td>  1.0084558</td></tr>\n",
       "\t<tr><th scope=row></th><td>  0.6170143</td></tr>\n",
       "\t<tr><th scope=row></th><td>  0.5987543</td></tr>\n",
       "\t<tr><th scope=row></th><td> -5.3613835</td></tr>\n",
       "\t<tr><th scope=row></th><td>-10.0084517</td></tr>\n",
       "\t<tr><th scope=row></th><td> -8.4200533</td></tr>\n",
       "\t<tr><th scope=row></th><td> -7.4337213</td></tr>\n",
       "\t<tr><th scope=row></th><td> -8.9735665</td></tr>\n",
       "\t<tr><th scope=row></th><td> -9.9622688</td></tr>\n",
       "\t<tr><th scope=row></th><td>-10.5335028</td></tr>\n",
       "\t<tr><th scope=row></th><td>-10.1704211</td></tr>\n",
       "\t<tr><th scope=row></th><td> -9.7951201</td></tr>\n",
       "\t<tr><th scope=row>event_car</th><td> -1.0875243</td></tr>\n",
       "</tbody>\n",
       "</table>\n"
      ],
      "text/latex": [
       "A matrix: 21 × 1 of type dbl\n",
       "\\begin{tabular}{r|l}\n",
       "  & VOW3.DE.Adjusted\\\\\n",
       "\\hline\n",
       "\t &   0.1950301\\\\\n",
       "\t &  -0.1147991\\\\\n",
       "\t &   0.4331075\\\\\n",
       "\t &   1.0650878\\\\\n",
       "\t &   0.9170739\\\\\n",
       "\t &   1.2174770\\\\\n",
       "\t &   0.9178483\\\\\n",
       "\t &   1.1052116\\\\\n",
       "\t &   1.0084558\\\\\n",
       "\t &   0.6170143\\\\\n",
       "\t &   0.5987543\\\\\n",
       "\t &  -5.3613835\\\\\n",
       "\t & -10.0084517\\\\\n",
       "\t &  -8.4200533\\\\\n",
       "\t &  -7.4337213\\\\\n",
       "\t &  -8.9735665\\\\\n",
       "\t &  -9.9622688\\\\\n",
       "\t & -10.5335028\\\\\n",
       "\t & -10.1704211\\\\\n",
       "\t &  -9.7951201\\\\\n",
       "\tevent\\_car &  -1.0875243\\\\\n",
       "\\end{tabular}\n"
      ],
      "text/markdown": [
       "\n",
       "A matrix: 21 × 1 of type dbl\n",
       "\n",
       "| <!--/--> | VOW3.DE.Adjusted |\n",
       "|---|---|\n",
       "| <!----> |   0.1950301 |\n",
       "| <!----> |  -0.1147991 |\n",
       "| <!----> |   0.4331075 |\n",
       "| <!----> |   1.0650878 |\n",
       "| <!----> |   0.9170739 |\n",
       "| <!----> |   1.2174770 |\n",
       "| <!----> |   0.9178483 |\n",
       "| <!----> |   1.1052116 |\n",
       "| <!----> |   1.0084558 |\n",
       "| <!----> |   0.6170143 |\n",
       "| <!----> |   0.5987543 |\n",
       "| <!----> |  -5.3613835 |\n",
       "| <!----> | -10.0084517 |\n",
       "| <!----> |  -8.4200533 |\n",
       "| <!----> |  -7.4337213 |\n",
       "| <!----> |  -8.9735665 |\n",
       "| <!----> |  -9.9622688 |\n",
       "| <!----> | -10.5335028 |\n",
       "| <!----> | -10.1704211 |\n",
       "| <!----> |  -9.7951201 |\n",
       "| event_car |  -1.0875243 |\n",
       "\n"
      ],
      "text/plain": [
       "          VOW3.DE.Adjusted\n",
       "            0.1950301     \n",
       "           -0.1147991     \n",
       "            0.4331075     \n",
       "            1.0650878     \n",
       "            0.9170739     \n",
       "            1.2174770     \n",
       "            0.9178483     \n",
       "            1.1052116     \n",
       "            1.0084558     \n",
       "            0.6170143     \n",
       "            0.5987543     \n",
       "           -5.3613835     \n",
       "          -10.0084517     \n",
       "           -8.4200533     \n",
       "           -7.4337213     \n",
       "           -8.9735665     \n",
       "           -9.9622688     \n",
       "          -10.5335028     \n",
       "          -10.1704211     \n",
       "           -9.7951201     \n",
       "event_car  -1.0875243     "
      ]
     },
     "metadata": {},
     "output_type": "display_data"
    }
   ],
   "source": [
    "SCAR_for_each_c"
   ]
  },
  {
   "cell_type": "code",
   "execution_count": 140,
   "metadata": {},
   "outputs": [],
   "source": [
    "p_vals_asym <- 2*(1-pnorm(abs(SCAR_for_each_c)))"
   ]
  },
  {
   "cell_type": "code",
   "execution_count": 141,
   "metadata": {},
   "outputs": [],
   "source": [
    "p_vals_student <- 2*(1-pt(abs(SCAR_for_each_c), df=estimation_window-2))"
   ]
  },
  {
   "cell_type": "code",
   "execution_count": 142,
   "metadata": {},
   "outputs": [],
   "source": [
    "p_vals <- cbind(p_vals_asym, p_vals_student)"
   ]
  },
  {
   "cell_type": "code",
   "execution_count": 143,
   "metadata": {},
   "outputs": [],
   "source": [
    "colnames(p_vals) <- c(\"Asymptotic SCARs p-val\", \"Student-t SCARs p-val\")"
   ]
  },
  {
   "cell_type": "code",
   "execution_count": 144,
   "metadata": {},
   "outputs": [
    {
     "data": {
      "text/html": [
       "<table>\n",
       "<caption>A matrix: 21 × 2 of type dbl</caption>\n",
       "<thead>\n",
       "\t<tr><th></th><th scope=col>Asymptotic SCARs p-val</th><th scope=col>Student-t SCARs p-val</th></tr>\n",
       "</thead>\n",
       "<tbody>\n",
       "\t<tr><th scope=row></th><td>8.453694e-01</td><td>8.455291e-01</td></tr>\n",
       "\t<tr><th scope=row></th><td>9.086044e-01</td><td>9.086973e-01</td></tr>\n",
       "\t<tr><th scope=row></th><td>6.649367e-01</td><td>6.653131e-01</td></tr>\n",
       "\t<tr><th scope=row></th><td>2.868362e-01</td><td>2.878721e-01</td></tr>\n",
       "\t<tr><th scope=row></th><td>3.591039e-01</td><td>3.599949e-01</td></tr>\n",
       "\t<tr><th scope=row></th><td>2.234228e-01</td><td>2.245799e-01</td></tr>\n",
       "\t<tr><th scope=row></th><td>3.586983e-01</td><td>3.595900e-01</td></tr>\n",
       "\t<tr><th scope=row></th><td>2.690679e-01</td><td>2.701390e-01</td></tr>\n",
       "\t<tr><th scope=row></th><td>3.132357e-01</td><td>3.142186e-01</td></tr>\n",
       "\t<tr><th scope=row></th><td>5.372253e-01</td><td>5.377913e-01</td></tr>\n",
       "\t<tr><th scope=row></th><td>5.493368e-01</td><td>5.498833e-01</td></tr>\n",
       "\t<tr><th scope=row></th><td>8.258697e-08</td><td>1.889657e-07</td></tr>\n",
       "\t<tr><th scope=row></th><td>0.000000e+00</td><td>0.000000e+00</td></tr>\n",
       "\t<tr><th scope=row></th><td>0.000000e+00</td><td>3.108624e-15</td></tr>\n",
       "\t<tr><th scope=row></th><td>1.056932e-13</td><td>1.711520e-12</td></tr>\n",
       "\t<tr><th scope=row></th><td>0.000000e+00</td><td>0.000000e+00</td></tr>\n",
       "\t<tr><th scope=row></th><td>0.000000e+00</td><td>0.000000e+00</td></tr>\n",
       "\t<tr><th scope=row></th><td>0.000000e+00</td><td>0.000000e+00</td></tr>\n",
       "\t<tr><th scope=row></th><td>0.000000e+00</td><td>0.000000e+00</td></tr>\n",
       "\t<tr><th scope=row></th><td>0.000000e+00</td><td>0.000000e+00</td></tr>\n",
       "\t<tr><th scope=row>event_car</th><td>2.768051e-01</td><td>2.778609e-01</td></tr>\n",
       "</tbody>\n",
       "</table>\n"
      ],
      "text/latex": [
       "A matrix: 21 × 2 of type dbl\n",
       "\\begin{tabular}{r|ll}\n",
       "  & Asymptotic SCARs p-val & Student-t SCARs p-val\\\\\n",
       "\\hline\n",
       "\t & 8.453694e-01 & 8.455291e-01\\\\\n",
       "\t & 9.086044e-01 & 9.086973e-01\\\\\n",
       "\t & 6.649367e-01 & 6.653131e-01\\\\\n",
       "\t & 2.868362e-01 & 2.878721e-01\\\\\n",
       "\t & 3.591039e-01 & 3.599949e-01\\\\\n",
       "\t & 2.234228e-01 & 2.245799e-01\\\\\n",
       "\t & 3.586983e-01 & 3.595900e-01\\\\\n",
       "\t & 2.690679e-01 & 2.701390e-01\\\\\n",
       "\t & 3.132357e-01 & 3.142186e-01\\\\\n",
       "\t & 5.372253e-01 & 5.377913e-01\\\\\n",
       "\t & 5.493368e-01 & 5.498833e-01\\\\\n",
       "\t & 8.258697e-08 & 1.889657e-07\\\\\n",
       "\t & 0.000000e+00 & 0.000000e+00\\\\\n",
       "\t & 0.000000e+00 & 3.108624e-15\\\\\n",
       "\t & 1.056932e-13 & 1.711520e-12\\\\\n",
       "\t & 0.000000e+00 & 0.000000e+00\\\\\n",
       "\t & 0.000000e+00 & 0.000000e+00\\\\\n",
       "\t & 0.000000e+00 & 0.000000e+00\\\\\n",
       "\t & 0.000000e+00 & 0.000000e+00\\\\\n",
       "\t & 0.000000e+00 & 0.000000e+00\\\\\n",
       "\tevent\\_car & 2.768051e-01 & 2.778609e-01\\\\\n",
       "\\end{tabular}\n"
      ],
      "text/markdown": [
       "\n",
       "A matrix: 21 × 2 of type dbl\n",
       "\n",
       "| <!--/--> | Asymptotic SCARs p-val | Student-t SCARs p-val |\n",
       "|---|---|---|\n",
       "| <!----> | 8.453694e-01 | 8.455291e-01 |\n",
       "| <!----> | 9.086044e-01 | 9.086973e-01 |\n",
       "| <!----> | 6.649367e-01 | 6.653131e-01 |\n",
       "| <!----> | 2.868362e-01 | 2.878721e-01 |\n",
       "| <!----> | 3.591039e-01 | 3.599949e-01 |\n",
       "| <!----> | 2.234228e-01 | 2.245799e-01 |\n",
       "| <!----> | 3.586983e-01 | 3.595900e-01 |\n",
       "| <!----> | 2.690679e-01 | 2.701390e-01 |\n",
       "| <!----> | 3.132357e-01 | 3.142186e-01 |\n",
       "| <!----> | 5.372253e-01 | 5.377913e-01 |\n",
       "| <!----> | 5.493368e-01 | 5.498833e-01 |\n",
       "| <!----> | 8.258697e-08 | 1.889657e-07 |\n",
       "| <!----> | 0.000000e+00 | 0.000000e+00 |\n",
       "| <!----> | 0.000000e+00 | 3.108624e-15 |\n",
       "| <!----> | 1.056932e-13 | 1.711520e-12 |\n",
       "| <!----> | 0.000000e+00 | 0.000000e+00 |\n",
       "| <!----> | 0.000000e+00 | 0.000000e+00 |\n",
       "| <!----> | 0.000000e+00 | 0.000000e+00 |\n",
       "| <!----> | 0.000000e+00 | 0.000000e+00 |\n",
       "| <!----> | 0.000000e+00 | 0.000000e+00 |\n",
       "| event_car | 2.768051e-01 | 2.778609e-01 |\n",
       "\n"
      ],
      "text/plain": [
       "          Asymptotic SCARs p-val Student-t SCARs p-val\n",
       "          8.453694e-01           8.455291e-01         \n",
       "          9.086044e-01           9.086973e-01         \n",
       "          6.649367e-01           6.653131e-01         \n",
       "          2.868362e-01           2.878721e-01         \n",
       "          3.591039e-01           3.599949e-01         \n",
       "          2.234228e-01           2.245799e-01         \n",
       "          3.586983e-01           3.595900e-01         \n",
       "          2.690679e-01           2.701390e-01         \n",
       "          3.132357e-01           3.142186e-01         \n",
       "          5.372253e-01           5.377913e-01         \n",
       "          5.493368e-01           5.498833e-01         \n",
       "          8.258697e-08           1.889657e-07         \n",
       "          0.000000e+00           0.000000e+00         \n",
       "          0.000000e+00           3.108624e-15         \n",
       "          1.056932e-13           1.711520e-12         \n",
       "          0.000000e+00           0.000000e+00         \n",
       "          0.000000e+00           0.000000e+00         \n",
       "          0.000000e+00           0.000000e+00         \n",
       "          0.000000e+00           0.000000e+00         \n",
       "          0.000000e+00           0.000000e+00         \n",
       "event_car 2.768051e-01           2.778609e-01         "
      ]
     },
     "metadata": {},
     "output_type": "display_data"
    }
   ],
   "source": [
    "p_vals"
   ]
  },
  {
   "cell_type": "code",
   "execution_count": 145,
   "metadata": {},
   "outputs": [],
   "source": [
    "abnorm_returns[,1] <- round(as.numeric(abnorm_returns),5)"
   ]
  },
  {
   "cell_type": "code",
   "execution_count": 146,
   "metadata": {},
   "outputs": [],
   "source": [
    "colnames(abnorm_returns) <- c(\"Abnormal Returns\")"
   ]
  },
  {
   "cell_type": "code",
   "execution_count": 147,
   "metadata": {},
   "outputs": [],
   "source": [
    "colnames(CARs_for_each_c) <- c(\"CARs for each c\")"
   ]
  },
  {
   "cell_type": "code",
   "execution_count": 148,
   "metadata": {},
   "outputs": [],
   "source": [
    "p_vals <- round(p_vals, 3)"
   ]
  },
  {
   "cell_type": "code",
   "execution_count": 149,
   "metadata": {},
   "outputs": [],
   "source": [
    "results <- list(summary(vow_model), abnorm_returns, CARs_for_each_c, p_vals)"
   ]
  },
  {
   "cell_type": "code",
   "execution_count": 150,
   "metadata": {},
   "outputs": [
    {
     "data": {
      "text/plain": [
       "[[1]]\n",
       "\n",
       "Call:\n",
       "lm(formula = est_window_vow ~ est_window_market)\n",
       "\n",
       "Residuals:\n",
       "    Min      1Q  Median      3Q     Max \n",
       "-3.5745 -0.4788 -0.0388  0.5483  3.2121 \n",
       "\n",
       "Coefficients:\n",
       "                  Estimate Std. Error t value Pr(>|t|)    \n",
       "(Intercept)       -0.04109    0.06268  -0.656    0.513    \n",
       "est_window_market  1.05141    0.04426  23.757   <2e-16 ***\n",
       "---\n",
       "Signif. codes:  0 ‘***’ 0.001 ‘**’ 0.01 ‘*’ 0.05 ‘.’ 0.1 ‘ ’ 1\n",
       "\n",
       "Residual standard error: 0.9909 on 248 degrees of freedom\n",
       "Multiple R-squared:  0.6947,\tAdjusted R-squared:  0.6935 \n",
       "F-statistic: 564.4 on 1 and 248 DF,  p-value: < 2.2e-16\n",
       "\n",
       "\n",
       "[[2]]\n",
       "           Abnormal Returns\n",
       "2015-09-04          0.19511\n",
       "2015-09-07         -0.35697\n",
       "2015-09-08          0.90969\n",
       "2015-09-09          1.37975\n",
       "2015-09-10         -0.07489\n",
       "2015-09-11          0.93956\n",
       "2015-09-14         -0.55123\n",
       "2015-09-15          0.70643\n",
       "2015-09-16         -0.09582\n",
       "2015-09-17         -1.07975\n",
       "2015-09-18          0.04179\n",
       "2015-09-21        -20.87600\n",
       "2015-09-22        -17.97546\n",
       "2015-09-23          4.63967\n",
       "2015-09-24          2.66536\n",
       "2015-09-25         -7.24980\n",
       "2015-09-28         -5.45888\n",
       "2015-09-29         -3.80732\n",
       "2015-09-30          0.37320\n",
       "2015-10-01          0.41259\n",
       "\n",
       "[[3]]\n",
       "          CARs for each c\n",
       "                0.1951090\n",
       "               -0.1618609\n",
       "                0.7478282\n",
       "                2.1275734\n",
       "                2.0526786\n",
       "                2.9922424\n",
       "                2.4410130\n",
       "                3.1474408\n",
       "                3.0516171\n",
       "                1.9718698\n",
       "                2.0136588\n",
       "              -18.8623445\n",
       "              -36.8378083\n",
       "              -32.1981361\n",
       "              -29.5327766\n",
       "              -36.7825726\n",
       "              -42.2414552\n",
       "              -46.0487719\n",
       "              -45.6755689\n",
       "              -45.2629822\n",
       "event_car      -1.0797473\n",
       "\n",
       "[[4]]\n",
       "          Asymptotic SCARs p-val Student-t SCARs p-val\n",
       "                           0.845                 0.846\n",
       "                           0.909                 0.909\n",
       "                           0.665                 0.665\n",
       "                           0.287                 0.288\n",
       "                           0.359                 0.360\n",
       "                           0.223                 0.225\n",
       "                           0.359                 0.360\n",
       "                           0.269                 0.270\n",
       "                           0.313                 0.314\n",
       "                           0.537                 0.538\n",
       "                           0.549                 0.550\n",
       "                           0.000                 0.000\n",
       "                           0.000                 0.000\n",
       "                           0.000                 0.000\n",
       "                           0.000                 0.000\n",
       "                           0.000                 0.000\n",
       "                           0.000                 0.000\n",
       "                           0.000                 0.000\n",
       "                           0.000                 0.000\n",
       "                           0.000                 0.000\n",
       "event_car                  0.277                 0.278\n"
      ]
     },
     "metadata": {},
     "output_type": "display_data"
    }
   ],
   "source": [
    "results"
   ]
  },
  {
   "cell_type": "code",
   "execution_count": 200,
   "metadata": {},
   "outputs": [
    {
     "data": {
      "image/png": "[encoded data removed]",
      "text/plain": [
       "plot without title"
      ]
     },
     "metadata": {
      "image/png": {
       "height": 420,
       "width": 420
      }
     },
     "output_type": "display_data"
    },
    {
     "data": {
      "image/png": "[encoded data removed]",
      "text/plain": [
       "plot without title"
      ]
     },
     "metadata": {
      "image/png": {
       "height": 420,
       "width": 420
      }
     },
     "output_type": "display_data"
    }
   ],
   "source": [
    "plot(vow[(startpoint-event_window/2):(startpoint+event_window/2-1)], \n",
    "     main = 'Plot of returns and abnormal returns', \n",
    "     ylim = c(-50, 10), \n",
    "     col = 'black')\n",
    "\n",
    "lines(cumsum(abnorm_returns), \n",
    "      col = 'red', \n",
    "      lwd = 3)\n",
    "\n",
    "legend('bottomleft',\n",
    "       legend = c('Returns', 'Cumulative Abnormal Returns'), \n",
    "       col = c('black', 'red'), \n",
    "       lty=1, \n",
    "       lwd = 1)"
   ]
  }
 ],
 "metadata": {
  "kernelspec": {
   "display_name": "R",
   "language": "R",
   "name": "ir"
  },
  "language_info": {
   "codemirror_mode": "r",
   "file_extension": ".r",
   "mimetype": "text/x-r-source",
   "name": "R",
   "pygments_lexer": "r",
   "version": "3.6.3"
  }
 },
 "nbformat": 4,
 "nbformat_minor": 2
}
