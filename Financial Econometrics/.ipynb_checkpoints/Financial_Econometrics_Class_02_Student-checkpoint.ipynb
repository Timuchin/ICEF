{
 "cells": [
  {
   "cell_type": "markdown",
   "metadata": {},
   "source": [
    "# International College of Economics and Finance "
   ]
  },
  {
   "cell_type": "markdown",
   "metadata": {},
   "source": [
    "# Financial Econometrics. Class 02"
   ]
  },
  {
   "cell_type": "markdown",
   "metadata": {},
   "source": [
    "## Event-studies"
   ]
  },
  {
   "cell_type": "markdown",
   "metadata": {},
   "source": [
    "- Howto: An Example with Data Preparation\n",
    "- Dr. Simon Müller\n",
    "- [source](https://cran.r-project.org/web/packages/EventStudy/vignettes/howto_eventstudy.html)"
   ]
  },
  {
   "cell_type": "markdown",
   "metadata": {},
   "source": [
    "### Overview"
   ]
  },
  {
   "cell_type": "markdown",
   "metadata": {},
   "source": [
    "Today we are will see how to do an event study in R based on the Dieselgate scandal. The Volkswagen emissions scandal (also called “emissionsgate” or “dieselgate”) began in September 2015, when the United States Environmental Protection Agency (EP A) issued a notice of violation of the Clean Air Act to German automaker Volkswagen Group"
   ]
  },
  {
   "cell_type": "code",
   "execution_count": null,
   "metadata": {
    "scrolled": true
   },
   "outputs": [],
   "source": [
    "options(warn = -1)\n",
    "library(xts)\n",
    "library(tidyquant)\n",
    "library(dplyr)\n",
    "library(readr)"
   ]
  },
  {
   "cell_type": "markdown",
   "metadata": {},
   "source": [
    "### Data Preparation"
   ]
  },
  {
   "cell_type": "markdown",
   "metadata": {},
   "source": [
    "We use the package `tidyquant` to fetch the automotive stock data from Yahoo Finance. As we cannot get the full volume size from this companies through Yahoo Finance API.\n",
    "\n",
    "Let’s define the window from which we want to fetch the data of the German auto companies."
   ]
  },
  {
   "cell_type": "code",
   "execution_count": null,
   "metadata": {},
   "outputs": [],
   "source": [
    "startDate <- \"2014-05-01\"\n",
    "endDate <- \"2015-12-31\""
   ]
  },
  {
   "cell_type": "markdown",
   "metadata": {},
   "source": [
    "We focus us on the big five motor manufacturers in Germany, namely\n",
    "- VW Group\n",
    "    - VW\n",
    "    - Audi\n",
    "- Porsche\n",
    "- Daimler\n",
    "- BMW"
   ]
  },
  {
   "cell_type": "code",
   "execution_count": null,
   "metadata": {},
   "outputs": [],
   "source": [
    "# Firm Data\n",
    "firmSymbols <- c(\"VOW3.DE\", \"NSU.DE\", \"PAH3.DE\", \"BMW.DE\", \"DAI.DE\")\n",
    "firmNames <- c(\"VW preferred\", \"Audi\", \"Porsche Automobil Hld\", \"BMW\", \"Daimler\")\n",
    "firms <- getSymbols(Symbols = firmSymbols, from = startDate, to = endDate)\n",
    "firms.prices <- cbind(VOW3.DE$VOW3.DE.Adjusted, PAH3.DE$PAH3.DE.Adjusted, NSU.DE$NSU.DE.Adjusted,\n",
    "DAI.DE$DAI.DE.Adjusted, BMW.DE$BMW.DE.Adjusted)\n",
    "head(firms.prices)"
   ]
  },
  {
   "cell_type": "markdown",
   "metadata": {},
   "source": [
    "As reference market we choose the DAX."
   ]
  },
  {
   "cell_type": "code",
   "execution_count": null,
   "metadata": {},
   "outputs": [],
   "source": [
    "# Index Data\n",
    "indexSymbol <- c(\"^GDAXI\")\n",
    "indexName <- c(\"DAX\")\n",
    "index <- getSymbols(Symbols = indexSymbol, from = startDate, to = endDate, auto.assign =  F)\n",
    "head(index)"
   ]
  },
  {
   "cell_type": "code",
   "execution_count": null,
   "metadata": {},
   "outputs": [],
   "source": [
    "# Making log returns\n",
    "firms.ret <- ### your code\n",
    "index.ret <- ### your code"
   ]
  },
  {
   "cell_type": "markdown",
   "metadata": {},
   "source": [
    "The parameters for this Event Study are:\n",
    "- Estimation window: 250\n",
    "- Event window: -10 to 10\n",
    "- Event date: 18.09.2015"
   ]
  },
  {
   "cell_type": "code",
   "execution_count": null,
   "metadata": {},
   "outputs": [],
   "source": [
    "startpoint = which(index(index.ret) == \"2015-09-18\")\n",
    "estimation_window <- 250\n",
    "event_window <- 20"
   ]
  },
  {
   "cell_type": "markdown",
   "metadata": {},
   "source": [
    "#### Fitting market model"
   ]
  },
  {
   "cell_type": "code",
   "execution_count": null,
   "metadata": {},
   "outputs": [],
   "source": [
    "fitted.models <- list() \n",
    "\n",
    "est_window_market <- # we need to take observations of the market that took place before window\n",
    "\n",
    "for(i in colnames(firms.ret)){\n",
    "    est_window_returns <- # we need to take observations of the firms returns that took place before window\n",
    "    fitted.models[[i]] <- # linear model is already incorporated in R. How we can use it?\n",
    "    print(i)\n",
    "    print(summary(fitted.models[[i]]))\n",
    "}"
   ]
  },
  {
   "cell_type": "markdown",
   "metadata": {},
   "source": [
    "#### Making predictions"
   ]
  },
  {
   "cell_type": "code",
   "execution_count": null,
   "metadata": {},
   "outputs": [],
   "source": [
    "predicted <- matrix(NA, nrow = event_window, ncol = length(firmSymbols))\n",
    "colnames(predicted) <- c(\"VOW3.DE\", \"NSU.DE\", \"PAH3.DE\", \"BMW.DE\", \"DAI.DE\")\n",
    "for(i in 1:length(firmSymbols)){\n",
    "    for(j in 1:event_window){\n",
    "        predicted[j, i] <- # the easiest way is to take const of the model + beta * observation\n",
    "    }\n",
    "}\n",
    "\n",
    "# What about re-writing it in a \"normal\", not eye-bleeding loop... I mean matrices, of course\n",
    "# Try to do it at home\n",
    "\n",
    "predicted <- as.xts(predicted, order.by = as.Date(index(index.ret)[(startpoint - event_window/ 2):(startpoint + event_window/2-1)]))"
   ]
  },
  {
   "cell_type": "markdown",
   "metadata": {},
   "source": [
    "#### Calculating abnormal returns"
   ]
  },
  {
   "cell_type": "code",
   "execution_count": null,
   "metadata": {},
   "outputs": [],
   "source": [
    "y_true <- matrix(NA, nrow = event_window, ncol = length(firmSymbols))\n",
    "colnames(y_true) <- c(\"VOW3.DE\", \"NSU.DE\", \"PAH3.DE\", \"BMW.DE\", \"DAI.DE\")\n",
    "y_true <- firms.ret[(startpoint - event_window/2):(startpoint + event_window/2-1)]\n",
    "\n",
    "ab.ret <- matrix(NA, nrow = NROW(predicted), ncol = ncol(predicted))\n",
    "colnames(ab.ret) <- colnames(predicted)\n",
    "\n",
    "for(i in 1:ncol(predicted)){\n",
    "    ab.ret[, i] <- y_true[, i] - predicted[, i]\n",
    "}\n",
    "\n",
    "ab.ret <- as.data.frame(ab.ret)\n",
    "rownames(ab.ret) <- as.Date(index(predicted))"
   ]
  },
  {
   "cell_type": "markdown",
   "metadata": {},
   "source": [
    "#### Calculating abnormal returns  \n",
    "Remember that $J_{3} = [\\frac{N^{+}}{N}-0.5]\\frac{\\sqrt{N}}{0.5}\\rightarrow^{d}\\mathcal{N(0, 1)}$"
   ]
  },
  {
   "cell_type": "code",
   "execution_count": null,
   "metadata": {},
   "outputs": [],
   "source": [
    "J_3 <- vector()\n",
    "p_value <- vector()\n",
    "for (i in colnames(ab.ret)){\n",
    "    J_3[i] <- # try to code it\n",
    "    p_value[i] <- # how can we calculate p-value\n",
    "}\n",
    "print(firmSymbols)\n",
    "print(J_3)\n",
    "sprintf(\"%.3f\", p_value)"
   ]
  },
  {
   "cell_type": "markdown",
   "metadata": {},
   "source": [
    "- Still, it is very usefull, especially for you home assignment, to calculate CARs and SCARS\n",
    "- For simplicity, let's do this only for one stock"
   ]
  },
  {
   "cell_type": "code",
   "execution_count": null,
   "metadata": {},
   "outputs": [],
   "source": [
    "vow <- firms.ret$VOW3.DE.Adjusted # let's pick VW"
   ]
  },
  {
   "cell_type": "code",
   "execution_count": null,
   "metadata": {},
   "outputs": [],
   "source": [
    "event_returns <- # your code"
   ]
  },
  {
   "cell_type": "code",
   "execution_count": null,
   "metadata": {},
   "outputs": [],
   "source": [
    "event_market <- # your code"
   ]
  },
  {
   "cell_type": "code",
   "execution_count": null,
   "metadata": {},
   "outputs": [],
   "source": [
    "est_window_vow <- # your code"
   ]
  },
  {
   "cell_type": "code",
   "execution_count": null,
   "metadata": {},
   "outputs": [],
   "source": [
    "vow_model <- # linear model"
   ]
  },
  {
   "cell_type": "code",
   "execution_count": null,
   "metadata": {},
   "outputs": [],
   "source": [
    "summary(vow_model)"
   ]
  },
  {
   "cell_type": "code",
   "execution_count": null,
   "metadata": {},
   "outputs": [],
   "source": [
    "coeff_vow <- as.numeric(vow_model$coefficients)"
   ]
  },
  {
   "cell_type": "code",
   "execution_count": null,
   "metadata": {},
   "outputs": [],
   "source": [
    "out_of_sample <- as.matrix(cbind(rep(1, event_window), event_market))"
   ]
  },
  {
   "cell_type": "code",
   "execution_count": null,
   "metadata": {},
   "outputs": [],
   "source": [
    "in_sample <- as.matrix(cbind(rep(1, estimation_window), est_window_market))"
   ]
  },
  {
   "cell_type": "code",
   "execution_count": null,
   "metadata": {},
   "outputs": [],
   "source": [
    "predictions <- # your code"
   ]
  },
  {
   "cell_type": "code",
   "execution_count": null,
   "metadata": {},
   "outputs": [],
   "source": [
    "abnorm_returns <- event_returns - predictions"
   ]
  },
  {
   "cell_type": "code",
   "execution_count": null,
   "metadata": {},
   "outputs": [],
   "source": [
    "abnorm_returns"
   ]
  },
  {
   "cell_type": "code",
   "execution_count": null,
   "metadata": {},
   "outputs": [],
   "source": [
    "ab.ret[1]"
   ]
  },
  {
   "cell_type": "markdown",
   "metadata": {},
   "source": [
    "- I hope that you remember this formula from lecture  \n",
    "$$\\sigma(c)^2 = \\hat{\\sigma}_{\\varepsilon_i}^2\\cdot c'(I + X^{*}(X'X)^{-1}X'^{*})\\cdot c$$"
   ]
  },
  {
   "cell_type": "code",
   "execution_count": null,
   "metadata": {},
   "outputs": [],
   "source": [
    "ones <- diag(event_window)"
   ]
  },
  {
   "cell_type": "code",
   "execution_count": null,
   "metadata": {},
   "outputs": [],
   "source": [
    "var_abnorm <- (summary(vow_model)$sigma)^2*(ones + out_of_sample %*% solve(t(in_sample) %*% in_sample)%*% t(out_of_sample))"
   ]
  },
  {
   "cell_type": "code",
   "execution_count": null,
   "metadata": {},
   "outputs": [],
   "source": [
    "c_matrix <- t(lower.tri(matrix(1,event_window,event_window),diag = TRUE))"
   ]
  },
  {
   "cell_type": "code",
   "execution_count": null,
   "metadata": {},
   "outputs": [],
   "source": [
    "event_car <- c(rep(0, event_window))"
   ]
  },
  {
   "cell_type": "code",
   "execution_count": null,
   "metadata": {},
   "outputs": [],
   "source": [
    "event_car[event_window/2] <- 1"
   ]
  },
  {
   "cell_type": "code",
   "execution_count": null,
   "metadata": {},
   "outputs": [],
   "source": [
    "c_matrix <- cbind(c_matrix, event_car)"
   ]
  },
  {
   "cell_type": "code",
   "execution_count": null,
   "metadata": {},
   "outputs": [],
   "source": [
    "CARs_for_each_c <- t(c_matrix)%*%abnorm_returns"
   ]
  },
  {
   "cell_type": "code",
   "execution_count": null,
   "metadata": {},
   "outputs": [],
   "source": [
    "Var_for_each_c <- diag(t(c_matrix)%*%var_abnorm%*%c_matrix)"
   ]
  },
  {
   "cell_type": "code",
   "execution_count": null,
   "metadata": {},
   "outputs": [],
   "source": [
    "SCAR_for_each_c <- CARs_for_each_c/sqrt(Var_for_each_c)"
   ]
  },
  {
   "cell_type": "code",
   "execution_count": null,
   "metadata": {},
   "outputs": [],
   "source": [
    "SCAR_for_each_c"
   ]
  },
  {
   "cell_type": "code",
   "execution_count": null,
   "metadata": {},
   "outputs": [],
   "source": [
    "p_vals_asym <- # your code"
   ]
  },
  {
   "cell_type": "code",
   "execution_count": null,
   "metadata": {},
   "outputs": [],
   "source": [
    "p_vals_student <- 2*(1-pt(abs(SCAR_for_each_c), df=estimation_window-2))"
   ]
  },
  {
   "cell_type": "code",
   "execution_count": null,
   "metadata": {},
   "outputs": [],
   "source": [
    "p_vals <- cbind(p_vals_asym, p_vals_student)"
   ]
  },
  {
   "cell_type": "code",
   "execution_count": null,
   "metadata": {},
   "outputs": [],
   "source": [
    "colnames(p_vals) <- c(\"Asymptotic SCARs p-val\", \"Student-t SCARs p-val\")"
   ]
  },
  {
   "cell_type": "code",
   "execution_count": null,
   "metadata": {},
   "outputs": [],
   "source": [
    "p_vals"
   ]
  },
  {
   "cell_type": "code",
   "execution_count": null,
   "metadata": {},
   "outputs": [],
   "source": [
    "abnorm_returns[,1] <- round(as.numeric(abnorm_returns),5)"
   ]
  },
  {
   "cell_type": "code",
   "execution_count": null,
   "metadata": {},
   "outputs": [],
   "source": [
    "colnames(abnorm_returns) <- c(\"Abnormal Returns\")"
   ]
  },
  {
   "cell_type": "code",
   "execution_count": null,
   "metadata": {},
   "outputs": [],
   "source": [
    "colnames(CARs_for_each_c) <- c(\"CARs for each c\")"
   ]
  },
  {
   "cell_type": "code",
   "execution_count": null,
   "metadata": {},
   "outputs": [],
   "source": [
    "p_vals <- round(p_vals, 3)"
   ]
  },
  {
   "cell_type": "code",
   "execution_count": null,
   "metadata": {},
   "outputs": [],
   "source": [
    "results <- list(summary(vow_model), abnorm_returns, CARs_for_each_c, p_vals)"
   ]
  },
  {
   "cell_type": "code",
   "execution_count": null,
   "metadata": {},
   "outputs": [],
   "source": [
    "results"
   ]
  },
  {
   "cell_type": "code",
   "execution_count": null,
   "metadata": {},
   "outputs": [],
   "source": [
    "plot(vow[(startpoint-event_window/2):(startpoint+event_window/2-1)], \n",
    "     main = 'Plot of returns and abnormal returns', \n",
    "     ylim = c(-50, 10), \n",
    "     col = 'black')\n",
    "\n",
    "lines(cumsum(abnorm_returns), \n",
    "      col = 'red', \n",
    "      lwd = 3)\n",
    "\n",
    "legend('bottomleft',\n",
    "       legend = c('Returns', 'Cumulative Abnormal Returns'), \n",
    "       col = c('black', 'red'), \n",
    "       lty=1, \n",
    "       lwd = 1)"
   ]
  }
 ],
 "metadata": {
  "kernelspec": {
   "display_name": "R",
   "language": "R",
   "name": "ir"
  },
  "language_info": {
   "codemirror_mode": "r",
   "file_extension": ".r",
   "mimetype": "text/x-r-source",
   "name": "R",
   "pygments_lexer": "r",
   "version": "3.6.1"
  },
  "toc": {
   "base_numbering": 1,
   "nav_menu": {},
   "number_sections": true,
   "sideBar": true,
   "skip_h1_title": false,
   "title_cell": "Table of Contents",
   "title_sidebar": "Contents",
   "toc_cell": false,
   "toc_position": {},
   "toc_section_display": true,
   "toc_window_display": false
  },
  "varInspector": {
   "cols": {
    "lenName": 16,
    "lenType": 16,
    "lenVar": 40
   },
   "kernels_config": {
    "python": {
     "delete_cmd_postfix": "",
     "delete_cmd_prefix": "del ",
     "library": "var_list.py",
     "varRefreshCmd": "print(var_dic_list())"
    },
    "r": {
     "delete_cmd_postfix": ") ",
     "delete_cmd_prefix": "rm(",
     "library": "var_list.r",
     "varRefreshCmd": "cat(var_dic_list()) "
    }
   },
   "types_to_exclude": [
    "module",
    "function",
    "builtin_function_or_method",
    "instance",
    "_Feature"
   ],
   "window_display": false
  }
 },
 "nbformat": 4,
 "nbformat_minor": 2
}
