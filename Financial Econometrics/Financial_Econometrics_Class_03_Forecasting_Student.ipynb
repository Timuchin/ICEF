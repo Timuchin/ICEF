{
 "cells": [
  {
   "cell_type": "markdown",
   "metadata": {},
   "source": [
    "# International College of Economics and Finance "
   ]
  },
  {
   "cell_type": "markdown",
   "metadata": {},
   "source": [
    "# Financial Econometrics. Class 03"
   ]
  },
  {
   "cell_type": "markdown",
   "metadata": {},
   "source": [
    "# Forecasting"
   ]
  },
  {
   "cell_type": "markdown",
   "metadata": {},
   "source": [
    "- Inspired by [Forecasting: Principles and Practice](https://otexts.com/fpp2/)"
   ]
  },
  {
   "cell_type": "markdown",
   "metadata": {},
   "source": [
    "## Class outline\n",
    "- Let's find the best in terms of prediction ability model for Bitcoin"
   ]
  },
  {
   "cell_type": "code",
   "execution_count": null,
   "metadata": {
    "ExecuteTime": {
     "end_time": "2020-10-02T21:02:41.578207Z",
     "start_time": "2020-10-02T21:02:41.525Z"
    }
   },
   "outputs": [],
   "source": [
    "# Libraries\n",
    "# For those who has a problem like: package ‘package_name’ is not available (for R version x.x.x)\n",
    "# install.packages('package_name', dependencies=TRUE, repos='http://cran.rstudio.com/')\n",
    "\n",
    "library(quantmod)\n",
    "library(moments)\n",
    "library(forecast) #I highly recommend to visit the link above. It explains basics of forecasting and time-series modeling in R\n",
    "\n",
    "# For those who have operational system in Russian but wants it in English\n",
    "Sys.setlocale(\"LC_TIME\", \"C\")\n",
    "format(Sys.Date(), format = \"%Y-%b-%d\")"
   ]
  },
  {
   "cell_type": "markdown",
   "metadata": {},
   "source": [
    "## Download Data"
   ]
  },
  {
   "cell_type": "code",
   "execution_count": null,
   "metadata": {
    "ExecuteTime": {
     "end_time": "2020-10-02T16:38:07.204071Z",
     "start_time": "2020-10-02T16:38:05.177Z"
    }
   },
   "outputs": [],
   "source": [
    "sp <- getSymbols(\"^GSPC\", scr = \"yahoo\", auto.assign = FALSE)"
   ]
  },
  {
   "cell_type": "code",
   "execution_count": null,
   "metadata": {
    "ExecuteTime": {
     "end_time": "2020-10-02T17:13:47.370511Z",
     "start_time": "2020-10-02T17:13:47.345Z"
    }
   },
   "outputs": [],
   "source": [
    "# choose adjusted prices\n"
   ]
  },
  {
   "cell_type": "code",
   "execution_count": null,
   "metadata": {},
   "outputs": [],
   "source": [
    "# make log returns\n"
   ]
  },
  {
   "cell_type": "markdown",
   "metadata": {},
   "source": [
    "## Plots and Descriptive Statistics"
   ]
  },
  {
   "cell_type": "code",
   "execution_count": null,
   "metadata": {
    "ExecuteTime": {
     "end_time": "2020-10-02T17:13:48.302499Z",
     "start_time": "2020-10-02T17:13:48.032Z"
    }
   },
   "outputs": [],
   "source": [
    "# Plot your returns\n"
   ]
  },
  {
   "cell_type": "code",
   "execution_count": null,
   "metadata": {
    "ExecuteTime": {
     "end_time": "2020-10-02T17:13:48.915491Z",
     "start_time": "2020-10-02T17:13:48.717Z"
    }
   },
   "outputs": [],
   "source": [
    "# Let's see summary of the returns\n"
   ]
  },
  {
   "cell_type": "code",
   "execution_count": null,
   "metadata": {
    "ExecuteTime": {
     "end_time": "2020-10-02T17:13:49.617483Z",
     "start_time": "2020-10-02T17:13:48.947Z"
    }
   },
   "outputs": [],
   "source": [
    "#let's plot the histogram of returns and normal distribution\n"
   ]
  },
  {
   "cell_type": "code",
   "execution_count": null,
   "metadata": {
    "ExecuteTime": {
     "end_time": "2020-10-02T21:02:49.312775Z",
     "start_time": "2020-10-02T21:02:49.283Z"
    }
   },
   "outputs": [],
   "source": [
    "# What aboit skewness and kurtosis\n"
   ]
  },
  {
   "cell_type": "code",
   "execution_count": null,
   "metadata": {
    "ExecuteTime": {
     "end_time": "2020-10-02T17:13:51.667467Z",
     "start_time": "2020-10-02T17:13:51.580Z"
    }
   },
   "outputs": [],
   "source": [
    "# let's plot autocorrelations\n"
   ]
  },
  {
   "cell_type": "markdown",
   "metadata": {},
   "source": [
    "## Tests for normality and unit root"
   ]
  },
  {
   "cell_type": "code",
   "execution_count": null,
   "metadata": {
    "ExecuteTime": {
     "end_time": "2020-10-02T21:03:28.740906Z",
     "start_time": "2020-10-02T21:03:28.717Z"
    }
   },
   "outputs": [],
   "source": [
    "# test if returns are normally distributed\n"
   ]
  },
  {
   "cell_type": "code",
   "execution_count": null,
   "metadata": {
    "ExecuteTime": {
     "end_time": "2020-10-02T17:13:53.928441Z",
     "start_time": "2020-10-02T17:13:53.829Z"
    }
   },
   "outputs": [],
   "source": [
    "# what about unit roots\n"
   ]
  },
  {
   "cell_type": "markdown",
   "metadata": {},
   "source": [
    "## Models and forecasts"
   ]
  },
  {
   "cell_type": "markdown",
   "metadata": {},
   "source": [
    "- During the lecture you discussed in-sample fit and out-of-sample fit\n",
    "- You have seen in-sample fit many many times during your previous econometrics courses\n",
    "- Let's talk about out-of-sample forecasting\n",
    "- The most simple model is mean. We will use it for the beginning"
   ]
  },
  {
   "cell_type": "code",
   "execution_count": null,
   "metadata": {
    "ExecuteTime": {
     "end_time": "2020-10-02T17:49:51.184621Z",
     "start_time": "2020-10-02T17:49:51.155Z"
    }
   },
   "outputs": [],
   "source": [
    "# For those of you who suddenly forgot what is in-sample fit\n",
    "summary(lm(sp.ret ~ 1))"
   ]
  },
  {
   "cell_type": "markdown",
   "metadata": {},
   "source": [
    "- Let's look closely at rolling window scheme\n",
    "- For any window we should start with window size or sample size\n",
    "- Basically, you are fixing the initial data which will be used to fit your model for the first time"
   ]
  },
  {
   "cell_type": "code",
   "execution_count": null,
   "metadata": {
    "ExecuteTime": {
     "end_time": "2020-10-02T17:13:56.170421Z",
     "start_time": "2020-10-02T17:13:56.142Z"
    }
   },
   "outputs": [],
   "source": [
    "N <- length(sp.ret) # let's have a variable with the size\\length of our data\n",
    "# Now we can explicitly say what our window size is\n",
    "window_size <- 250\n",
    "# Or we can say long should our prediction be\n",
    "N_OOS <- round(x = 0.3 * N, digits = 0) # Usually, 25%-30% of data are used for the prediction period\n",
    "N_sample <- N - N_OOS"
   ]
  },
  {
   "cell_type": "markdown",
   "metadata": {},
   "source": [
    "- The idea behind 250 observations is that it is usually a year of trading (252 working days in most cases)\n",
    "- On the other hand you might want to use more data to fit your model. For example, for GARCH models I would definitely recommend more than 250 observations\n",
    "- Anyway, I am more used to the approach with setting the size of prediction vector, not the estimation window"
   ]
  },
  {
   "cell_type": "code",
   "execution_count": null,
   "metadata": {
    "ExecuteTime": {
     "end_time": "2020-10-02T17:20:10.347875Z",
     "start_time": "2020-10-02T17:20:10.243Z"
    }
   },
   "outputs": [],
   "source": [
    "y_train <- # initialize vector with length of N_sample\n",
    "y_pred <- # initialize vector with length of N_OOS\n",
    "y_true <- # get your actual returns\n",
    "\n",
    "for (i in 1:N_OOS){\n",
    "    y_train <- #put in your training data\n",
    "    y_pred[i] <- #make a prediction from your model\n",
    "}\n",
    "\n",
    "y_pred <- as.xts(x = y_pred, order.by = index(y_true)) #change the type of variable to xts (time-series)"
   ]
  },
  {
   "cell_type": "code",
   "execution_count": null,
   "metadata": {
    "ExecuteTime": {
     "end_time": "2020-10-02T17:26:36.188562Z",
     "start_time": "2020-10-02T17:26:36.077Z"
    }
   },
   "outputs": [],
   "source": [
    "# plot actual returns and your forecasts\n"
   ]
  },
  {
   "cell_type": "markdown",
   "metadata": {},
   "source": [
    "- Wow, that is pretty bad model predictions\n",
    "- Let's try to quantify how bad they are\n",
    "- In the lecture this metric is called `MSPE`. I will use more popular notation: `MSE` "
   ]
  },
  {
   "cell_type": "code",
   "execution_count": null,
   "metadata": {
    "ExecuteTime": {
     "end_time": "2020-10-02T17:33:22.690016Z",
     "start_time": "2020-10-02T17:33:22.668Z"
    }
   },
   "outputs": [],
   "source": [
    "mse <- # calculate mean squared prediction error"
   ]
  },
  {
   "cell_type": "markdown",
   "metadata": {},
   "source": [
    "- Ok, what's next?\n",
    "- Well, this model is definitely bad in terms of ... anything\n",
    "- We need some alternative model\n",
    "- First model that comes to my mind is AR(1) model\n",
    "- Let's do it"
   ]
  },
  {
   "cell_type": "code",
   "execution_count": null,
   "metadata": {
    "ExecuteTime": {
     "end_time": "2020-10-02T17:57:04.258759Z",
     "start_time": "2020-10-02T17:57:01.972Z"
    },
    "scrolled": true
   },
   "outputs": [],
   "source": [
    "y_pred_ar <- # initialize vector with length of N_OOS\n",
    "\n",
    "for (i in 1:N_OOS){\n",
    "    y_train <- #put in your training data\n",
    "    ar <- #fit a model\n",
    "    y_pred_ar[i] <- #make a prediction\n",
    "}\n",
    "\n",
    "y_pred_ar <- as.xts(x = y_pred_ar, order.by = index(y_true)) #change the type of variable to xts (time-series)"
   ]
  },
  {
   "cell_type": "code",
   "execution_count": null,
   "metadata": {
    "ExecuteTime": {
     "end_time": "2020-10-02T18:01:10.365835Z",
     "start_time": "2020-10-02T18:01:10.184Z"
    }
   },
   "outputs": [],
   "source": [
    "# plot actual returns and your forecasts"
   ]
  },
  {
   "cell_type": "code",
   "execution_count": null,
   "metadata": {
    "ExecuteTime": {
     "end_time": "2020-10-02T18:01:31.885688Z",
     "start_time": "2020-10-02T18:01:31.854Z"
    }
   },
   "outputs": [],
   "source": [
    "mse_ar <- # calculate mean squared prediction error"
   ]
  },
  {
   "cell_type": "code",
   "execution_count": null,
   "metadata": {
    "ExecuteTime": {
     "end_time": "2020-10-02T18:01:36.572639Z",
     "start_time": "2020-10-02T18:01:36.544Z"
    }
   },
   "outputs": [],
   "source": [
    "mse; mse_ar"
   ]
  },
  {
   "cell_type": "markdown",
   "metadata": {},
   "source": [
    "- Well, we see that ... **what model is better?**\n",
    "- But we want to see if its forecasts are statistically better than those of mean model"
   ]
  },
  {
   "cell_type": "markdown",
   "metadata": {},
   "source": [
    "## DM test"
   ]
  },
  {
   "cell_type": "markdown",
   "metadata": {},
   "source": [
    "- So, I hope that you remember the procedure\n",
    "    - Make two sequence of predictions $\\hat{y_1} \\text{ and } \\hat{y_2}$\n",
    "    - Calculate the loss function (in our case it is a squared loss): $L(e_1) = (y - \\hat{y_1})^2; L(e_2) = (y - \\hat{y_2})^2$\n",
    "    - Calculate the difference between them: $d = L(e_1) - L(e_2)$\n",
    "    - If forecasts are the same: $H_0: E(d) = 0$\n",
    "    - If not: $H_1: E(d) \\ne 0$\n",
    "    - Calculate good old t-stat: $t = \\frac{\\frac{1}{T}\\sum_1^T d}{\\sqrt{\\hat{\\sigma_d}/T}}=DM$\n",
    "    - For estimation of $\\hat{\\sigma_d}$ use HAC estimator"
   ]
  },
  {
   "cell_type": "code",
   "execution_count": null,
   "metadata": {
    "ExecuteTime": {
     "end_time": "2020-10-02T18:20:30.672511Z",
     "start_time": "2020-10-02T18:20:30.641Z"
    }
   },
   "outputs": [],
   "source": [
    "# Let's go\n",
    "L.mean_model <- # calculate the squared forecasting errors\n",
    "L.ar <- # calculate the squared forecasting errors\n",
    "\n",
    "d <- # calculate the difference\n",
    "\n",
    "d.mean <- #calculate the mean of difference"
   ]
  },
  {
   "cell_type": "markdown",
   "metadata": {},
   "source": [
    "- As for calculation of HAC estimator I will use (Newey-West, 1987)\n",
    "- Also, check this [chapter](https://www.econometrics-with-r.org/15-4-hac-standard-errors.html)\n",
    "- (Newey-West, 1987) HAC estimator\n",
    "    - So, if our $d$ is actually not serially correlated, then: $V(\\bar{d}) = V(\\frac{1}{T}\\sum_{t=1}^{T}d_t) = \\frac{1}{T^2}\\sum_{t=1}^{T}V(d_t) = \\frac{1}{T}V(d_t)$. In other words it is just an unbiased variance estimator: $\\hat{V}(d_t) = \\frac{1}{T-1}\\sum_{t=1}^{T}(d_t - \\bar{d})^2$\n",
    "    - Of course, we cannot say that. Hence: $V(\\bar{d}) = V(\\frac{1}{T}\\sum_{t=1}^{T}d_t) = \\frac{1}{T^2}\\sum_{t=1}^{T}V(d_t) + \\frac{2}{T^2}\\sum_{t=1}^{T-1} \\sum_{k=t+1}^{T}cov(d_t, d_k) \\stackrel{why?}= \\frac{1}{T^2}\\sum_{t=1}^{T}V(d_t) + \\frac{2}{T^2}\\sum_{j=1}^{T-1} (T - j) cov(d_t, d_{t+j})$\n",
    "    - It is also a good practice to truncate the sum of autocovariances. In most cases it is suggested to use $m = T^{\\frac{1}{3}}$\n",
    "    - Hence, Newey-West estimator is: $\\frac{1}{T}\\hat{V(d_t)} + \\frac{2}{T}\\sum_{j=1}^{m} (1 - \\frac{j}{m+1}) \\hat{cov}(d_t, d_{t+j})$\n",
    "    - But we have some aces. This one (Diebold, F.X. and Mariano, R.S. (1995)). Authors say that the truncation lag should be $(h-1)$, where $h$ - h-step-ahead forecast. In our case, $h = 1$, meaning, that in 1-step-ahead forecast we can say that Newey-West estimator is $\\frac{1}{T}\\hat{V}(d_t) = \\frac{1}{T} \\cdot \\frac{1}{T-1}\\sum_{t=1}^{T}(d_t - \\bar{d})$\n",
    "    - Meaning that we need to use unbiased variance estimator divided by the number of observations"
   ]
  },
  {
   "cell_type": "code",
   "execution_count": null,
   "metadata": {
    "ExecuteTime": {
     "end_time": "2020-10-02T19:46:45.491251Z",
     "start_time": "2020-10-02T19:46:45.471Z"
    }
   },
   "outputs": [],
   "source": [
    "d.var <- #calculate the unbiased estimator of variance of difference series"
   ]
  },
  {
   "cell_type": "code",
   "execution_count": null,
   "metadata": {
    "ExecuteTime": {
     "end_time": "2020-10-02T19:47:14.480259Z",
     "start_time": "2020-10-02T19:47:14.458Z"
    }
   },
   "outputs": [],
   "source": [
    "dm <- # calculate DM statistics"
   ]
  },
  {
   "cell_type": "code",
   "execution_count": null,
   "metadata": {
    "ExecuteTime": {
     "end_time": "2020-10-02T19:47:24.883758Z",
     "start_time": "2020-10-02T19:47:24.860Z"
    }
   },
   "outputs": [],
   "source": [
    "# let's look at it\n"
   ]
  },
  {
   "cell_type": "code",
   "execution_count": null,
   "metadata": {
    "ExecuteTime": {
     "end_time": "2020-10-02T20:03:07.563080Z",
     "start_time": "2020-10-02T20:03:07.540Z"
    }
   },
   "outputs": [],
   "source": [
    "# calculate p-value of the test assuming, that DM follows standard normal distribution\n",
    "# in R you use pnorm() function in order to get cdf\n",
    "# see more here http://seankross.com/notes/dpqr/\n"
   ]
  },
  {
   "cell_type": "markdown",
   "metadata": {},
   "source": [
    "- Harvey, Leybourne, and Newbold (1997) (HLN) suggest that improved small-sample properties can be obtained by:\n",
    "    - making a bias correction to the DM test statistic, and\n",
    "    - comparing the corrected statistic with a Student-t distribution with (T-1) degrees of freedom, rather than the standard normal.\n",
    "- The corrected statistic is obtained as:  \n",
    "$$\\sqrt{\\frac{T + 1 - 2h + h(h-1)}{T}}\\cdot DM = k \\cdot DM \\sim t_{T-1}$$"
   ]
  },
  {
   "cell_type": "code",
   "execution_count": null,
   "metadata": {
    "ExecuteTime": {
     "end_time": "2020-10-02T20:00:55.994756Z",
     "start_time": "2020-10-02T20:00:55.970Z"
    }
   },
   "outputs": [],
   "source": [
    "T <- # put in the length of difference series\n",
    "h <- # how many steps ahead forecast are we doing\n",
    "k <- # write formula for k"
   ]
  },
  {
   "cell_type": "code",
   "execution_count": null,
   "metadata": {
    "ExecuteTime": {
     "end_time": "2020-10-02T20:01:07.023662Z",
     "start_time": "2020-10-02T20:01:07.006Z"
    }
   },
   "outputs": [],
   "source": [
    "hln <- # calculate corrected statistics"
   ]
  },
  {
   "cell_type": "code",
   "execution_count": null,
   "metadata": {
    "ExecuteTime": {
     "end_time": "2020-10-02T20:03:36.906436Z",
     "start_time": "2020-10-02T20:03:36.884Z"
    }
   },
   "outputs": [],
   "source": [
    "# calculate p-value for the test\n",
    "# for Student's t distribution cdf use pt() function"
   ]
  },
  {
   "cell_type": "code",
   "execution_count": null,
   "metadata": {
    "ExecuteTime": {
     "end_time": "2020-10-02T20:04:28.484667Z",
     "start_time": "2020-10-02T20:04:28.459Z"
    }
   },
   "outputs": [],
   "source": [
    "#checking ourselves\n",
    "dm.test(e1 = L.mean_model, e2 = L.ar, power = 1) #We have already squared our errors, that's why power = 1"
   ]
  },
  {
   "cell_type": "code",
   "execution_count": null,
   "metadata": {
    "ExecuteTime": {
     "end_time": "2020-10-02T20:09:15.031659Z",
     "start_time": "2020-10-02T20:09:15.000Z"
    }
   },
   "outputs": [],
   "source": [
    "# A small difference is only because we used unbiased estimator of variance, while in the function a biased one is used\n",
    "biased_var <- function(x){\n",
    "    m <- mean(x)\n",
    "    result <- sum((x - m)^2)/length(x)\n",
    "    result\n",
    "}\n",
    "\n",
    "d.mean/sqrt(biased_var(d)/n)*k; 2*pt(q = -abs(d.mean/sqrt(biased_var(d)/n)*k), df = T - 1)"
   ]
  }
 ],
 "metadata": {
  "kernelspec": {
   "display_name": "R",
   "language": "R",
   "name": "ir"
  },
  "language_info": {
   "codemirror_mode": "r",
   "file_extension": ".r",
   "mimetype": "text/x-r-source",
   "name": "R",
   "pygments_lexer": "r",
   "version": "3.6.1"
  },
  "toc": {
   "base_numbering": 1,
   "nav_menu": {},
   "number_sections": true,
   "sideBar": true,
   "skip_h1_title": true,
   "title_cell": "Table of Contents",
   "title_sidebar": "Contents",
   "toc_cell": false,
   "toc_position": {},
   "toc_section_display": true,
   "toc_window_display": false
  },
  "varInspector": {
   "cols": {
    "lenName": 16,
    "lenType": 16,
    "lenVar": 40
   },
   "kernels_config": {
    "python": {
     "delete_cmd_postfix": "",
     "delete_cmd_prefix": "del ",
     "library": "var_list.py",
     "varRefreshCmd": "print(var_dic_list())"
    },
    "r": {
     "delete_cmd_postfix": ") ",
     "delete_cmd_prefix": "rm(",
     "library": "var_list.r",
     "varRefreshCmd": "cat(var_dic_list()) "
    }
   },
   "types_to_exclude": [
    "module",
    "function",
    "builtin_function_or_method",
    "instance",
    "_Feature"
   ],
   "window_display": false
  }
 },
 "nbformat": 4,
 "nbformat_minor": 2
}
