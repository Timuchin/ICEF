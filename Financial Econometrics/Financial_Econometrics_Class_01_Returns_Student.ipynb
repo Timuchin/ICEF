{
 "cells": [
  {
   "cell_type": "markdown",
   "metadata": {},
   "source": [
    "# International College of Economics and Finance"
   ]
  },
  {
   "cell_type": "markdown",
   "metadata": {},
   "source": [
    "## Financial Econometrics 2020 - 2021"
   ]
  },
  {
   "cell_type": "markdown",
   "metadata": {},
   "source": [
    "## Lectures\n",
    "- Sofya Budanova\n",
    "- PhD, Economics, Northwestern University\n",
    "- E-mail: sbudanova@hse.ru"
   ]
  },
  {
   "cell_type": "markdown",
   "metadata": {},
   "source": [
    "## Classes\n",
    "- Timur Zekokh\n",
    "- E-mail: timurzekokh@gmail.com"
   ]
  },
  {
   "cell_type": "markdown",
   "metadata": {},
   "source": [
    "## Teaching Objectives\n",
    "- Event-study methodology in applied research\n",
    "- Forecasting  financial  data  using  high-level  econometric  techniques  and  measuring  their effectiveness\n",
    "- Testing the standard asset pricing models"
   ]
  },
  {
   "cell_type": "markdown",
   "metadata": {},
   "source": [
    "## Grading\n",
    "The  course  grade  consists  of  the  grades  for  the  home  assignments,  class  participation,  group \n",
    "presentation and report, and the final exam.\n",
    "The formula of the final grade of the course:\n",
    "$$G = 0.15 \\cdot G_{HA} + 0.05 \\cdot G_{part} + 0.2 \\cdot G_{present} + 0.6 \\cdot G_{final}$$,\n",
    "where $G_{HA}$ is the  average  grade  for  the  home  assignments, $G_{part}$ is the  grade  for  the  class \n",
    "participation, $G_{present}$ is the grade for the  group presentation and report and $G_{final}$ is the grade \n",
    "for the final exam."
   ]
  },
  {
   "cell_type": "markdown",
   "metadata": {},
   "source": [
    "## Literature\n",
    "1. John Campbell, Andrew Lo, Archie MacKinlay (1997). The Econometrics of Financial  Markets, Princeton University Press. (**CLM**)\n",
    "2. Ruey S. Tsay (2010). Analysis of Financial Time Series. (**RT**)\n",
    "3. John H. Cochrane (2009). Asset Pricing, Revised Edition, Princeton University Press. (**JC**)"
   ]
  },
  {
   "cell_type": "markdown",
   "metadata": {},
   "source": [
    "## Course outline\n",
    "1. Stylized facts of financial returns and sources of financial data\n",
    "2. Event studies\n",
    "3. Tests of return predictability\n",
    "4. Markov switching model\n",
    "5. Kalman filter\n",
    "6. Volatility modeling\n",
    "7. Cross-sectional asset pricing\n",
    "8. Forecasting in big data environment"
   ]
  },
  {
   "cell_type": "markdown",
   "metadata": {},
   "source": [
    "## Class 1. Stylized facts of financial returns and sources of financial data "
   ]
  },
  {
   "cell_type": "code",
   "execution_count": 13,
   "metadata": {
    "ExecuteTime": {
     "end_time": "2020-09-19T12:11:13.071711Z",
     "start_time": "2020-09-19T12:11:13.053Z"
    }
   },
   "outputs": [],
   "source": [
    "# Examples of installing packages\n",
    "# install.packages(\"rusquant\", repos=\"http://R-Forge.R-project.org\")\n",
    "# install.packages('tseries')\n",
    "# install.packages('moments')"
   ]
  },
  {
   "cell_type": "code",
   "execution_count": 2,
   "metadata": {
    "ExecuteTime": {
     "end_time": "2020-09-19T10:10:44.585006Z",
     "start_time": "2020-09-19T10:10:44.556Z"
    }
   },
   "outputs": [],
   "source": [
    "# For those who has non english OS\n",
    "# Read ?Locales for more.\n",
    "# Sys.setlocale(\"LC_TIME\", \"C\")"
   ]
  },
  {
   "cell_type": "code",
   "execution_count": 4,
   "metadata": {
    "ExecuteTime": {
     "end_time": "2020-09-19T10:16:47.762282Z",
     "start_time": "2020-09-19T10:16:45.204Z"
    }
   },
   "outputs": [
    {
     "name": "stderr",
     "output_type": "stream",
     "text": [
      "Warning message:\n",
      "\"package 'quantmod' was built under R version 3.6.3\"Loading required package: xts\n",
      "Warning message:\n",
      "\"package 'xts' was built under R version 3.6.2\"Loading required package: zoo\n",
      "Warning message:\n",
      "\"package 'zoo' was built under R version 3.6.2\"\n",
      "Attaching package: 'zoo'\n",
      "\n",
      "The following objects are masked from 'package:base':\n",
      "\n",
      "    as.Date, as.Date.numeric\n",
      "\n",
      "Loading required package: TTR\n",
      "Warning message:\n",
      "\"package 'TTR' was built under R version 3.6.2\"Version 0.4-0 included new data defaults. See ?getSymbols.\n",
      "Loading required package: lubridate\n",
      "\n",
      "Attaching package: 'lubridate'\n",
      "\n",
      "The following object is masked from 'package:base':\n",
      "\n",
      "    date\n",
      "\n",
      "Loading required package: data.table\n",
      "Warning message:\n",
      "\"package 'data.table' was built under R version 3.6.2\"\n",
      "Attaching package: 'data.table'\n",
      "\n",
      "The following objects are masked from 'package:lubridate':\n",
      "\n",
      "    hour, isoweek, mday, minute, month, quarter, second, wday, week,\n",
      "    yday, year\n",
      "\n",
      "The following objects are masked from 'package:xts':\n",
      "\n",
      "    first, last\n",
      "\n",
      "Loading required package: curl\n",
      "Warning message:\n",
      "\"package 'curl' was built under R version 3.6.2\"Warning message:\n",
      "\"replacing previous import 'lubridate::hour' by 'data.table::hour' when loading 'rusquant'\"Warning message:\n",
      "\"replacing previous import 'lubridate::wday' by 'data.table::wday' when loading 'rusquant'\"Warning message:\n",
      "\"replacing previous import 'lubridate::year' by 'data.table::year' when loading 'rusquant'\"Warning message:\n",
      "\"replacing previous import 'lubridate::second' by 'data.table::second' when loading 'rusquant'\"Warning message:\n",
      "\"replacing previous import 'lubridate::month' by 'data.table::month' when loading 'rusquant'\"Warning message:\n",
      "\"replacing previous import 'lubridate::week' by 'data.table::week' when loading 'rusquant'\"Warning message:\n",
      "\"replacing previous import 'lubridate::isoweek' by 'data.table::isoweek' when loading 'rusquant'\"Warning message:\n",
      "\"replacing previous import 'lubridate::yday' by 'data.table::yday' when loading 'rusquant'\"Warning message:\n",
      "\"replacing previous import 'lubridate::minute' by 'data.table::minute' when loading 'rusquant'\"Warning message:\n",
      "\"replacing previous import 'lubridate::mday' by 'data.table::mday' when loading 'rusquant'\"Warning message:\n",
      "\"replacing previous import 'lubridate::quarter' by 'data.table::quarter' when loading 'rusquant'\"Warning message:\n",
      "\"package 'ggplot2' was built under R version 3.6.3\"Warning message:\n",
      "\"package 'repr' was built under R version 3.6.2\""
     ]
    }
   ],
   "source": [
    "# Let's use some libraries\n",
    "library(quantmod)\n",
    "library(rusquant) \n",
    "library(tseries) \n",
    "library(moments)\n",
    "library(ggplot2)\n",
    "library(repr)"
   ]
  },
  {
   "cell_type": "markdown",
   "metadata": {},
   "source": [
    "### Everything starts with a price\n",
    "Let's download prices of some companies"
   ]
  },
  {
   "cell_type": "code",
   "execution_count": 17,
   "metadata": {
    "ExecuteTime": {
     "end_time": "2020-09-19T12:23:39.646641Z",
     "start_time": "2020-09-19T12:23:38.564Z"
    },
    "scrolled": true
   },
   "outputs": [
    {
     "name": "stderr",
     "output_type": "stream",
     "text": [
      "Warning message:\n",
      "\"'indexClass<-' is deprecated.\n",
      "Use 'tclass<-' instead.\n",
      "See help(\"Deprecated\") and help(\"xts-deprecated\").\""
     ]
    }
   ],
   "source": [
    "# Let's choose two companies: one russian and one other\n",
    "# in order to get tickets go to https://finance.yahoo.com/\n",
    "\n",
    "other_company <- quantmod::getSymbols(\"AAPL\", scr = \"yahoo\", auto.assign = FALSE)\n",
    "russian_company <- getSymbols(\"AFLT\", src = \"Finam\", auto.assign = FALSE)"
   ]
  },
  {
   "cell_type": "code",
   "execution_count": 19,
   "metadata": {
    "ExecuteTime": {
     "end_time": "2020-09-19T12:23:44.775604Z",
     "start_time": "2020-09-19T12:23:44.754Z"
    }
   },
   "outputs": [
    {
     "data": {
      "text/plain": [
       "           AFLT.Open AFLT.High AFLT.Low AFLT.Close AFLT.Volume\n",
       "2007-01-09     57.50     59.90    56.52      59.75      764162\n",
       "2007-01-10     59.95     59.98    58.71      59.85      632956\n",
       "2007-01-11     59.51     60.50    58.40      59.07      243254\n",
       "2007-01-12     58.80     60.40    58.00      60.39      216114\n",
       "2007-01-15     60.42     62.00    60.00      61.80      428062\n",
       "2007-01-16     61.75     69.00    60.33      66.50     2948453"
      ]
     },
     "metadata": {},
     "output_type": "display_data"
    }
   ],
   "source": [
    "# Let's look into what we downloaded\n",
    "# R has function head() \n",
    "# try to use it\n",
    "\n",
    "head(russian_company)\n"
   ]
  },
  {
   "cell_type": "code",
   "execution_count": 20,
   "metadata": {
    "ExecuteTime": {
     "end_time": "2020-09-19T12:24:28.769465Z",
     "start_time": "2020-09-19T12:24:28.748Z"
    }
   },
   "outputs": [
    {
     "data": {
      "text/plain": [
       "           AAPL.Open AAPL.High AAPL.Low AAPL.Close AAPL.Volume AAPL.Adjusted\n",
       "2007-01-03  3.081786  3.092143 2.925000   2.992857  1238319600      2.586245\n",
       "2007-01-04  3.001786  3.069643 2.993572   3.059286   847260400      2.643649\n",
       "2007-01-05  3.063214  3.078571 3.014286   3.037500   834741600      2.624823\n",
       "2007-01-08  3.070000  3.090357 3.045714   3.052500   797106800      2.637785\n",
       "2007-01-09  3.087500  3.320714 3.041071   3.306072  3349298400      2.856907\n",
       "2007-01-10  3.383929  3.492857 3.337500   3.464286  2952880000      2.993625"
      ]
     },
     "metadata": {},
     "output_type": "display_data"
    }
   ],
   "source": [
    "head(other_company)"
   ]
  },
  {
   "cell_type": "code",
   "execution_count": 21,
   "metadata": {
    "ExecuteTime": {
     "end_time": "2020-09-19T12:29:14.930795Z",
     "start_time": "2020-09-19T12:29:14.900Z"
    }
   },
   "outputs": [],
   "source": [
    "# In most cases we are interested in the last price of the trading day (or close price)\n",
    "# try to choose particular column of you data\n",
    "\n",
    "\n",
    "russian_company_price <- russian_company$AFLT.Close\n",
    "other_company_price <-  other_company$AAPL.Adjusted"
   ]
  },
  {
   "cell_type": "code",
   "execution_count": null,
   "metadata": {},
   "outputs": [],
   "source": [
    "options(repr.plot.width=15, repr.plot.height=8) #In order to make the plots smaller\n",
    "#par(mfrow = c(2, 1)) # Mostly for those who uses RStudio\n",
    "\n",
    "# Try to plot prices\n",
    "\n",
    "### Your code here ###"
   ]
  },
  {
   "cell_type": "code",
   "execution_count": null,
   "metadata": {},
   "outputs": [],
   "source": [
    "# R has built-in function acf()\n",
    "# Try to use it\n",
    "# What can you say?\n",
    "\n",
    "### Your code ###"
   ]
  },
  {
   "cell_type": "code",
   "execution_count": null,
   "metadata": {},
   "outputs": [],
   "source": [
    "# R has built-in function pacf()\n",
    "# Try to use it\n",
    "# What can you say?\n",
    "\n",
    "### Your code ###"
   ]
  },
  {
   "cell_type": "code",
   "execution_count": null,
   "metadata": {},
   "outputs": [],
   "source": [
    "# What is the most common test for unit root?\n",
    "# Do you think that R has it?\n",
    "# Try to find the name of the function \n",
    "\n",
    "# Hint: the package tseries has it\n",
    "# You can always read the manual on CRAN: https://cran.r-project.org/web/packages/tseries/tseries.pdf\n",
    "\n",
    "### Your code here ###\n",
    "\n",
    "# What can you say?"
   ]
  },
  {
   "cell_type": "markdown",
   "metadata": {},
   "source": [
    "Well, we can definitely say that prices are not stationary and they have autocorrelation.  \n",
    "**Is it bad?** (Please, answer this question in detail. If you have problems with it you better read literature suggested in the syllabus)"
   ]
  },
  {
   "cell_type": "markdown",
   "metadata": {},
   "source": [
    "### Prices are bad, returns are good (in most cases)\n",
    "Let's transform our prices into returns using one of the formulas"
   ]
  },
  {
   "cell_type": "markdown",
   "metadata": {},
   "source": [
    "- One-period simple gross return:\n",
    "$$1 + R_{t} = \\frac{P_{t}}{P_{t-1}}$$ or $$P_{t} = P_{t-1} \\cdot (1 + R_{t})$$\n",
    "- One-period net return:\n",
    "$$R_{t} = \\frac{P_{t}}{P_{t-1}} - 1 = \\frac{P_{t} - P_{t-1}}{P_{t-1}}$$\n",
    "- K-period return:\n",
    "$$1 + R_{t}^{k} = \\frac{P_{t}}{P_{t-k}} = \\frac{P_{t}}{P_{t-1}}\\cdot\\frac{P_{t-1}}{P_{t-2}}\\cdot...\\cdot\\frac{P_{t-k+1}}{P_{t-k}} = (1+R_{t})\\cdot(1+R_{t-1})\\cdot...\\cdot(1+R_{t-k+1}) = \\prod_{j = 0}^{k-1}(1 + R_{t-j})$$\n",
    "- Log returns:\n",
    "$$r_{t} = ln(1+R_{t}) = ln(\\frac{P_{t}}{P_{t-1}}) = p_{t} - p_{t-1}$$"
   ]
  },
  {
   "cell_type": "code",
   "execution_count": null,
   "metadata": {},
   "outputs": [],
   "source": [
    "# We will use log returns as they are... (please read lecture notes)\n",
    "russian_company_return <- diff(log(russian_company_price))[-1] * 100\n",
    "other_company_return <- diff(log(other_company_price))[-1] * 100"
   ]
  },
  {
   "cell_type": "code",
   "execution_count": null,
   "metadata": {},
   "outputs": [],
   "source": [
    "# Plot returns\n",
    "\n",
    "### Your code here ###"
   ]
  },
  {
   "cell_type": "code",
   "execution_count": null,
   "metadata": {},
   "outputs": [],
   "source": [
    "# Use acf() on returns\n",
    "# What can you say?"
   ]
  },
  {
   "cell_type": "code",
   "execution_count": null,
   "metadata": {},
   "outputs": [],
   "source": [
    "# Use pacf() on returns\n",
    "# What can you say?"
   ]
  },
  {
   "cell_type": "code",
   "execution_count": null,
   "metadata": {},
   "outputs": [],
   "source": [
    "# Use unit root test on returns\n",
    "# What can you say?"
   ]
  },
  {
   "cell_type": "markdown",
   "metadata": {},
   "source": [
    "Well, returns are definitely better. They do not have autocorrelation and they are stationary.  \n",
    "What about other properties?"
   ]
  },
  {
   "cell_type": "markdown",
   "metadata": {},
   "source": [
    "**Are returns normal?**"
   ]
  },
  {
   "cell_type": "code",
   "execution_count": null,
   "metadata": {},
   "outputs": [],
   "source": [
    "skewness(russian_company_return) # should be equal to 0\n",
    "skewness(other_company_return) # should be equal to 0\n",
    "kurtosis(russian_company_return) # should be equal to 3\n",
    "kurtosis(other_company_return) # should be equal to 3"
   ]
  },
  {
   "cell_type": "code",
   "execution_count": null,
   "metadata": {},
   "outputs": [],
   "source": [
    "# Some pretty plots\n",
    "options(repr.plot.width=14, repr.plot.height=10)\n",
    "hist(Apple_return, freq = FALSE, breaks = 'FD', main = 'Histogram of Russian company returns', xlab = NULL)\n",
    "curve(dnorm(x, mean = mean(Apple_return), sd = sd(Apple_return)), col=\"blue\", lwd=2, add=TRUE)\n",
    "legend(\"topright\", legend = \"Normal Distribution\", col = \"blue\", lty=1:2, cex = 0.9)"
   ]
  },
  {
   "cell_type": "code",
   "execution_count": null,
   "metadata": {},
   "outputs": [],
   "source": [
    "options(repr.plot.width=13, repr.plot.height=10)\n",
    "hist(Aeroflot_return, freq = FALSE, breaks = 'FD', main = 'Histogram of Other company returns', xlab = NULL)\n",
    "curve(dnorm(x, mean = mean(Aeroflot_return), sd = sd(Aeroflot_return)), col=\"blue\", lwd=2, add=TRUE)\n",
    "legend(\"topright\", legend = \"Normal Distribution\", col = \"blue\", lty=1:2, cex = 0.9)"
   ]
  },
  {
   "cell_type": "markdown",
   "metadata": {},
   "source": [
    "*I hope you remember what Jarque-Bera test is.* \n",
    "*For those of you who does not:*\n",
    "$$JB = T\\cdot(\\frac{S^{2}}{6}+\\frac{(K-3)^{2}}{24})\\sim\\chi^{2}_{2}$$"
   ]
  },
  {
   "cell_type": "code",
   "execution_count": null,
   "metadata": {},
   "outputs": [],
   "source": [
    "# Try to find the implementation of this test in R\n",
    "# Hint: you can again look into tseries package\n",
    "\n",
    "### Your Code ###"
   ]
  },
  {
   "cell_type": "markdown",
   "metadata": {},
   "source": [
    "So, returns are definitely not normally distributed.  \n",
    "**Do all returns have such properities? Is it all we should know about it?**"
   ]
  },
  {
   "cell_type": "markdown",
   "metadata": {},
   "source": [
    "### Stylized facts of returns\n",
    "[Cont, 2001](http://rama.cont.perso.math.cnrs.fr/pdf/empirical.pdf)"
   ]
  },
  {
   "cell_type": "markdown",
   "metadata": {},
   "source": [
    "**In short:**\n",
    "- Absence of linear autocorrelation\n",
    "- Heavy tails: the (unconditional) distribution of returns seems to display a power-law with coefficients between 2 and 5\n",
    "- Gain/loss asymmetry: “going up with the stairs, down with the elevator”\n",
    "- Time-varying correlations\n",
    "- Volatility clustering:  high-volatility events tend to cluster in time\n",
    "- Leverage effect: most measures of volatility of an asset are negatively correlated with the returns of that asset  \n",
    "**Please read the paper for more stylized facts and their explanation in detail!**"
   ]
  },
  {
   "cell_type": "markdown",
   "metadata": {},
   "source": [
    "###  Financial data types:\n",
    "- Stocks: prices, dividends, returns, trade volumes\n",
    "- Bonds: prices, returns, yield, trade volume, rating, spread over benchmark\n",
    "- Commodities: prices, trade volume, settlement price and date, margin, derivatives\n",
    "- Equity indices: price/performance index, dividend yield, total return\n",
    "- Futures\n",
    "- Options: strike, settlement date, call/put, American/European/Asian, price, underlying asset, volume traded, IV\n",
    "- Reporting: revenue, profits, EBIT(DA), FCFF, FCFE, book value of equity, long-term debt etc.\n",
    "- Deal data: M&A, IPO, SPO\n",
    "- Economics data: Money supply, GDP, employment, inflation"
   ]
  },
  {
   "cell_type": "markdown",
   "metadata": {},
   "source": [
    "### Sources of financial data\n",
    "- Yahoo Finance, Google Finance, Finam\n",
    "- Moscow Exchange\n",
    "- Goskomstat, Eurostat, National Central Bank, National economic and financial ministries\n",
    "- OECD, World Bank"
   ]
  },
  {
   "cell_type": "markdown",
   "metadata": {},
   "source": [
    "### Sources of financial data (HSE)\n",
    "- [ThomsonReuters Eikon](https://fmlab.hse.ru/treikon)\n",
    "- [Bloomberg](https://finance.hse.ru/bloomberg_terminal)\n",
    "- [Datastream](https://infobase.thomsonreuters.com/infobase/login/?next=/infobase/)\n",
    "- [Compustat](https://finance.hse.ru/bloomberg_terminal)\n",
    "- [Capital IQ](https://finance.hse.ru/bloomberg_terminal)\n",
    "- [Zephyr](https://finance.hse.ru/bloomberg_terminal)\n",
    "- [Ruslana, Amadeus](https://finance.hse.ru/bloomberg_terminal)\n",
    "- Please, also visit [icef page](https://icef.hse.ru/databases/) about databases"
   ]
  },
  {
   "cell_type": "markdown",
   "metadata": {},
   "source": [
    "### Finance and econometrics courses\n",
    "- [Damodaran's course on valuation, corporate finance and investment](http://pages.stern.nyu.edu/~adamodar/)\n",
    "- [Almgren and Reider's time series analysis and statistical arbitrage (NYU math finance)](http://cims.nyu.edu/~almgren/timeseries/)\n",
    "- [Cochrane's empirical asset pricing course](http://faculty.chicagobooth.edu/john.cochrane/teaching/Empirical_Asset_Pricing/)  \n",
    "And his [book](http://ecsocman.hse.ru/data/018/648/1219/finbook.pdf)\n",
    "- [Harvey's global asset allocation and stock selection (Duke MBA finance course)](http://www.duke.edu/~charvey/Classes/ba453/syl453.htm)\n",
    "- [Lesniewski and Andersen's interest rate and credit models (math NYU course)](http://www.math.nyu.edu/~alberts/spring07/index.html)\n",
    "- [Hansen's book on econometrics](http://www.ssc.wisc.edu/~bhansen/econometrics/)\n",
    "- [Linton's empirical finance course](http://www.oliverlinton.me.uk/teaching/empirical-finance)\n",
    "- [Hastie, Tibshirani, Friedman's elements of statistical learning course](https://web.stanford.edu/~hastie/ElemStatLearn/)\n",
    "- [John Cochrane (asset pricing, macro finance)](http://faculty.chicagobooth.edu/john.cochrane/)\n",
    "- [William Schwert (financial econometrics and M&A)](http://schwert.simon.rochester.edu/)\n",
    "- [Lasse H. Pedersen (liquidity risk and financial crisis)](http://people.stern.nyu.edu/lpederse/index.htm)\n",
    "- [Cochrane's Grumpy Economist](http://johnhcochrane.blogspot.com/)\n",
    "- [Diebold's No hesitations](https://fxdiebold.blogspot.com/)\n",
    "- [Dave Giles' Econometrics beat](http://davegiles.blogspot.com/)\n",
    "- [HSE Econometrics](https://www.coursera.org/learn/ekonometrika)\n",
    "- [Practical Time Series Analysis](https://www.coursera.org/learn/practical-time-series-analysis)\n",
    "- Financial Engineering and Risk Management [part 1](https://www.coursera.org/learn/financial-engineering-1) and [part 2](https://www.coursera.org/learn/financial-engineering-2)"
   ]
  }
 ],
 "metadata": {
  "kernelspec": {
   "display_name": "R",
   "language": "R",
   "name": "ir"
  },
  "language_info": {
   "codemirror_mode": "r",
   "file_extension": ".r",
   "mimetype": "text/x-r-source",
   "name": "R",
   "pygments_lexer": "r",
   "version": "3.6.1"
  },
  "toc": {
   "base_numbering": 1,
   "nav_menu": {},
   "number_sections": true,
   "sideBar": true,
   "skip_h1_title": false,
   "title_cell": "Table of Contents",
   "title_sidebar": "Contents",
   "toc_cell": false,
   "toc_position": {},
   "toc_section_display": true,
   "toc_window_display": false
  },
  "varInspector": {
   "cols": {
    "lenName": 16,
    "lenType": 16,
    "lenVar": 40
   },
   "kernels_config": {
    "python": {
     "delete_cmd_postfix": "",
     "delete_cmd_prefix": "del ",
     "library": "var_list.py",
     "varRefreshCmd": "print(var_dic_list())"
    },
    "r": {
     "delete_cmd_postfix": ") ",
     "delete_cmd_prefix": "rm(",
     "library": "var_list.r",
     "varRefreshCmd": "cat(var_dic_list()) "
    }
   },
   "types_to_exclude": [
    "module",
    "function",
    "builtin_function_or_method",
    "instance",
    "_Feature"
   ],
   "window_display": false
  }
 },
 "nbformat": 4,
 "nbformat_minor": 2
}
